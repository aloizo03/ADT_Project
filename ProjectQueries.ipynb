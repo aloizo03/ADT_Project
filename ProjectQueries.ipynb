{
 "cells": [
  {
   "cell_type": "markdown",
   "id": "628d8fb4-8365-44ca-ad88-4d2761797b5f",
   "metadata": {},
   "source": [
    "## Query 1 DataFrame and RDD"
   ]
  },
  {
   "cell_type": "code",
   "execution_count": 1,
   "id": "ab531415-80da-443a-8f09-cf9f9ef77a1b",
   "metadata": {
    "tags": []
   },
   "outputs": [
    {
     "name": "stdout",
     "output_type": "stream",
     "text": [
      "Starting Spark application\n"
     ]
    },
    {
     "data": {
      "text/html": [
       "<table>\n",
       "<tr><th>ID</th><th>YARN Application ID</th><th>Kind</th><th>State</th><th>Spark UI</th><th>Driver log</th><th>User</th><th>Current session?</th></tr><tr><td>2886</td><td>application_1732639283265_2845</td><td>pyspark</td><td>idle</td><td><a target=\"_blank\" href=\"http://ip-192-168-1-36.eu-central-1.compute.internal:20888/proxy/application_1732639283265_2845/\">Link</a></td><td><a target=\"_blank\" href=\"http://ip-192-168-1-193.eu-central-1.compute.internal:8042/node/containerlogs/container_1732639283265_2845_01_000001/livy\">Link</a></td><td>None</td><td>✔</td></tr></table>"
      ],
      "text/plain": [
       "<IPython.core.display.HTML object>"
      ]
     },
     "metadata": {},
     "output_type": "display_data"
    },
    {
     "data": {
      "application/vnd.jupyter.widget-view+json": {
       "model_id": "",
       "version_major": 2,
       "version_minor": 0
      },
      "text/plain": [
       "FloatProgress(value=0.0, bar_style='info', description='Progress:', layout=Layout(height='25px', width='50%'),…"
      ]
     },
     "metadata": {},
     "output_type": "display_data"
    },
    {
     "name": "stdout",
     "output_type": "stream",
     "text": [
      "SparkSession available as 'spark'.\n"
     ]
    },
    {
     "data": {
      "application/vnd.jupyter.widget-view+json": {
       "model_id": "",
       "version_major": 2,
       "version_minor": 0
      },
      "text/plain": [
       "FloatProgress(value=0.0, bar_style='info', description='Progress:', layout=Layout(height='25px', width='50%'),…"
      ]
     },
     "metadata": {},
     "output_type": "display_data"
    }
   ],
   "source": [
    "from pyspark.sql import SparkSession\n",
    "from pathlib import Path\n",
    "from pyspark.sql import DataFrame\n",
    "from pyspark.sql.window import Window\n",
    "from pyspark.sql.functions import to_date, to_timestamp, col, year, month, desc, rank, when, count, lower,row_number, sum, round, avg\n",
    "import time\n",
    "import numpy as np"
   ]
  },
  {
   "cell_type": "code",
   "execution_count": 2,
   "id": "33b7c560-5c96-4859-8e94-427b48e0182f",
   "metadata": {},
   "outputs": [
    {
     "data": {
      "application/vnd.jupyter.widget-view+json": {
       "model_id": "",
       "version_major": 2,
       "version_minor": 0
      },
      "text/plain": [
       "FloatProgress(value=0.0, bar_style='info', description='Progress:', layout=Layout(height='25px', width='50%'),…"
      ]
     },
     "metadata": {},
     "output_type": "display_data"
    },
    {
     "name": "stdout",
     "output_type": "stream",
     "text": [
      "Executor Instances: None\n",
      "Executor Memory: 4743M\n",
      "Executor Cores: 2"
     ]
    }
   ],
   "source": [
    "conf = spark.sparkContext.getConf()\n",
    "\n",
    "# Print relevant executor settings\n",
    "print(\"Executor Instances:\", conf.get(\"spark.executor.instances\"))\n",
    "print(\"Executor Memory:\", conf.get(\"spark.executor.memory\"))\n",
    "print(\"Executor Cores:\", conf.get(\"spark.executor.cores\"))"
   ]
  },
  {
   "cell_type": "code",
   "execution_count": 3,
   "id": "3e1c10d0-3366-4076-8a88-e09ab444f1a9",
   "metadata": {
    "tags": []
   },
   "outputs": [
    {
     "data": {
      "application/vnd.jupyter.widget-view+json": {
       "model_id": "",
       "version_major": 2,
       "version_minor": 0
      },
      "text/plain": [
       "FloatProgress(value=0.0, bar_style='info', description='Progress:', layout=Layout(height='25px', width='50%'),…"
      ]
     },
     "metadata": {},
     "output_type": "display_data"
    }
   ],
   "source": [
    "\n",
    "# Read data\n",
    "spark = SparkSession \\\n",
    "    .builder \\\n",
    "    .appName(\"Query 1 dataframe execution from csv\") \\\n",
    "    .getOrCreate()\n",
    "\n",
    "df1 = spark.read.csv('s3://initial-notebook-data-bucket-dblab-905418150721/CrimeData/Crime_Data_from_2010_to_2019_20241101.csv', header=True)\n",
    "df2 = spark.read.csv('s3://initial-notebook-data-bucket-dblab-905418150721/CrimeData/Crime_Data_from_2020_to_Present_20241101.csv', header=True)\n",
    "\n",
    "# Union all the data\n",
    "df_merged_csv = df1.union(df2).dropDuplicates()\n",
    "\n",
    "df_merged_csv = df_merged_csv.withColumn('Date Rptd', to_timestamp(df_merged_csv['Date Rptd'], 'MM/dd/yyyy hh:mm:ss a'))\n",
    "df_merged_csv = df_merged_csv.withColumn('DATE OCC', to_timestamp(df_merged_csv['DATE OCC'], 'MM/dd/yyyy hh:mm:ss a'))\n",
    "df_merged_csv = df_merged_csv.withColumn(\"Vict Age\", col(\"Vict Age\").cast(\"int\"))\n",
    "df_merged_csv = df_merged_csv.withColumn(\"LAT\", col(\"LAT\").cast(\"double\"))\n",
    "df_merged_csv = df_merged_csv.withColumn(\"LON\", col(\"LON\").cast(\"double\"))\n",
    "df_merged_csv = df_merged_csv.withColumn(\"Crm Cd Desc\", lower(col(\"Crm Cd Desc\")))\n",
    "df_merged_csv = df_merged_csv.withColumn(\"Status Desc\", lower(col(\"Status Desc\")))"
   ]
  },
  {
   "cell_type": "code",
   "execution_count": 4,
   "id": "e20b8c52-8560-4307-bc1c-e4c853e5d493",
   "metadata": {
    "tags": []
   },
   "outputs": [
    {
     "data": {
      "application/vnd.jupyter.widget-view+json": {
       "model_id": "",
       "version_major": 2,
       "version_minor": 0
      },
      "text/plain": [
       "FloatProgress(value=0.0, bar_style='info', description='Progress:', layout=Layout(height='25px', width='50%'),…"
      ]
     },
     "metadata": {},
     "output_type": "display_data"
    }
   ],
   "source": [
    "def query1_df(show_res=True):\n",
    "    df_aggr_assault = df_merged_csv.filter(col(\"Crm Cd Desc\").contains(\"aggravated assault\"))\n",
    "    \n",
    "    # Divide each person to the group age\n",
    "    df_age_groups = df_aggr_assault.withColumn(\n",
    "        \"Age Group\",\n",
    "        when(col(\"Vict Age\") < 18, \"Kids: < 18\")\n",
    "        .when((col(\"Vict Age\") >= 18) & (col(\"Vict Age\") <= 24), \"Young Adults: 18-24\")\n",
    "        .when((col(\"Vict Age\") >= 25) & (col(\"Vict Age\") <= 64), \"Adults: 25-64\")\n",
    "        .otherwise(\"Eldery People: > 64\")\n",
    "    )\n",
    "    \n",
    "    # Count each group age and sort it in desceding order\n",
    "    age_group_counts = df_age_groups.groupBy(\"Age Group\").agg(count(\"*\").alias(\"Victim Count\"))\n",
    "    sorted_age_groups = age_group_counts.orderBy(col(\"Victim Count\").desc())\n",
    "    if show_res:\n",
    "        sorted_age_groups.show()"
   ]
  },
  {
   "cell_type": "code",
   "execution_count": 5,
   "id": "d7386aa9-d2fd-4e2e-957b-0464e36841da",
   "metadata": {
    "tags": []
   },
   "outputs": [
    {
     "data": {
      "application/vnd.jupyter.widget-view+json": {
       "model_id": "",
       "version_major": 2,
       "version_minor": 0
      },
      "text/plain": [
       "FloatProgress(value=0.0, bar_style='info', description='Progress:', layout=Layout(height='25px', width='50%'),…"
      ]
     },
     "metadata": {},
     "output_type": "display_data"
    },
    {
     "name": "stdout",
     "output_type": "stream",
     "text": [
      "[0.09554266929626465, 0.05651450157165527, 0.05931401252746582, 0.07477617263793945, 0.06181502342224121, 0.06507563591003418, 0.06657075881958008, 0.036954402923583984, 0.032987356185913086, 0.03697800636291504]\n",
      "Average execution time: 0.058652853965759276\n",
      "+-------------------+------------+\n",
      "|          Age Group|Victim Count|\n",
      "+-------------------+------------+\n",
      "|      Adults: 25-64|      121093|\n",
      "|Young Adults: 18-24|       33605|\n",
      "|         Kids: < 18|       15928|\n",
      "|Eldery People: > 64|        5985|\n",
      "+-------------------+------------+"
     ]
    }
   ],
   "source": [
    "times_lst = []\n",
    "for i in range(10):\n",
    "    start_time = time.time()\n",
    "    query1_df(show_res=False)\n",
    "    times_lst.append(time.time() - start_time)\n",
    "print(times_lst)\n",
    "print(f'Average execution time: {np.mean(times_lst)}')\n",
    "query1_df()"
   ]
  },
  {
   "cell_type": "code",
   "execution_count": 6,
   "id": "9e75bc68-58c2-419a-8d7c-cfbbc0d0b8fe",
   "metadata": {
    "tags": []
   },
   "outputs": [
    {
     "data": {
      "application/vnd.jupyter.widget-view+json": {
       "model_id": "",
       "version_major": 2,
       "version_minor": 0
      },
      "text/plain": [
       "FloatProgress(value=0.0, bar_style='info', description='Progress:', layout=Layout(height='25px', width='50%'),…"
      ]
     },
     "metadata": {},
     "output_type": "display_data"
    }
   ],
   "source": [
    "def query1_rdd(show_res=True):\n",
    "    # Convert to rdd\n",
    "    rdd = df_merged_csv.rdd\n",
    "    \n",
    "    # Find the tuples where are aggravated assault crimes\n",
    "    filtered_rdd = rdd.filter(lambda row: \"aggravated assault\" in row[\"Crm Cd Desc\"])\n",
    "\n",
    "    # Divide each person to the group age\n",
    "    age_group_rdd = filtered_rdd.map(lambda row: (\n",
    "        \"Kids\" if row[\"Vict Age\"] < 18 else\n",
    "        \"Young Adults\" if 18 <= row[\"Vict Age\"] <= 24 else\n",
    "        \"Adults\" if 25 <= row[\"Vict Age\"] <= 64 else\n",
    "        \"Elderly People\",\n",
    "        1  # Δημιουργούμε ένα ζεύγος (κατηγορία, 1)\n",
    "    ))\n",
    "\n",
    "    # Group by the group age\n",
    "    grouped_rdd = age_group_rdd.reduceByKey(lambda x, y: x + y)\n",
    "\n",
    "    # Order in desceding order\n",
    "    sorted_rdd = grouped_rdd.sortBy(lambda x: x[1], ascending=False)\n",
    "\n",
    "    # Collect all results\n",
    "    results = sorted_rdd.collect()\n",
    "    if show_res:\n",
    "        # Εμφάνιση αποτελεσμάτων\n",
    "        for age_group, Victim_count_ in results:\n",
    "            print(f\"Age Group: {age_group}, Victim Count: {Victim_count_}\")"
   ]
  },
  {
   "cell_type": "code",
   "execution_count": 7,
   "id": "1096e7f0-ea41-4fc6-ac2b-a0fcd74789a0",
   "metadata": {
    "tags": []
   },
   "outputs": [
    {
     "data": {
      "application/vnd.jupyter.widget-view+json": {
       "model_id": "",
       "version_major": 2,
       "version_minor": 0
      },
      "text/plain": [
       "FloatProgress(value=0.0, bar_style='info', description='Progress:', layout=Layout(height='25px', width='50%'),…"
      ]
     },
     "metadata": {},
     "output_type": "display_data"
    },
    {
     "name": "stdout",
     "output_type": "stream",
     "text": [
      "[13.66264820098877, 5.616793155670166, 6.544066905975342, 6.268387794494629, 6.890103816986084, 4.886909246444702, 5.189765691757202, 6.201511383056641, 7.502830982208252, 6.399510145187378]\n",
      "Average execution time: 6.9162527322769165\n",
      "Age Group: Adults, Victim Count: 121093\n",
      "Age Group: Young Adults, Victim Count: 33605\n",
      "Age Group: Kids, Victim Count: 15928\n",
      "Age Group: Elderly People, Victim Count: 5985"
     ]
    }
   ],
   "source": [
    "times_lst = []\n",
    "for i in range(10):\n",
    "    start_time = time.time()\n",
    "    query1_rdd(show_res=False)\n",
    "    times_lst.append(time.time() - start_time)\n",
    "print(times_lst)\n",
    "print(f'Average execution time: {np.mean(times_lst)}')\n",
    "query1_rdd()"
   ]
  },
  {
   "cell_type": "markdown",
   "id": "0e2a38e4-6c86-4ac3-8b87-1cb7ee7d610b",
   "metadata": {},
   "source": [
    "## Query 2 DataFrame\n"
   ]
  },
  {
   "cell_type": "code",
   "execution_count": 8,
   "id": "b9e765d9-3d88-4ef0-82f8-940a35b172a6",
   "metadata": {
    "tags": []
   },
   "outputs": [
    {
     "data": {
      "application/vnd.jupyter.widget-view+json": {
       "model_id": "",
       "version_major": 2,
       "version_minor": 0
      },
      "text/plain": [
       "FloatProgress(value=0.0, bar_style='info', description='Progress:', layout=Layout(height='25px', width='50%'),…"
      ]
     },
     "metadata": {},
     "output_type": "display_data"
    }
   ],
   "source": [
    "spark = SparkSession \\\n",
    "    .builder \\\n",
    "    .appName(\"Query 2 dataframe and SQL execution from csv\") \\\n",
    "    .getOrCreate()\n",
    "\n",
    "df1 = spark.read.csv('s3://initial-notebook-data-bucket-dblab-905418150721/CrimeData/Crime_Data_from_2010_to_2019_20241101.csv', header=True)\n",
    "df2 = spark.read.csv('s3://initial-notebook-data-bucket-dblab-905418150721/CrimeData/Crime_Data_from_2020_to_Present_20241101.csv', header=True)\n",
    "\n",
    "# Union all the data\n",
    "df_merged_csv = df1.union(df2).dropDuplicates()\n",
    "\n",
    "df_merged_csv = df_merged_csv.withColumn('Date Rptd', to_timestamp(df_merged_csv['Date Rptd'], 'MM/dd/yyyy hh:mm:ss a'))\n",
    "df_merged_csv = df_merged_csv.withColumn('DATE OCC', to_timestamp(df_merged_csv['DATE OCC'], 'MM/dd/yyyy hh:mm:ss a'))\n",
    "df_merged_csv = df_merged_csv.withColumn(\"Vict Age\", col(\"Vict Age\").cast(\"int\"))\n",
    "df_merged_csv = df_merged_csv.withColumn(\"LAT\", col(\"LAT\").cast(\"double\"))\n",
    "df_merged_csv = df_merged_csv.withColumn(\"LON\", col(\"LON\").cast(\"double\"))\n",
    "df_merged_csv = df_merged_csv.withColumn(\"Crm Cd Desc\", lower(col(\"Crm Cd Desc\")))\n",
    "df_merged_csv = df_merged_csv.withColumn(\"Status Desc\", lower(col(\"Status Desc\")))\n",
    "\n",
    "df_merged_csv = df_merged_csv.withColumn('Year', year('DATE OCC'))\n",
    "df_merged_csv = df_merged_csv.withColumn('Year', year('DATE OCC'))"
   ]
  },
  {
   "cell_type": "code",
   "execution_count": 9,
   "id": "40c868c5-2cb6-4cbe-94d4-c2f1fbb5f2cd",
   "metadata": {
    "tags": []
   },
   "outputs": [
    {
     "data": {
      "application/vnd.jupyter.widget-view+json": {
       "model_id": "",
       "version_major": 2,
       "version_minor": 0
      },
      "text/plain": [
       "FloatProgress(value=0.0, bar_style='info', description='Progress:', layout=Layout(height='25px', width='50%'),…"
      ]
     },
     "metadata": {},
     "output_type": "display_data"
    }
   ],
   "source": [
    "def query_2_dataframe(df, show_res=True):\n",
    "    \n",
    "    # Find all the closed cased\n",
    "    df_with_closed_case = df.withColumn(\"IsClosedCase\", when(~col(\"Status Desc\").isin(\"unk\", \"invest cont\"), 1).otherwise(0))\n",
    "    \n",
    "    # Group by the Year and the Area \n",
    "    df_counts = df_with_closed_case.groupBy(\"Year\", \"AREA NAME\").agg(count(\"*\").alias(\"TotalCases\"), sum(\"IsClosedCase\").alias(\"ClosedCases\"))\n",
    "    \n",
    "    # Found the percentage of the closed Rate per area\n",
    "    df_counts = df_counts.withColumn(\"ClosedCaseRate\", round((col(\"ClosedCases\") / col(\"TotalCases\")) * 100, 2))\n",
    "    \n",
    "    # Using windowing on the year we order on the desceding order using the close case order\n",
    "    window_per_year = Window.partitionBy(\"Year\").orderBy(col(\"ClosedCaseRate\").desc())\n",
    "    \n",
    "    # Using the windowing we found the rank for each area\n",
    "    df_ranked = df_counts.withColumn(\"Rank\", row_number().over(window_per_year))\n",
    "    \n",
    "    # Keep the top 3 ranked area per Year\n",
    "    df_top3 = df_ranked.filter(col(\"Rank\") <= 3)\n",
    "    \n",
    "    # Ordering based the year on Asceding order and after that based on rank on asceding order\n",
    "    df_sorted = df_top3.orderBy(col(\"Year\").asc(), col(\"Rank\").asc())\n",
    "    if show_res:\n",
    "        df_sorted.show(50)"
   ]
  },
  {
   "cell_type": "code",
   "execution_count": 10,
   "id": "1db1409f-4698-4c72-9828-7de58bd50a77",
   "metadata": {
    "tags": []
   },
   "outputs": [
    {
     "data": {
      "application/vnd.jupyter.widget-view+json": {
       "model_id": "",
       "version_major": 2,
       "version_minor": 0
      },
      "text/plain": [
       "FloatProgress(value=0.0, bar_style='info', description='Progress:', layout=Layout(height='25px', width='50%'),…"
      ]
     },
     "metadata": {},
     "output_type": "display_data"
    },
    {
     "name": "stdout",
     "output_type": "stream",
     "text": [
      "[0.0997164249420166, 0.06797242164611816, 0.05283188819885254, 0.06730365753173828, 0.0676872730255127, 0.05988359451293945, 0.04870343208312988, 0.04543328285217285, 0.059610843658447266, 0.0611264705657959]\n",
      "Average execution time: 0.06302692890167236\n",
      "+----+-----------+----------+-----------+--------------+----+\n",
      "|Year|  AREA NAME|TotalCases|ClosedCases|ClosedCaseRate|Rank|\n",
      "+----+-----------+----------+-----------+--------------+----+\n",
      "|2010|    Rampart|      8707|       2860|         32.85|   1|\n",
      "|2010|    Olympic|      8764|       2762|         31.52|   2|\n",
      "|2010|     Harbor|      9598|       2818|         29.36|   3|\n",
      "|2011|    Olympic|      7988|       2799|         35.04|   1|\n",
      "|2011|    Rampart|      8444|       2744|          32.5|   2|\n",
      "|2011|     Harbor|      9841|       2806|         28.51|   3|\n",
      "|2012|    Olympic|      8543|       2930|          34.3|   1|\n",
      "|2012|    Rampart|      8626|       2800|         32.46|   2|\n",
      "|2012|     Harbor|      9441|       2786|         29.51|   3|\n",
      "|2013|    Olympic|      8305|       2789|         33.58|   1|\n",
      "|2013|    Rampart|      8148|       2616|         32.11|   2|\n",
      "|2013|     Harbor|      8431|       2506|         29.72|   3|\n",
      "|2014|   Van Nuys|      9478|       3035|         32.02|   1|\n",
      "|2014|West Valley|      7953|       2505|          31.5|   2|\n",
      "|2014|    Mission|      9976|       3115|         31.22|   3|\n",
      "|2015|   Van Nuys|     10485|       3383|         32.27|   1|\n",
      "|2015|    Mission|     10652|       3245|         30.46|   2|\n",
      "|2015|   Foothill|      7762|       2356|         30.35|   3|\n",
      "|2016|   Van Nuys|     10508|       3383|         32.19|   1|\n",
      "|2016|West Valley|      9697|       3045|          31.4|   2|\n",
      "|2016|   Foothill|      7991|       2390|         29.91|   3|\n",
      "|2017|   Van Nuys|     10825|       3470|         32.06|   1|\n",
      "|2017|    Mission|     10887|       3381|         31.06|   2|\n",
      "|2017|   Foothill|      8218|       2504|         30.47|   3|\n",
      "|2018|   Foothill|      8122|       2496|         30.73|   1|\n",
      "|2018|    Mission|     10206|       3136|         30.73|   2|\n",
      "|2018|   Van Nuys|     10486|       3031|         28.91|   3|\n",
      "|2019|    Mission|      9197|       2826|         30.73|   1|\n",
      "|2019|West Valley|      8728|       2669|         30.58|   2|\n",
      "|2019|N Hollywood|     11143|       3258|         29.24|   3|\n",
      "|2020|West Valley|      8092|       2490|         30.77|   1|\n",
      "|2020|    Mission|      8481|       2557|         30.15|   2|\n",
      "|2020|     Harbor|      8874|       2635|         29.69|   3|\n",
      "|2021|    Mission|      8236|       2497|         30.32|   1|\n",
      "|2021|West Valley|      8543|       2475|         28.97|   2|\n",
      "|2021|   Foothill|      7048|       1973|         27.99|   3|\n",
      "|2022|West Valley|     10284|       2729|         26.54|   1|\n",
      "|2022|     Harbor|      9196|       2422|         26.34|   2|\n",
      "|2022|    Topanga|      9461|       2482|         26.23|   3|\n",
      "|2023|   Foothill|      7156|       1915|         26.76|   1|\n",
      "|2023|    Topanga|      9639|       2558|         26.54|   2|\n",
      "|2023|    Mission|      8978|       2304|         25.66|   3|\n",
      "|2024|N Hollywood|      6526|       1279|          19.6|   1|\n",
      "|2024|   Foothill|      3582|        667|         18.62|   2|\n",
      "|2024|77th Street|      6198|       1090|         17.59|   3|\n",
      "+----+-----------+----------+-----------+--------------+----+"
     ]
    }
   ],
   "source": [
    "times_lst = []\n",
    "for i in range(10):\n",
    "    start_time = time.time()\n",
    "    query_2_dataframe(df_merged_csv, show_res=False)\n",
    "    times_lst.append(time.time() - start_time)\n",
    "print(times_lst)\n",
    "print(f'Average execution time: {np.mean(times_lst)}')\n",
    "query_2_dataframe(df_merged_csv, show_res=True)"
   ]
  },
  {
   "cell_type": "code",
   "execution_count": 11,
   "id": "571b620a-9b0f-48f9-a56b-ae9475c58162",
   "metadata": {
    "tags": []
   },
   "outputs": [
    {
     "data": {
      "application/vnd.jupyter.widget-view+json": {
       "model_id": "",
       "version_major": 2,
       "version_minor": 0
      },
      "text/plain": [
       "FloatProgress(value=0.0, bar_style='info', description='Progress:', layout=Layout(height='25px', width='50%'),…"
      ]
     },
     "metadata": {},
     "output_type": "display_data"
    }
   ],
   "source": [
    "# Sql implementation\n",
    "def query_2_SQL(df, show_res=True):\n",
    "    # Created a tamplete view on the dataframe\n",
    "    df.createOrReplaceTempView(\"CrimeData\")\n",
    "    # SQL Query\n",
    "    final_query = \"\"\"\n",
    "    WITH CaseStats AS (\n",
    "        SELECT \n",
    "            Year,\n",
    "            `AREA NAME` AS AreaName,\n",
    "            COUNT(*) AS TotalCases,\n",
    "            SUM(CASE WHEN `Status Desc` NOT IN ('unk', 'invest cont') THEN 1 ELSE 0 END) AS ClosedCases,\n",
    "            ROUND(SUM(CASE WHEN `Status Desc` NOT IN ('unk', 'invest cont') THEN 1 ELSE 0 END) * 100.0 / COUNT(*), 2) AS ClosedCaseRate\n",
    "        FROM CrimeData\n",
    "        GROUP BY Year, `AREA NAME`\n",
    "    ),\n",
    "    RankedStats AS (\n",
    "        SELECT \n",
    "            Year,\n",
    "            AreaName,\n",
    "            TotalCases,\n",
    "            ClosedCases,\n",
    "            ClosedCaseRate,\n",
    "            ROW_NUMBER() OVER (PARTITION BY Year ORDER BY ClosedCaseRate DESC) AS Rank\n",
    "        FROM CaseStats\n",
    "    )\n",
    "    SELECT \n",
    "        Year,\n",
    "        AreaName,\n",
    "        TotalCases,\n",
    "        ClosedCases,\n",
    "        ClosedCaseRate,\n",
    "        Rank\n",
    "    FROM RankedStats\n",
    "    WHERE Rank <= 3\n",
    "    ORDER BY Year ASC, Rank ASC\n",
    "    \"\"\"\n",
    "\n",
    "    # Execute the query\n",
    "    df_result = spark.sql(final_query)\n",
    "\n",
    "    if show_res:\n",
    "        # Display the result\n",
    "        df_result.show(50)\n"
   ]
  },
  {
   "cell_type": "code",
   "execution_count": 12,
   "id": "89d32698-19cf-4bc5-8b6a-8108ad6d71b5",
   "metadata": {
    "tags": []
   },
   "outputs": [
    {
     "data": {
      "application/vnd.jupyter.widget-view+json": {
       "model_id": "",
       "version_major": 2,
       "version_minor": 0
      },
      "text/plain": [
       "FloatProgress(value=0.0, bar_style='info', description='Progress:', layout=Layout(height='25px', width='50%'),…"
      ]
     },
     "metadata": {},
     "output_type": "display_data"
    },
    {
     "name": "stdout",
     "output_type": "stream",
     "text": [
      "[0.24744963645935059, 0.04794168472290039, 0.039650917053222656, 0.032019615173339844, 0.038684844970703125, 0.039374589920043945, 0.039406776428222656, 0.03660869598388672, 0.034066200256347656, 0.03194475173950195]\n",
      "Average execution time: 0.058714771270751955\n",
      "+----+-----------+----------+-----------+--------------+----+\n",
      "|Year|   AreaName|TotalCases|ClosedCases|ClosedCaseRate|Rank|\n",
      "+----+-----------+----------+-----------+--------------+----+\n",
      "|2010|    Rampart|      8707|       2860|         32.85|   1|\n",
      "|2010|    Olympic|      8764|       2762|         31.52|   2|\n",
      "|2010|     Harbor|      9598|       2818|         29.36|   3|\n",
      "|2011|    Olympic|      7988|       2799|         35.04|   1|\n",
      "|2011|    Rampart|      8444|       2744|         32.50|   2|\n",
      "|2011|     Harbor|      9841|       2806|         28.51|   3|\n",
      "|2012|    Olympic|      8543|       2930|         34.30|   1|\n",
      "|2012|    Rampart|      8626|       2800|         32.46|   2|\n",
      "|2012|     Harbor|      9441|       2786|         29.51|   3|\n",
      "|2013|    Olympic|      8305|       2789|         33.58|   1|\n",
      "|2013|    Rampart|      8148|       2616|         32.11|   2|\n",
      "|2013|     Harbor|      8431|       2506|         29.72|   3|\n",
      "|2014|   Van Nuys|      9478|       3035|         32.02|   1|\n",
      "|2014|West Valley|      7953|       2505|         31.50|   2|\n",
      "|2014|    Mission|      9976|       3115|         31.22|   3|\n",
      "|2015|   Van Nuys|     10485|       3383|         32.27|   1|\n",
      "|2015|    Mission|     10652|       3245|         30.46|   2|\n",
      "|2015|   Foothill|      7762|       2356|         30.35|   3|\n",
      "|2016|   Van Nuys|     10508|       3383|         32.19|   1|\n",
      "|2016|West Valley|      9697|       3045|         31.40|   2|\n",
      "|2016|   Foothill|      7991|       2390|         29.91|   3|\n",
      "|2017|   Van Nuys|     10825|       3470|         32.06|   1|\n",
      "|2017|    Mission|     10887|       3381|         31.06|   2|\n",
      "|2017|   Foothill|      8218|       2504|         30.47|   3|\n",
      "|2018|   Foothill|      8122|       2496|         30.73|   1|\n",
      "|2018|    Mission|     10206|       3136|         30.73|   2|\n",
      "|2018|   Van Nuys|     10486|       3031|         28.91|   3|\n",
      "|2019|    Mission|      9197|       2826|         30.73|   1|\n",
      "|2019|West Valley|      8728|       2669|         30.58|   2|\n",
      "|2019|N Hollywood|     11143|       3258|         29.24|   3|\n",
      "|2020|West Valley|      8092|       2490|         30.77|   1|\n",
      "|2020|    Mission|      8481|       2557|         30.15|   2|\n",
      "|2020|     Harbor|      8874|       2635|         29.69|   3|\n",
      "|2021|    Mission|      8236|       2497|         30.32|   1|\n",
      "|2021|West Valley|      8543|       2475|         28.97|   2|\n",
      "|2021|   Foothill|      7048|       1973|         27.99|   3|\n",
      "|2022|West Valley|     10284|       2729|         26.54|   1|\n",
      "|2022|     Harbor|      9196|       2422|         26.34|   2|\n",
      "|2022|    Topanga|      9461|       2482|         26.23|   3|\n",
      "|2023|   Foothill|      7156|       1915|         26.76|   1|\n",
      "|2023|    Topanga|      9639|       2558|         26.54|   2|\n",
      "|2023|    Mission|      8978|       2304|         25.66|   3|\n",
      "|2024|N Hollywood|      6526|       1279|         19.60|   1|\n",
      "|2024|   Foothill|      3582|        667|         18.62|   2|\n",
      "|2024|77th Street|      6198|       1090|         17.59|   3|\n",
      "+----+-----------+----------+-----------+--------------+----+"
     ]
    }
   ],
   "source": [
    "times_lst = []\n",
    "for i in range(10):\n",
    "    start_time = time.time()\n",
    "    query_2_SQL(df_merged_csv, show_res=False)\n",
    "    times_lst.append(time.time() - start_time)\n",
    "print(times_lst)\n",
    "print(f'Average execution time: {np.mean(times_lst)}')\n",
    "query_2_SQL(df_merged_csv, show_res=True)"
   ]
  },
  {
   "cell_type": "code",
   "execution_count": 13,
   "id": "9e567cfa-e8cc-4795-8d19-45a5098997e4",
   "metadata": {
    "tags": []
   },
   "outputs": [
    {
     "data": {
      "application/vnd.jupyter.widget-view+json": {
       "model_id": "",
       "version_major": 2,
       "version_minor": 0
      },
      "text/plain": [
       "FloatProgress(value=0.0, bar_style='info', description='Progress:', layout=Layout(height='25px', width='50%'),…"
      ]
     },
     "metadata": {},
     "output_type": "display_data"
    }
   ],
   "source": [
    "group_number = \"32\"\n",
    "s3_path = \"s3://groups-bucket-dblab-905418150721/group\"+group_number+\"/assigment_parquet_files/\"\n",
    "\n",
    "\n",
    "df_parquet_file = spark.read.parquet(s3_path+\"criminal_parquet.parquet\")\n"
   ]
  },
  {
   "cell_type": "code",
   "execution_count": 14,
   "id": "41bbd0a7-42e1-40a3-ab68-ac8ebda28c18",
   "metadata": {
    "tags": []
   },
   "outputs": [
    {
     "data": {
      "application/vnd.jupyter.widget-view+json": {
       "model_id": "",
       "version_major": 2,
       "version_minor": 0
      },
      "text/plain": [
       "FloatProgress(value=0.0, bar_style='info', description='Progress:', layout=Layout(height='25px', width='50%'),…"
      ]
     },
     "metadata": {},
     "output_type": "display_data"
    },
    {
     "name": "stdout",
     "output_type": "stream",
     "text": [
      "[0.09162378311157227, 0.05196857452392578, 0.05146384239196777, 0.06023216247558594, 0.040825605392456055, 0.04323244094848633, 0.03979945182800293, 0.053380727767944336, 0.041522979736328125, 0.03822016716003418]\n",
      "Average execution time: 0.05122697353363037\n",
      "+----+-----------+----------+-----------+--------------+----+\n",
      "|Year|  AREA NAME|TotalCases|ClosedCases|ClosedCaseRate|Rank|\n",
      "+----+-----------+----------+-----------+--------------+----+\n",
      "|2010|    Rampart|      8707|       2860|         32.85|   1|\n",
      "|2010|    Olympic|      8764|       2762|         31.52|   2|\n",
      "|2010|     Harbor|      9598|       2818|         29.36|   3|\n",
      "|2011|    Olympic|      7988|       2799|         35.04|   1|\n",
      "|2011|    Rampart|      8444|       2744|          32.5|   2|\n",
      "|2011|     Harbor|      9841|       2806|         28.51|   3|\n",
      "|2012|    Olympic|      8543|       2930|          34.3|   1|\n",
      "|2012|    Rampart|      8626|       2800|         32.46|   2|\n",
      "|2012|     Harbor|      9441|       2786|         29.51|   3|\n",
      "|2013|    Olympic|      8305|       2789|         33.58|   1|\n",
      "|2013|    Rampart|      8148|       2616|         32.11|   2|\n",
      "|2013|     Harbor|      8431|       2506|         29.72|   3|\n",
      "|2014|   Van Nuys|      9478|       3035|         32.02|   1|\n",
      "|2014|West Valley|      7953|       2505|          31.5|   2|\n",
      "|2014|    Mission|      9976|       3115|         31.22|   3|\n",
      "|2015|   Van Nuys|     10485|       3383|         32.27|   1|\n",
      "|2015|    Mission|     10652|       3245|         30.46|   2|\n",
      "|2015|   Foothill|      7762|       2356|         30.35|   3|\n",
      "|2016|   Van Nuys|     10508|       3383|         32.19|   1|\n",
      "|2016|West Valley|      9697|       3045|          31.4|   2|\n",
      "|2016|   Foothill|      7991|       2390|         29.91|   3|\n",
      "|2017|   Van Nuys|     10825|       3470|         32.06|   1|\n",
      "|2017|    Mission|     10887|       3381|         31.06|   2|\n",
      "|2017|   Foothill|      8218|       2504|         30.47|   3|\n",
      "|2018|   Foothill|      8122|       2496|         30.73|   1|\n",
      "|2018|    Mission|     10206|       3136|         30.73|   2|\n",
      "|2018|   Van Nuys|     10486|       3031|         28.91|   3|\n",
      "|2019|    Mission|      9197|       2826|         30.73|   1|\n",
      "|2019|West Valley|      8728|       2669|         30.58|   2|\n",
      "|2019|N Hollywood|     11143|       3258|         29.24|   3|\n",
      "|2020|West Valley|      8092|       2490|         30.77|   1|\n",
      "|2020|    Mission|      8481|       2557|         30.15|   2|\n",
      "|2020|     Harbor|      8874|       2635|         29.69|   3|\n",
      "|2021|    Mission|      8236|       2497|         30.32|   1|\n",
      "|2021|West Valley|      8543|       2475|         28.97|   2|\n",
      "|2021|   Foothill|      7048|       1973|         27.99|   3|\n",
      "|2022|West Valley|     10284|       2729|         26.54|   1|\n",
      "|2022|     Harbor|      9196|       2422|         26.34|   2|\n",
      "|2022|    Topanga|      9461|       2482|         26.23|   3|\n",
      "|2023|   Foothill|      7156|       1915|         26.76|   1|\n",
      "|2023|    Topanga|      9639|       2558|         26.54|   2|\n",
      "|2023|    Mission|      8978|       2304|         25.66|   3|\n",
      "|2024|N Hollywood|      6526|       1279|          19.6|   1|\n",
      "|2024|   Foothill|      3582|        667|         18.62|   2|\n",
      "|2024|77th Street|      6198|       1090|         17.59|   3|\n",
      "+----+-----------+----------+-----------+--------------+----+"
     ]
    }
   ],
   "source": [
    "times_lst = []\n",
    "for i in range(10):\n",
    "    start_time = time.time()\n",
    "    query_2_dataframe(df_merged_csv, show_res=False)\n",
    "    times_lst.append(time.time() - start_time)\n",
    "print(times_lst)\n",
    "print(f'Average execution time: {np.mean(times_lst)}')\n",
    "query_2_dataframe(df_merged_csv, show_res=True)\n"
   ]
  },
  {
   "cell_type": "markdown",
   "id": "425b38fb-560b-45a7-802f-44287596a08c",
   "metadata": {},
   "source": [
    "#### Query 3"
   ]
  },
  {
   "cell_type": "code",
   "execution_count": 15,
   "id": "c6f52429-7437-4a84-98bc-aa785346646c",
   "metadata": {
    "tags": []
   },
   "outputs": [
    {
     "data": {
      "application/vnd.jupyter.widget-view+json": {
       "model_id": "",
       "version_major": 2,
       "version_minor": 0
      },
      "text/plain": [
       "FloatProgress(value=0.0, bar_style='info', description='Progress:', layout=Layout(height='25px', width='50%'),…"
      ]
     },
     "metadata": {},
     "output_type": "display_data"
    }
   ],
   "source": [
    "from sedona.spark import *"
   ]
  },
  {
   "cell_type": "code",
   "execution_count": 16,
   "id": "c66ec5ce-3b74-472f-bc6d-bb35ace5a647",
   "metadata": {
    "tags": []
   },
   "outputs": [
    {
     "data": {
      "application/vnd.jupyter.widget-view+json": {
       "model_id": "",
       "version_major": 2,
       "version_minor": 0
      },
      "text/plain": [
       "FloatProgress(value=0.0, bar_style='info', description='Progress:', layout=Layout(height='25px', width='50%'),…"
      ]
     },
     "metadata": {},
     "output_type": "display_data"
    }
   ],
   "source": [
    "def query_3_join(show_res=True):\n",
    "    spark = SparkSession.builder \\\n",
    "        .appName(\"Query 3\") \\\n",
    "        .getOrCreate()\n",
    "\n",
    "    sedona = SedonaContext.create(spark)\n",
    "\n",
    "    # Read the file from s3\n",
    "    geojson_path = \"s3://initial-notebook-data-bucket-dblab-905418150721/2010_Census_Blocks.geojson\"\n",
    "    blocks_df = sedona.read.format(\"geojson\") \\\n",
    "                .option(\"multiLine\", \"true\").load(geojson_path) \\\n",
    "                .selectExpr(\"explode(features) as features\") \\\n",
    "                .select(\"features.*\")\n",
    "    # Formatting magic\n",
    "    flattened_df = blocks_df.select( \\\n",
    "                    [col(f\"properties.{col_name}\").alias(col_name) for col_name in \\\n",
    "                    blocks_df.schema[\"properties\"].dataType.fieldNames()] + [\"geometry\"]) \\\n",
    "                .drop(\"properties\") \\\n",
    "                .drop(\"type\")\n",
    "        \n",
    "    flattend_df = flattened_df.withColumn(\"ZCTA10\", col(\"ZCTA10\").cast(\"int\"))\n",
    "    # Keep only the data from Los Angeles and rename the Zip Code column name for better usabillity \n",
    "    flattend_df_LA = flattened_df.filter(col(\"CITY\") == \"Los Angeles\") \\\n",
    "                .withColumnRenamed(\"ZCTA10\", \"ZIP Code\")\n",
    "\n",
    "    group_number = \"32\"\n",
    "    s3_path = \"s3://groups-bucket-dblab-905418150721/group\"+group_number+\"/assigment_parquet_files/\"\n",
    "\n",
    "\n",
    "    df_income_parquet = spark.read.parquet(s3_path+\"LA_Income.parquet\")\n",
    "    df_income_parquet.select(\"Zip Code\", \"Estimated Median Income\")\n",
    "    \n",
    "    # Joining the 2010 census data for population with the 2015 income data based the Zip Code and Calculate the Estimated Income \n",
    "    df_join = flattend_df_LA.join(df_income_parquet,'Zip Code', \"inner\").withColumn(\"EstimatedIncome\", col(\"Estimated Median Income\")*col(\"HOUSING10\")) \\\n",
    "                .groupBy(\"COMM\") \\\n",
    "                .agg(ST_Union_Aggr(\"geometry\").alias(\"geometry\"), sum(\"POP_2010\").alias(\"Population\"), sum(\"EstimatedIncome\").alias(\"EstimatedIncome\")) \\\n",
    "                .withColumn(\"PersonalMeanIncome\", col(\"EstimatedIncome\")/col(\"Population\"))\n",
    "    group_number = \"32\"\n",
    "    s3_path = \"s3://groups-bucket-dblab-905418150721/group\"+group_number+\"/assigment_parquet_files/\"\n",
    "\n",
    "\n",
    "    df_parquet_file = spark.read.parquet(s3_path+\"criminal_parquet.parquet\")\n",
    "    \n",
    "    # Each Lon and Lat point conver to ST_Point\n",
    "    df_crime_Geom = df_parquet_file.withColumn(\"point\", ST_Point(\"LON\", \"LAT\"))\n",
    "    # Join by find the closest area between the Lat and Lon on the polygon geom point \n",
    "    df_join2 = df_join.join(df_crime_Geom, ST_Within(df_crime_Geom.point, df_join.geometry), \"inner\")\n",
    "    \n",
    "    # Find the Total Crimes per area and calculate the Average Crimes per area\n",
    "    df_final = df_join2.groupby(\"COMM\", \"PersonalMeanIncome\", \"Population\") \\\n",
    "                    .agg(count(\"*\").alias(\"TotalCrimes\")) \\\n",
    "                    .withColumn(\"Average Crimes\", col(\"TotalCrimes\")/col(\"Population\"))\n",
    "    if show_res:\n",
    "        df_final.show(100)"
   ]
  },
  {
   "cell_type": "code",
   "execution_count": 17,
   "id": "163c5d2a-e955-4cb9-a345-d36246b89b6d",
   "metadata": {
    "tags": []
   },
   "outputs": [
    {
     "data": {
      "application/vnd.jupyter.widget-view+json": {
       "model_id": "",
       "version_major": 2,
       "version_minor": 0
      },
      "text/plain": [
       "FloatProgress(value=0.0, bar_style='info', description='Progress:', layout=Layout(height='25px', width='50%'),…"
      ]
     },
     "metadata": {},
     "output_type": "display_data"
    },
    {
     "name": "stdout",
     "output_type": "stream",
     "text": [
      "[5.360411882400513, 4.317512035369873, 4.002609968185425, 4.486432313919067, 3.5285050868988037, 4.4200356006622314, 3.5619730949401855, 3.511436939239502, 4.218752384185791, 3.783787727355957]\n",
      "Average execution time: 4.119145703315735\n",
      "+--------------------+------------------+----------+-----------+-------------------+\n",
      "|                COMM|PersonalMeanIncome|Population|TotalCrimes|     Average Crimes|\n",
      "+--------------------+------------------+----------+-----------+-------------------+\n",
      "|   Faircrest Heights|20908.511762997387|      3443|       4408| 1.2802788266047052|\n",
      "|           Los Feliz|30473.013522716217|     20558|      18659| 0.9076272010896002|\n",
      "|    Cadillac-Corning|19572.784696174043|      6665|       4445| 0.6669167291822956|\n",
      "|              Venice|47614.883340996166|     32625|      40942| 1.2549272030651342|\n",
      "|      Vermont Square| 8329.565791341376|      7045|       5634| 0.7997161107168205|\n",
      "|  Century Palms/Cove| 8552.220122507493|     30692|      38877| 1.2666818714974586|\n",
      "|            Mid-city| 21734.64899923286|     14339|      11574| 0.8071692586651789|\n",
      "|    University Hills| 11766.36404207842|      3137|       1078| 0.3436404207841887|\n",
      "|    West Los Angeles| 39714.00529781941|     34165|      28397| 0.8311722523049905|\n",
      "|     Exposition Park| 8956.490471182702|     38987|      40814|  1.046861774437633|\n",
      "|          West Hills|28761.284715519265|     38333|      18527| 0.4833172462369238|\n",
      "|        Harbor Pines|  19236.6966651439|      2189|       1220| 0.5573321151210598|\n",
      "|   Country Club Park|15774.632805995005|     14412|      10536| 0.7310574521232306|\n",
      "|         Westchester|  33988.4574421559|     48017|      57124| 1.1896619947102067|\n",
      "|   Mandeville Canyon| 55572.10949582431|      3233|        848|0.26229508196721313|\n",
      "|           Koreatown|13588.462578974624|     48275|      37527| 0.7773588814085965|\n",
      "|      Woodland Hills| 37616.88672183443|     63322|      44940| 0.7097059473800574|\n",
      "|       Beverly Crest| 60947.49019768682|     12191|       4527| 0.3713395127553113|\n",
      "|             Del Rey|33675.359382921706|     27614|      15432| 0.5588469616861013|\n",
      "|             Pacoima|11699.015375846486|     73687|      40739| 0.5528654986632648|\n",
      "|           San Pedro|24244.561240141717|     73669|      57101| 0.7751021460858706|\n",
      "|Historic Filipino...|15175.546139359698|     13275|      11127| 0.8381920903954803|\n",
      "|       South Carthay|39831.340037649854|     10093|       7299|  0.723174477360547|\n",
      "| Palisades Highlands| 66867.43986433603|      3833|        788| 0.2055830941821028|\n",
      "|      Vermont Knolls|10499.293860175081|     16678|      20367|  1.221189591078067|\n",
      "|         Rancho Park|38740.063860206516|      6295|       7902| 1.2552819698173154|\n",
      "|          Chatsworth|30580.876526106156|     34647|      23963|  0.691632753196525|\n",
      "|           Echo Park| 21598.36342999414|     13656|       9954| 0.7289103690685413|\n",
      "|           Thai Town| 26851.47272727273|      9350|       4961| 0.5305882352941177|\n",
      "|  Cloverdale/Cochran|14660.930872291905|     14032|       9934| 0.7079532497149373|\n",
      "|          South Park| 6943.255564343012|     35404|      31378| 0.8862840357021805|\n",
      "|    Lafayette Square|16700.833409821018|      4358|       3982| 0.9137218907755851|\n",
      "|          Northridge|22909.936328320196|     62037|      49585| 0.7992810741976563|\n",
      "|   Manchester Square|14589.573905662664|      8247|       8987| 1.0897295986419304|\n",
      "|      Temple-Beaudry|14815.406344865309|     36565|      26923| 0.7363052099001778|\n",
      "|         Beverlywood|  29267.8210229561|     12415|       6471|  0.521224325412807|\n",
      "|              Arleta|12110.779170215355|     32876|      14542| 0.4423287504562599|\n",
      "|               Watts| 7754.242176664901|     39657|      39461| 0.9950576190836422|\n",
      "|     Wilshire Center| 15965.02522465377|     47295|      40843| 0.8635796595834655|\n",
      "|Angeles National ...|          28117.65|        20|        227|              11.35|\n",
      "|           Chinatown| 14058.45616777387|      7677|       9645| 1.2563501367721766|\n",
      "|              Sylmar|16311.074419025228|     77413|      40078| 0.5177166625760531|\n",
      "|        Little Tokyo|15281.623154164206|      3386|      13614|  4.020673360897814|\n",
      "|       Granada Hills|27608.016856376424|     55172|      31903| 0.5782462118465889|\n",
      "|         Studio City| 44049.85263005362|     20703|      19245| 0.9295754238516157|\n",
      "|       Green Meadows| 8027.096412895414|     19821|      23975| 1.2095757025377125|\n",
      "|        Century City|46103.510597140456|     11890|      10176| 0.8558452481076535|\n",
      "|            Westlake|10117.443537464767|     54638|      54794| 1.0028551557524068|\n",
      "|    Lakeview Terrace|15991.256902570613|     12604|       7857| 0.6233735322119962|\n",
      "|     Sycamore Square|30116.823622047243|       635|        716| 1.1275590551181103|\n",
      "|      Jefferson Park|10258.852338413031|      7612|       5194| 0.6823436678928009|\n",
      "|           Hollywood|25648.050759469334|     62412|      96810| 1.5511440107671601|\n",
      "|             Bel Air| 63041.33809466166|      8261|       3532| 0.4275511439293064|\n",
      "|     Atwater Village|28477.197361889226|     14101|       9696| 0.6876108077441316|\n",
      "|     North Hollywood|17301.439127869406|    142364|     114090| 0.8013964204433706|\n",
      "|     Lincoln Heights|10902.134793218598|     31144|      19391| 0.6226239404058567|\n",
      "|         North Hills|16224.486385809312|     56375|      36929|  0.655059866962306|\n",
      "|          Wilmington|11169.220314136126|     52525|      39582| 0.7535840076154212|\n",
      "|        Hancock Park|21538.793404898115|     15557|      13975| 0.8983094426946069|\n",
      "|              Reseda|16927.968267450116|     71819|      43870| 0.6108411423161002|\n",
      "|         Valley Glen|18271.771022083805|     28256|      15673| 0.5546786523216308|\n",
      "|        Sherman Oaks|37767.445673661336|     81443|      64370| 0.7903687241383545|\n",
      "|            Van Nuys|14488.189551145677|     86019|      78883| 0.9170415838361292|\n",
      "|     University Park| 6863.013243700185|     24842|      25793|  1.038281941872635|\n",
      "|           Crestview|33327.120074177095|     10785|       7338| 0.6803894297635605|\n",
      "|     Adams-Normandie| 8791.458301453711|      7842|       5779| 0.7369293547564397|\n",
      "|         West Vernon|  8722.73435387674|     50300|      54032| 1.0741948310139164|\n",
      "|     Hollywood Hills|43015.988205771646|     27895|      22141| 0.7937264742785446|\n",
      "|             Tarzana| 29095.61605578763|     29684|      21924| 0.7385797062390513|\n",
      "|      Little Armenia|15092.245416833935|      7473|       6467| 0.8653820420179312|\n",
      "|       Victoria Park|15596.298133533759|      7983|       5850| 0.7328072153325818|\n",
      "|             Carthay|49841.164527155335|     13165|      12273| 0.9322445879225219|\n",
      "|    Angelino Heights|18411.548821548822|      2376|       1497| 0.6300505050505051|\n",
      "|      East Hollywood|14006.325244770022|     28394|      23023| 0.8108403183771219|\n",
      "|      Vernon Central| 6624.199011707778|     48771|      35546| 0.7288347583605012|\n",
      "|        Elysian Park|13871.322764382001|      5267|       4305| 0.8173533320675906|\n",
      "|   Wellington Square|13445.857142857143|      4606|       4527| 0.9828484585323491|\n",
      "|        Toluca Woods|24517.584109589043|      1825|       1172| 0.6421917808219179|\n",
      "|      Elysian Valley|16254.016512820514|      9750|       5873| 0.6023589743589743|\n",
      "|        Shadow Hills|25204.011223344558|      4455|       2599| 0.5833894500561168|\n",
      "|         Toluca Lake| 37050.74249905051|      7899|       6141| 0.7774401823015572|\n",
      "|        Park La Brea| 36619.90001697504|     11782|      12079|  1.025207944321847|\n",
      "|          Pico-Union| 10469.54607114148|     39808|      31109| 0.7814760852090032|\n",
      "|       Cheviot Hills| 36600.50260445528|      9023|       5001| 0.5542502493627397|\n",
      "|            Westwood| 25506.74280945542|     51526|      20324| 0.3944416411132244|\n",
      "|     Reynier Village|24451.135373317014|      4085|       2930| 0.7172582619339045|\n",
      "|      Mt. Washington|16611.170365223432|     23027|      11060|0.48030572805836624|\n",
      "|        Porter Ranch| 35201.02371931612|     31409|      12668|0.40332388805756314|\n",
      "|     St Elmo Village|13123.889611846533|      4457|       3373| 0.7567870765088625|\n",
      "|         Harbor City| 21383.02221233359|     26967|      17331| 0.6426743797975303|\n",
      "|  Wholesale District| 7728.686107223598|     37156|      81475|  2.192781784906879|\n",
      "|          Sun Valley|14076.857326804144|     51257|      33803| 0.6594806563006028|\n",
      "|   Little Bangladesh| 18590.28362672724|     26415|      19626| 0.7429869392390687|\n",
      "|       Boyle Heights| 8434.465372685858|     82536|      59315| 0.7186561015799167|\n",
      "|          Eagle Rock| 20685.40201151713|     37683|      18931| 0.5023750762943502|\n",
      "|        Reseda Ranch|14318.063612099644|      4496|       3473| 0.7724644128113879|\n",
      "|       Regent Square|19615.819537658463|      2682|       2097| 0.7818791946308725|\n",
      "|          Exposition|12322.893761581223|      3238|       4379|  1.352378011117974|\n",
      "|  Florence-Firestone| 8079.274829277236|     43638|      48586| 1.1133874146386178|\n",
      "|         Lake Balboa|17289.087391147525|     38814|      23357| 0.6017674035141959|\n",
      "+--------------------+------------------+----------+-----------+-------------------+\n",
      "only showing top 100 rows"
     ]
    }
   ],
   "source": [
    "times_lst = []\n",
    "for i in range(10):\n",
    "    start_time = time.time()\n",
    "    query_3_join(show_res=False)\n",
    "    times_lst.append(time.time() - start_time)\n",
    "print(times_lst)\n",
    "print(f'Average execution time: {np.mean(times_lst)}')\n",
    "query_3_join(show_res=True)"
   ]
  },
  {
   "cell_type": "code",
   "execution_count": 18,
   "id": "ddf2e8b9-02f0-4b93-a8e5-7f410cc17118",
   "metadata": {
    "tags": []
   },
   "outputs": [
    {
     "data": {
      "application/vnd.jupyter.widget-view+json": {
       "model_id": "",
       "version_major": 2,
       "version_minor": 0
      },
      "text/plain": [
       "FloatProgress(value=0.0, bar_style='info', description='Progress:', layout=Layout(height='25px', width='50%'),…"
      ]
     },
     "metadata": {},
     "output_type": "display_data"
    }
   ],
   "source": [
    "from pyspark.sql.functions import broadcast\n",
    "def query_3_broadcastJoin(show_res=True):\n",
    "    spark = SparkSession.builder \\\n",
    "        .appName(\"Query 3 Broadcast Join\") \\\n",
    "        .getOrCreate()\n",
    "\n",
    "    sedona = SedonaContext.create(spark)\n",
    "\n",
    "    # Read the file from s3\n",
    "    geojson_path = \"s3://initial-notebook-data-bucket-dblab-905418150721/2010_Census_Blocks.geojson\"\n",
    "    blocks_df = sedona.read.format(\"geojson\") \\\n",
    "                .option(\"multiLine\", \"true\").load(geojson_path) \\\n",
    "                .selectExpr(\"explode(features) as features\") \\\n",
    "                .select(\"features.*\")\n",
    "    # Formatting magic\n",
    "    flattened_df = blocks_df.select( \\\n",
    "                    [col(f\"properties.{col_name}\").alias(col_name) for col_name in \\\n",
    "                    blocks_df.schema[\"properties\"].dataType.fieldNames()] + [\"geometry\"]) \\\n",
    "                .drop(\"properties\") \\\n",
    "                .drop(\"type\")\n",
    "    \n",
    "    # Keep only the data from Los Angeles and rename the Zip Code column name for better usabillity \n",
    "    flattend_df = flattened_df.withColumn(\"ZCTA10\", col(\"ZCTA10\").cast(\"int\"))\n",
    "    flattend_df_LA = flattened_df.filter(col(\"CITY\") == \"Los Angeles\") \\\n",
    "                .withColumnRenamed(\"ZCTA10\", \"ZIP Code\")\n",
    "\n",
    "    group_number = \"32\"\n",
    "    s3_path = \"s3://groups-bucket-dblab-905418150721/group\"+group_number+\"/assigment_parquet_files/\"\n",
    "\n",
    "\n",
    "    df_income_parquet = spark.read.parquet(s3_path+\"LA_Income.parquet\")\n",
    "    df_income_parquet.select(\"Zip Code\", \"Estimated Median Income\")\n",
    "    \n",
    "    # Apply broadcast join on the smallest file and estimate the Estimated Income\n",
    "    df_join = flattend_df_LA.join(broadcast(df_income_parquet),'Zip Code', \"inner\").withColumn(\"EstimatedIncome\", col(\"Estimated Median Income\")*col(\"HOUSING10\")) \\\n",
    "                .groupBy(\"COMM\") \\\n",
    "                .agg(ST_Union_Aggr(\"geometry\").alias(\"geometry\"), sum(\"POP_2010\").alias(\"Population\"), sum(\"EstimatedIncome\").alias(\"EstimatedIncome\")) \\\n",
    "                .withColumn(\"PersonalMeanIncome\", col(\"EstimatedIncome\")/col(\"Population\"))\n",
    "    group_number = \"32\"\n",
    "    s3_path = \"s3://groups-bucket-dblab-905418150721/group\"+group_number+\"/assigment_parquet_files/\"\n",
    "\n",
    "\n",
    "    df_parquet_file = spark.read.parquet(s3_path+\"criminal_parquet.parquet\")\n",
    "    # Each Lon and Lat point conver to ST_Point\n",
    "    df_crime_Geom = df_parquet_file.withColumn(\"point\", ST_Point(\"LON\", \"LAT\"))\n",
    "    # Join by find the closest area between the Lat and Lon on the polygon geom point \n",
    "    df_join2 = df_join.join(df_crime_Geom, ST_Within(df_crime_Geom.point, df_join.geometry), \"inner\") \n",
    "    \n",
    "    # Find the Total Crimes per area and calculate the Average Crimes per area\n",
    "    df_final = df_join2.groupby(\"COMM\", \"PersonalMeanIncome\", \"Population\") \\\n",
    "                    .agg(count(\"*\").alias(\"TotalCrimes\")) \\\n",
    "                    .withColumn(\"Average Crimes\", col(\"TotalCrimes\")/col(\"Population\"))\n",
    "    if show_res:\n",
    "        df_final.show(100)"
   ]
  },
  {
   "cell_type": "code",
   "execution_count": 19,
   "id": "dfcd9609-b341-4b94-9a02-fdea33b0417d",
   "metadata": {
    "tags": []
   },
   "outputs": [
    {
     "data": {
      "application/vnd.jupyter.widget-view+json": {
       "model_id": "",
       "version_major": 2,
       "version_minor": 0
      },
      "text/plain": [
       "FloatProgress(value=0.0, bar_style='info', description='Progress:', layout=Layout(height='25px', width='50%'),…"
      ]
     },
     "metadata": {},
     "output_type": "display_data"
    },
    {
     "name": "stdout",
     "output_type": "stream",
     "text": [
      "[4.014760971069336, 2.9587676525115967, 3.063523530960083, 3.651716709136963, 3.177194118499756, 2.878145694732666, 2.901812791824341, 3.028357982635498, 3.127319097518921, 4.298944473266602]\n",
      "Average execution time: 3.310054302215576\n",
      "+--------------------+------------------+----------+-----------+-------------------+\n",
      "|                COMM|PersonalMeanIncome|Population|TotalCrimes|     Average Crimes|\n",
      "+--------------------+------------------+----------+-----------+-------------------+\n",
      "|   Faircrest Heights|20908.511762997387|      3443|       4408| 1.2802788266047052|\n",
      "|           Los Feliz|30473.013522716217|     20558|      18659| 0.9076272010896002|\n",
      "|    Cadillac-Corning|19572.784696174043|      6665|       4445| 0.6669167291822956|\n",
      "|              Venice|47614.883340996166|     32625|      40942| 1.2549272030651342|\n",
      "|      Vermont Square| 8329.565791341376|      7045|       5634| 0.7997161107168205|\n",
      "|  Century Palms/Cove| 8552.220122507493|     30692|      38877| 1.2666818714974586|\n",
      "|            Mid-city| 21734.64899923286|     14339|      11574| 0.8071692586651789|\n",
      "|    University Hills| 11766.36404207842|      3137|       1078| 0.3436404207841887|\n",
      "|    West Los Angeles| 39714.00529781941|     34165|      28397| 0.8311722523049905|\n",
      "|     Exposition Park| 8956.490471182702|     38987|      40814|  1.046861774437633|\n",
      "|          West Hills|28761.284715519265|     38333|      18527| 0.4833172462369238|\n",
      "|        Harbor Pines|  19236.6966651439|      2189|       1220| 0.5573321151210598|\n",
      "|   Country Club Park|15774.632805995005|     14412|      10536| 0.7310574521232306|\n",
      "|         Westchester|  33988.4574421559|     48017|      57124| 1.1896619947102067|\n",
      "|   Mandeville Canyon| 55572.10949582431|      3233|        848|0.26229508196721313|\n",
      "|           Koreatown|13588.462578974624|     48275|      37527| 0.7773588814085965|\n",
      "|      Woodland Hills| 37616.88672183443|     63322|      44940| 0.7097059473800574|\n",
      "|       Beverly Crest| 60947.49019768682|     12191|       4527| 0.3713395127553113|\n",
      "|             Pacoima|11699.015375846486|     73687|      40739| 0.5528654986632648|\n",
      "|             Del Rey|33675.359382921706|     27614|      15432| 0.5588469616861013|\n",
      "|           San Pedro|24244.561240141717|     73669|      57101| 0.7751021460858706|\n",
      "|       South Carthay|39831.340037649854|     10093|       7299|  0.723174477360547|\n",
      "|Historic Filipino...|15175.546139359698|     13275|      11127| 0.8381920903954803|\n",
      "| Palisades Highlands| 66867.43986433603|      3833|        788| 0.2055830941821028|\n",
      "|      Vermont Knolls|10499.293860175081|     16678|      20367|  1.221189591078067|\n",
      "|         Rancho Park|38740.063860206516|      6295|       7902| 1.2552819698173154|\n",
      "|          Chatsworth|30580.876526106156|     34647|      23963|  0.691632753196525|\n",
      "|           Echo Park| 21598.36342999414|     13656|       9954| 0.7289103690685413|\n",
      "|           Thai Town| 26851.47272727273|      9350|       4961| 0.5305882352941177|\n",
      "|  Cloverdale/Cochran|14660.930872291905|     14032|       9934| 0.7079532497149373|\n",
      "|          South Park| 6943.255564343012|     35404|      31378| 0.8862840357021805|\n",
      "|    Lafayette Square|16700.833409821018|      4358|       3982| 0.9137218907755851|\n",
      "|          Northridge|22909.936328320196|     62037|      49585| 0.7992810741976563|\n",
      "|   Manchester Square|14589.573905662664|      8247|       8987| 1.0897295986419304|\n",
      "|      Temple-Beaudry|14815.406344865309|     36565|      26923| 0.7363052099001778|\n",
      "|         Beverlywood|  29267.8210229561|     12415|       6471|  0.521224325412807|\n",
      "|              Arleta|12110.779170215355|     32876|      14542| 0.4423287504562599|\n",
      "|               Watts| 7754.242176664901|     39657|      39461| 0.9950576190836422|\n",
      "|     Wilshire Center| 15965.02522465377|     47295|      40843| 0.8635796595834655|\n",
      "|Angeles National ...|          28117.65|        20|        227|              11.35|\n",
      "|           Chinatown| 14058.45616777387|      7677|       9645| 1.2563501367721766|\n",
      "|              Sylmar|16311.074419025228|     77413|      40078| 0.5177166625760531|\n",
      "|       Granada Hills|27608.016856376424|     55172|      31903| 0.5782462118465889|\n",
      "|        Little Tokyo|15281.623154164206|      3386|      13614|  4.020673360897814|\n",
      "|         Studio City| 44049.85263005362|     20703|      19245| 0.9295754238516157|\n",
      "|       Green Meadows| 8027.096412895414|     19821|      23975| 1.2095757025377125|\n",
      "|        Century City|46103.510597140456|     11890|      10176| 0.8558452481076535|\n",
      "|            Westlake|10117.443537464767|     54638|      54794| 1.0028551557524068|\n",
      "|    Lakeview Terrace|15991.256902570613|     12604|       7857| 0.6233735322119962|\n",
      "|     Sycamore Square|30116.823622047243|       635|        716| 1.1275590551181103|\n",
      "|      Jefferson Park|10258.852338413031|      7612|       5194| 0.6823436678928009|\n",
      "|           Hollywood|25648.050759469334|     62412|      96810| 1.5511440107671601|\n",
      "|             Bel Air| 63041.33809466166|      8261|       3532| 0.4275511439293064|\n",
      "|     Atwater Village|28477.197361889226|     14101|       9696| 0.6876108077441316|\n",
      "|     North Hollywood|17301.439127869406|    142364|     114090| 0.8013964204433706|\n",
      "|     Lincoln Heights|10902.134793218598|     31144|      19391| 0.6226239404058567|\n",
      "|         North Hills|16224.486385809312|     56375|      36929|  0.655059866962306|\n",
      "|          Wilmington|11169.220314136126|     52525|      39582| 0.7535840076154212|\n",
      "|        Hancock Park|21538.793404898115|     15557|      13975| 0.8983094426946069|\n",
      "|              Reseda|16927.968267450116|     71819|      43870| 0.6108411423161002|\n",
      "|         Valley Glen|18271.771022083805|     28256|      15673| 0.5546786523216308|\n",
      "|        Sherman Oaks|37767.445673661336|     81443|      64370| 0.7903687241383545|\n",
      "|            Van Nuys|14488.189551145677|     86019|      78883| 0.9170415838361292|\n",
      "|     University Park| 6863.013243700185|     24842|      25793|  1.038281941872635|\n",
      "|           Crestview|33327.120074177095|     10785|       7338| 0.6803894297635605|\n",
      "|     Adams-Normandie| 8791.458301453711|      7842|       5779| 0.7369293547564397|\n",
      "|         West Vernon|  8722.73435387674|     50300|      54032| 1.0741948310139164|\n",
      "|             Tarzana| 29095.61605578763|     29684|      21924| 0.7385797062390513|\n",
      "|     Hollywood Hills|43015.988205771646|     27895|      22141| 0.7937264742785446|\n",
      "|      Little Armenia|15092.245416833935|      7473|       6467| 0.8653820420179312|\n",
      "|       Victoria Park|15596.298133533759|      7983|       5850| 0.7328072153325818|\n",
      "|             Carthay|49841.164527155335|     13165|      12273| 0.9322445879225219|\n",
      "|    Angelino Heights|18411.548821548822|      2376|       1497| 0.6300505050505051|\n",
      "|      East Hollywood|14006.325244770022|     28394|      23023| 0.8108403183771219|\n",
      "|      Vernon Central| 6624.199011707778|     48771|      35546| 0.7288347583605012|\n",
      "|        Elysian Park|13871.322764382001|      5267|       4305| 0.8173533320675906|\n",
      "|   Wellington Square|13445.857142857143|      4606|       4527| 0.9828484585323491|\n",
      "|        Toluca Woods|24517.584109589043|      1825|       1172| 0.6421917808219179|\n",
      "|      Elysian Valley|16254.016512820514|      9750|       5873| 0.6023589743589743|\n",
      "|        Shadow Hills|25204.011223344558|      4455|       2599| 0.5833894500561168|\n",
      "|         Toluca Lake| 37050.74249905051|      7899|       6141| 0.7774401823015572|\n",
      "|        Park La Brea| 36619.90001697504|     11782|      12079|  1.025207944321847|\n",
      "|          Pico-Union| 10469.54607114148|     39808|      31109| 0.7814760852090032|\n",
      "|       Cheviot Hills| 36600.50260445528|      9023|       5001| 0.5542502493627397|\n",
      "|            Westwood| 25506.74280945542|     51526|      20324| 0.3944416411132244|\n",
      "|     Reynier Village|24451.135373317014|      4085|       2930| 0.7172582619339045|\n",
      "|      Mt. Washington|16611.170365223432|     23027|      11060|0.48030572805836624|\n",
      "|        Porter Ranch| 35201.02371931612|     31409|      12668|0.40332388805756314|\n",
      "|     St Elmo Village|13123.889611846533|      4457|       3373| 0.7567870765088625|\n",
      "|         Harbor City| 21383.02221233359|     26967|      17331| 0.6426743797975303|\n",
      "|  Wholesale District| 7728.686107223598|     37156|      81475|  2.192781784906879|\n",
      "|          Sun Valley|14076.857326804144|     51257|      33803| 0.6594806563006028|\n",
      "|   Little Bangladesh| 18590.28362672724|     26415|      19626| 0.7429869392390687|\n",
      "|       Boyle Heights| 8434.465372685858|     82536|      59315| 0.7186561015799167|\n",
      "|          Eagle Rock| 20685.40201151713|     37683|      18931| 0.5023750762943502|\n",
      "|        Reseda Ranch|14318.063612099644|      4496|       3473| 0.7724644128113879|\n",
      "|       Regent Square|19615.819537658463|      2682|       2097| 0.7818791946308725|\n",
      "|          Exposition|12322.893761581223|      3238|       4379|  1.352378011117974|\n",
      "|  Florence-Firestone| 8079.274829277236|     43638|      48586| 1.1133874146386178|\n",
      "|         Lake Balboa|17289.087391147525|     38814|      23357| 0.6017674035141959|\n",
      "+--------------------+------------------+----------+-----------+-------------------+\n",
      "only showing top 100 rows"
     ]
    }
   ],
   "source": [
    "times_lst = []\n",
    "for i in range(10):\n",
    "    start_time = time.time()\n",
    "    query_3_broadcastJoin(show_res=False)\n",
    "    times_lst.append(time.time() - start_time)\n",
    "print(times_lst)\n",
    "print(f'Average execution time: {np.mean(times_lst)}')\n",
    "query_3_broadcastJoin(show_res=True)"
   ]
  },
  {
   "cell_type": "code",
   "execution_count": 20,
   "id": "5f78cff6-0a14-4bd8-80fb-4f9a4f23c9aa",
   "metadata": {
    "tags": []
   },
   "outputs": [
    {
     "data": {
      "application/vnd.jupyter.widget-view+json": {
       "model_id": "",
       "version_major": 2,
       "version_minor": 0
      },
      "text/plain": [
       "FloatProgress(value=0.0, bar_style='info', description='Progress:', layout=Layout(height='25px', width='50%'),…"
      ]
     },
     "metadata": {},
     "output_type": "display_data"
    }
   ],
   "source": [
    "def query_3_MergeJoin(show_res=True):\n",
    "    spark = SparkSession.builder \\\n",
    "        .appName(\"Query 3 Broadcast Join\") \\\n",
    "        .getOrCreate()\n",
    "\n",
    "    sedona = SedonaContext.create(spark)\n",
    "\n",
    "    # Read the file from s3\n",
    "    geojson_path = \"s3://initial-notebook-data-bucket-dblab-905418150721/2010_Census_Blocks.geojson\"\n",
    "    blocks_df = sedona.read.format(\"geojson\") \\\n",
    "                .option(\"multiLine\", \"true\").load(geojson_path) \\\n",
    "                .selectExpr(\"explode(features) as features\") \\\n",
    "                .select(\"features.*\")\n",
    "    # Formatting magic\n",
    "    flattened_df = blocks_df.select( \\\n",
    "                    [col(f\"properties.{col_name}\").alias(col_name) for col_name in \\\n",
    "                    blocks_df.schema[\"properties\"].dataType.fieldNames()] + [\"geometry\"]) \\\n",
    "                .drop(\"properties\") \\\n",
    "                .drop(\"type\")\n",
    "\n",
    "    flattend_df = flattened_df.withColumn(\"ZCTA10\", col(\"ZCTA10\").cast(\"int\"))\n",
    "    flattend_df_LA = flattened_df.filter(col(\"CITY\") == \"Los Angeles\") \\\n",
    "                .withColumnRenamed(\"ZCTA10\", \"ZIP Code\")\n",
    "\n",
    "    group_number = \"32\"\n",
    "    s3_path = \"s3://groups-bucket-dblab-905418150721/group\"+group_number+\"/assigment_parquet_files/\"\n",
    "\n",
    "\n",
    "    df_income_parquet = spark.read.parquet(s3_path+\"LA_Income.parquet\")\n",
    "    df_income_parquet.select(\"Zip Code\", \"Estimated Median Income\")\n",
    "    \n",
    "    # Sort each data based the column name join atributed and apply the join (Sort merge join)\n",
    "    flattend_df_LA_sorted = flattend_df_LA.sort(\"ZIP Code\")\n",
    "    df_income_parquet_sorted = df_income_parquet.sort(\"Zip Code\")\n",
    "    df_join = flattend_df_LA_sorted.join(df_income_parquet_sorted,'Zip Code', \"inner\").withColumn(\"EstimatedIncome\", col(\"Estimated Median Income\")*col(\"HOUSING10\")) \\\n",
    "                .groupBy(\"COMM\") \\\n",
    "                .agg(ST_Union_Aggr(\"geometry\").alias(\"geometry\"), sum(\"POP_2010\").alias(\"Population\"), sum(\"EstimatedIncome\").alias(\"EstimatedIncome\")) \\\n",
    "                .withColumn(\"PersonalMeanIncome\", col(\"EstimatedIncome\")/col(\"Population\"))\n",
    "    group_number = \"32\"\n",
    "    s3_path = \"s3://groups-bucket-dblab-905418150721/group\"+group_number+\"/assigment_parquet_files/\"\n",
    "\n",
    "\n",
    "    df_parquet_file = spark.read.parquet(s3_path+\"criminal_parquet.parquet\")\n",
    "    # Each Lon and Lat point conver to ST_Point\n",
    "    df_crime_Geom = df_parquet_file.withColumn(\"point\", ST_Point(\"LON\", \"LAT\"))\n",
    "    # Join by find the closest area between the Lat and Lon on the polygon geom point \n",
    "    df_join2 = df_join.join(df_crime_Geom, ST_Within(df_crime_Geom.point, df_join.geometry), \"inner\")\n",
    "\n",
    "    df_final = df_join2.groupby(\"COMM\", \"PersonalMeanIncome\", \"Population\") \\\n",
    "                    .agg(count(\"*\").alias(\"TotalCrimes\")) \\\n",
    "                    .withColumn(\"Average Crimes\", col(\"TotalCrimes\")/col(\"Population\"))\n",
    "    if show_res:\n",
    "        df_final.show(100)"
   ]
  },
  {
   "cell_type": "code",
   "execution_count": 21,
   "id": "a82fbfd6-8fb3-4513-9557-c5fa3738fc64",
   "metadata": {
    "tags": []
   },
   "outputs": [
    {
     "data": {
      "application/vnd.jupyter.widget-view+json": {
       "model_id": "",
       "version_major": 2,
       "version_minor": 0
      },
      "text/plain": [
       "FloatProgress(value=0.0, bar_style='info', description='Progress:', layout=Layout(height='25px', width='50%'),…"
      ]
     },
     "metadata": {},
     "output_type": "display_data"
    },
    {
     "name": "stdout",
     "output_type": "stream",
     "text": [
      "[2.78084135055542, 3.0124707221984863, 3.4125232696533203, 2.753401279449463, 3.6871533393859863, 3.2210469245910645, 3.0289978981018066, 3.019221305847168, 2.8032970428466797, 3.1123452186584473]\n",
      "Average execution time: 3.0831298351287844\n",
      "+--------------------+------------------+----------+-----------+-------------------+\n",
      "|                COMM|PersonalMeanIncome|Population|TotalCrimes|     Average Crimes|\n",
      "+--------------------+------------------+----------+-----------+-------------------+\n",
      "|   Faircrest Heights|20908.511762997387|      3443|       4408| 1.2802788266047052|\n",
      "|           Los Feliz|30473.013522716217|     20558|      18659| 0.9076272010896002|\n",
      "|    Cadillac-Corning|19572.784696174043|      6665|       4445| 0.6669167291822956|\n",
      "|              Venice|47614.883340996166|     32625|      40942| 1.2549272030651342|\n",
      "|      Vermont Square| 8329.565791341376|      7045|       5634| 0.7997161107168205|\n",
      "|  Century Palms/Cove| 8552.220122507493|     30692|      38877| 1.2666818714974586|\n",
      "|            Mid-city| 21734.64899923286|     14339|      11574| 0.8071692586651789|\n",
      "|    University Hills| 11766.36404207842|      3137|       1078| 0.3436404207841887|\n",
      "|    West Los Angeles| 39714.00529781941|     34165|      28397| 0.8311722523049905|\n",
      "|     Exposition Park| 8956.490471182702|     38987|      40814|  1.046861774437633|\n",
      "|          West Hills|28761.284715519265|     38333|      18527| 0.4833172462369238|\n",
      "|        Harbor Pines|  19236.6966651439|      2189|       1220| 0.5573321151210598|\n",
      "|   Country Club Park|15774.632805995005|     14412|      10536| 0.7310574521232306|\n",
      "|         Westchester|  33988.4574421559|     48017|      57124| 1.1896619947102067|\n",
      "|   Mandeville Canyon| 55572.10949582431|      3233|        848|0.26229508196721313|\n",
      "|           Koreatown|13588.462578974624|     48275|      37527| 0.7773588814085965|\n",
      "|      Woodland Hills| 37616.88672183443|     63322|      44940| 0.7097059473800574|\n",
      "|       Beverly Crest| 60947.49019768682|     12191|       4527| 0.3713395127553113|\n",
      "|             Pacoima|11699.015375846486|     73687|      40739| 0.5528654986632648|\n",
      "|             Del Rey|33675.359382921706|     27614|      15432| 0.5588469616861013|\n",
      "|           San Pedro|24244.561240141717|     73669|      57101| 0.7751021460858706|\n",
      "|       South Carthay|39831.340037649854|     10093|       7299|  0.723174477360547|\n",
      "|Historic Filipino...|15175.546139359698|     13275|      11127| 0.8381920903954803|\n",
      "| Palisades Highlands| 66867.43986433603|      3833|        788| 0.2055830941821028|\n",
      "|      Vermont Knolls|10499.293860175081|     16678|      20367|  1.221189591078067|\n",
      "|         Rancho Park|38740.063860206516|      6295|       7902| 1.2552819698173154|\n",
      "|          Chatsworth|30580.876526106156|     34647|      23963|  0.691632753196525|\n",
      "|           Echo Park| 21598.36342999414|     13656|       9954| 0.7289103690685413|\n",
      "|           Thai Town| 26851.47272727273|      9350|       4961| 0.5305882352941177|\n",
      "|  Cloverdale/Cochran|14660.930872291905|     14032|       9934| 0.7079532497149373|\n",
      "|          South Park| 6943.255564343012|     35404|      31378| 0.8862840357021805|\n",
      "|    Lafayette Square|16700.833409821018|      4358|       3982| 0.9137218907755851|\n",
      "|          Northridge|22909.936328320196|     62037|      49585| 0.7992810741976563|\n",
      "|   Manchester Square|14589.573905662664|      8247|       8987| 1.0897295986419304|\n",
      "|      Temple-Beaudry|14815.406344865309|     36565|      26923| 0.7363052099001778|\n",
      "|         Beverlywood|  29267.8210229561|     12415|       6471|  0.521224325412807|\n",
      "|              Arleta|12110.779170215355|     32876|      14542| 0.4423287504562599|\n",
      "|               Watts| 7754.242176664901|     39657|      39461| 0.9950576190836422|\n",
      "|     Wilshire Center| 15965.02522465377|     47295|      40843| 0.8635796595834655|\n",
      "|Angeles National ...|          28117.65|        20|        227|              11.35|\n",
      "|           Chinatown| 14058.45616777387|      7677|       9645| 1.2563501367721766|\n",
      "|              Sylmar|16311.074419025228|     77413|      40078| 0.5177166625760531|\n",
      "|       Granada Hills|27608.016856376424|     55172|      31903| 0.5782462118465889|\n",
      "|        Little Tokyo|15281.623154164206|      3386|      13614|  4.020673360897814|\n",
      "|         Studio City| 44049.85263005362|     20703|      19245| 0.9295754238516157|\n",
      "|       Green Meadows| 8027.096412895414|     19821|      23975| 1.2095757025377125|\n",
      "|        Century City|46103.510597140456|     11890|      10176| 0.8558452481076535|\n",
      "|            Westlake|10117.443537464767|     54638|      54794| 1.0028551557524068|\n",
      "|    Lakeview Terrace|15991.256902570613|     12604|       7857| 0.6233735322119962|\n",
      "|     Sycamore Square|30116.823622047243|       635|        716| 1.1275590551181103|\n",
      "|      Jefferson Park|10258.852338413031|      7612|       5194| 0.6823436678928009|\n",
      "|           Hollywood|25648.050759469334|     62412|      96810| 1.5511440107671601|\n",
      "|             Bel Air| 63041.33809466166|      8261|       3532| 0.4275511439293064|\n",
      "|     Atwater Village|28477.197361889226|     14101|       9696| 0.6876108077441316|\n",
      "|     North Hollywood|17301.439127869406|    142364|     114090| 0.8013964204433706|\n",
      "|     Lincoln Heights|10902.134793218598|     31144|      19391| 0.6226239404058567|\n",
      "|         North Hills|16224.486385809312|     56375|      36929|  0.655059866962306|\n",
      "|          Wilmington|11169.220314136126|     52525|      39582| 0.7535840076154212|\n",
      "|        Hancock Park|21538.793404898115|     15557|      13975| 0.8983094426946069|\n",
      "|              Reseda|16927.968267450116|     71819|      43870| 0.6108411423161002|\n",
      "|         Valley Glen|18271.771022083805|     28256|      15673| 0.5546786523216308|\n",
      "|        Sherman Oaks|37767.445673661336|     81443|      64370| 0.7903687241383545|\n",
      "|            Van Nuys|14488.189551145677|     86019|      78883| 0.9170415838361292|\n",
      "|     University Park| 6863.013243700185|     24842|      25793|  1.038281941872635|\n",
      "|           Crestview|33327.120074177095|     10785|       7338| 0.6803894297635605|\n",
      "|     Adams-Normandie| 8791.458301453711|      7842|       5779| 0.7369293547564397|\n",
      "|         West Vernon|  8722.73435387674|     50300|      54032| 1.0741948310139164|\n",
      "|             Tarzana| 29095.61605578763|     29684|      21924| 0.7385797062390513|\n",
      "|     Hollywood Hills|43015.988205771646|     27895|      22141| 0.7937264742785446|\n",
      "|      Little Armenia|15092.245416833935|      7473|       6467| 0.8653820420179312|\n",
      "|       Victoria Park|15596.298133533759|      7983|       5850| 0.7328072153325818|\n",
      "|             Carthay|49841.164527155335|     13165|      12273| 0.9322445879225219|\n",
      "|    Angelino Heights|18411.548821548822|      2376|       1497| 0.6300505050505051|\n",
      "|      East Hollywood|14006.325244770022|     28394|      23023| 0.8108403183771219|\n",
      "|      Vernon Central| 6624.199011707778|     48771|      35546| 0.7288347583605012|\n",
      "|        Elysian Park|13871.322764382001|      5267|       4305| 0.8173533320675906|\n",
      "|   Wellington Square|13445.857142857143|      4606|       4527| 0.9828484585323491|\n",
      "|        Toluca Woods|24517.584109589043|      1825|       1172| 0.6421917808219179|\n",
      "|      Elysian Valley|16254.016512820514|      9750|       5873| 0.6023589743589743|\n",
      "|        Shadow Hills|25204.011223344558|      4455|       2599| 0.5833894500561168|\n",
      "|         Toluca Lake| 37050.74249905051|      7899|       6141| 0.7774401823015572|\n",
      "|        Park La Brea| 36619.90001697504|     11782|      12079|  1.025207944321847|\n",
      "|          Pico-Union| 10469.54607114148|     39808|      31109| 0.7814760852090032|\n",
      "|       Cheviot Hills| 36600.50260445528|      9023|       5001| 0.5542502493627397|\n",
      "|            Westwood| 25506.74280945542|     51526|      20324| 0.3944416411132244|\n",
      "|     Reynier Village|24451.135373317014|      4085|       2930| 0.7172582619339045|\n",
      "|      Mt. Washington|16611.170365223432|     23027|      11060|0.48030572805836624|\n",
      "|        Porter Ranch| 35201.02371931612|     31409|      12668|0.40332388805756314|\n",
      "|     St Elmo Village|13123.889611846533|      4457|       3373| 0.7567870765088625|\n",
      "|         Harbor City| 21383.02221233359|     26967|      17331| 0.6426743797975303|\n",
      "|  Wholesale District| 7728.686107223598|     37156|      81475|  2.192781784906879|\n",
      "|          Sun Valley|14076.857326804144|     51257|      33803| 0.6594806563006028|\n",
      "|   Little Bangladesh| 18590.28362672724|     26415|      19626| 0.7429869392390687|\n",
      "|       Boyle Heights| 8434.465372685858|     82536|      59315| 0.7186561015799167|\n",
      "|          Eagle Rock| 20685.40201151713|     37683|      18931| 0.5023750762943502|\n",
      "|        Reseda Ranch|14318.063612099644|      4496|       3473| 0.7724644128113879|\n",
      "|       Regent Square|19615.819537658463|      2682|       2097| 0.7818791946308725|\n",
      "|          Exposition|12322.893761581223|      3238|       4379|  1.352378011117974|\n",
      "|  Florence-Firestone| 8079.274829277236|     43638|      48586| 1.1133874146386178|\n",
      "|         Lake Balboa|17289.087391147525|     38814|      23357| 0.6017674035141959|\n",
      "+--------------------+------------------+----------+-----------+-------------------+\n",
      "only showing top 100 rows"
     ]
    }
   ],
   "source": [
    "times_lst = []\n",
    "for i in range(10):\n",
    "    start_time = time.time()\n",
    "    query_3_MergeJoin(show_res=False)\n",
    "    times_lst.append(time.time() - start_time)\n",
    "print(times_lst)\n",
    "print(f'Average execution time: {np.mean(times_lst)}')\n",
    "query_3_MergeJoin(show_res=True)"
   ]
  },
  {
   "cell_type": "code",
   "execution_count": 22,
   "id": "2cde66f2-d035-4478-9d80-97400d751847",
   "metadata": {
    "tags": []
   },
   "outputs": [
    {
     "data": {
      "application/vnd.jupyter.widget-view+json": {
       "model_id": "",
       "version_major": 2,
       "version_minor": 0
      },
      "text/plain": [
       "FloatProgress(value=0.0, bar_style='info', description='Progress:', layout=Layout(height='25px', width='50%'),…"
      ]
     },
     "metadata": {},
     "output_type": "display_data"
    }
   ],
   "source": [
    "def query3_HashJoin(show_res):\n",
    "    # Initialize Spark session\n",
    "    spark = SparkSession.builder \\\n",
    "        .appName(\"Query 3 SHUFFLE_REPLICATE_NL Join\") \\\n",
    "        .config(\"spark.sql.autoBroadcastJoinThreshold\", -1) \\\n",
    "        .getOrCreate()\n",
    "\n",
    "    sedona = SedonaContext.create(spark)\n",
    "\n",
    "    # Read the file from S3\n",
    "    geojson_path = \"s3://initial-notebook-data-bucket-dblab-905418150721/2010_Census_Blocks.geojson\"\n",
    "    blocks_df = sedona.read.format(\"geojson\") \\\n",
    "        .option(\"multiLine\", \"true\").load(geojson_path) \\\n",
    "        .selectExpr(\"explode(features) as features\") \\\n",
    "        .select(\"features.*\")\n",
    "\n",
    "    # Formatting\n",
    "    flattened_df = blocks_df.select(\n",
    "        [col(f\"properties.{col_name}\").alias(col_name)\n",
    "         for col_name in blocks_df.schema[\"properties\"].dataType.fieldNames()] + [\"geometry\"]\n",
    "    ).drop(\"properties\").drop(\"type\")\n",
    "\n",
    "    flattend_df = flattened_df.withColumn(\"ZCTA10\", col(\"ZCTA10\").cast(\"int\"))\n",
    "    flattend_df_LA = flattened_df.filter(col(\"CITY\") == \"Los Angeles\") \\\n",
    "        .withColumnRenamed(\"ZCTA10\", \"ZIP Code\")\n",
    "\n",
    "    group_number = \"32\"\n",
    "    s3_path = f\"s3://groups-bucket-dblab-905418150721/group{group_number}/assigment_parquet_files/\"\n",
    "\n",
    "    df_income_parquet = spark.read.parquet(s3_path + \"LA_Income.parquet\")\n",
    "    df_income_parquet = df_income_parquet.select(\"Zip Code\", \"Estimated Median Income\")\n",
    "\n",
    "    # Repartition both DataFrames by the join key\n",
    "    flattend_df_LA_partitioned = flattend_df_LA.repartition(\"ZIP Code\")\n",
    "    df_income_parquet_partitioned = df_income_parquet.repartition(\"Zip Code\")\n",
    "\n",
    "    # Perform the shuffle hash join using the repartition on the key\n",
    "    df_join = flattend_df_LA_partitioned.join(\n",
    "        df_income_parquet_partitioned,\n",
    "        flattend_df_LA_partitioned[\"ZIP Code\"] == df_income_parquet_partitioned[\"Zip Code\"],\n",
    "        \"inner\").drop(\"Zip Code\").withColumn(\"EstimatedIncome\", col(\"Estimated Median Income\") * col(\"HOUSING10\")).groupBy(\"COMM\").agg(ST_Union_Aggr(\"geometry\").alias(\"geometry\"),\n",
    "        sum(\"POP_2010\").alias(\"Population\"),\n",
    "        sum(\"EstimatedIncome\").alias(\"EstimatedIncome\")).withColumn(\"PersonalMeanIncome\", col(\"EstimatedIncome\") / col(\"Population\"))\n",
    "\n",
    "\n",
    "    # Read crime data parquet file\n",
    "    df_parquet_file = spark.read.parquet(s3_path + \"criminal_parquet.parquet\")\n",
    "\n",
    "    # Create geometry column for crime data\n",
    "    df_crime_Geom = df_parquet_file.withColumn(\"point\", ST_Point(\"LON\", \"LAT\"))\n",
    "\n",
    "    # Join by find the closest area between the Lat and Lon on the polygon geom point \n",
    "    df_join2 = df_join.join(df_crime_Geom, ST_Within(df_crime_Geom.point, df_join.geometry), \"inner\")\n",
    "\n",
    "    # Final aggregation\n",
    "    df_final = df_join2.groupby(\"COMM\", \"PersonalMeanIncome\", \"Population\") \\\n",
    "        .agg(count(\"*\").alias(\"TotalCrimes\")) \\\n",
    "        .withColumn(\"Average Crimes\", col(\"TotalCrimes\") / col(\"Population\"))\n",
    "\n",
    "    if show_res:\n",
    "        df_final.show(100)"
   ]
  },
  {
   "cell_type": "code",
   "execution_count": 23,
   "id": "7dd7aada-a0ec-4de3-b471-ca7abf66b062",
   "metadata": {
    "tags": []
   },
   "outputs": [
    {
     "data": {
      "application/vnd.jupyter.widget-view+json": {
       "model_id": "",
       "version_major": 2,
       "version_minor": 0
      },
      "text/plain": [
       "FloatProgress(value=0.0, bar_style='info', description='Progress:', layout=Layout(height='25px', width='50%'),…"
      ]
     },
     "metadata": {},
     "output_type": "display_data"
    },
    {
     "name": "stdout",
     "output_type": "stream",
     "text": [
      "+--------------------+------------------+----------+-----------+-------------------+\n",
      "|                COMM|PersonalMeanIncome|Population|TotalCrimes|     Average Crimes|\n",
      "+--------------------+------------------+----------+-----------+-------------------+\n",
      "|         Westchester|  33988.4574421559|     48017|      57124| 1.1896619947102067|\n",
      "|             Del Rey|33675.359382921706|     27614|      15432| 0.5588469616861013|\n",
      "|         Playa Vista| 50264.47187990141|      8926|       7281| 0.8157069235939951|\n",
      "|       Playa Del Rey|   45522.596580114|      3158|       2454| 0.7770740975300824|\n",
      "|        Harbor Pines|  19236.6966651439|      2189|       1220| 0.5573321151210598|\n",
      "|          Wilmington|11169.220314136126|     52525|      39582| 0.7535840076154212|\n",
      "|         Harbor City| 21383.02221233359|     26967|      17331| 0.6426743797975303|\n",
      "|      Harbor Gateway|16154.823549930237|     40136|      26302| 0.6553219055212278|\n",
      "|   Faircrest Heights|20908.511762997387|      3443|       4408| 1.2802788266047052|\n",
      "|    West Los Angeles| 39714.00529781941|     34165|      28397| 0.8311722523049905|\n",
      "|         Rancho Park|38740.063860206516|      6295|       7902| 1.2552819698173154|\n",
      "|  Cloverdale/Cochran|14660.930872291905|     14032|       9934| 0.7079532497149373|\n",
      "|         Beverlywood|  29267.8210229561|     12415|       6471|  0.521224325412807|\n",
      "|       Cheviot Hills| 36600.50260445528|      9023|       5001| 0.5542502493627397|\n",
      "|     Reynier Village|24451.135373317014|      4085|       2930| 0.7172582619339045|\n",
      "|       Regent Square|19615.819537658463|      2682|       2097| 0.7818791946308725|\n",
      "|           Mar Vista| 33150.61478300874|     39126|      19434|0.49670295966876243|\n",
      "|              Alsace| 11239.50119372442|     11728|       6466| 0.5513301500682128|\n",
      "|   Pacific Palisades| 70656.11282274863|     20643|       9307|0.45085501138400425|\n",
      "|      Vermont Square| 8329.565791341376|      7045|       5634| 0.7997161107168205|\n",
      "|     Exposition Park| 8956.490471182702|     38987|      40814|  1.046861774437633|\n",
      "|          South Park| 6943.255564343012|     35404|      31378| 0.8862840357021805|\n",
      "|         West Vernon|  8722.73435387674|     50300|      54032| 1.0741948310139164|\n",
      "|             Central|6972.5184348709845|     35422|      24981| 0.7052396815538367|\n",
      "|          Exposition|12322.893761581223|      3238|       4379|  1.352378011117974|\n",
      "|               Palms| 30599.65532961864|     41457|      21279|  0.513278819017295|\n",
      "|           Hyde Park|  14143.1878466879|     27943|      30263|  1.083026160397953|\n",
      "|        View Heights|15274.344488793367|      3257|       2259| 0.6935830518882408|\n",
      "|        Harvard Park| 9846.966142618048|     36447|      43771|  1.200949323675474|\n",
      "|         Lake Balboa|17289.087391147525|     38814|      23357| 0.6017674035141959|\n",
      "|           Brentwood|60840.624859219824|     29301|      14756| 0.5036005597078598|\n",
      "|              Encino| 38338.00564358072|     42349|      29803|  0.703747432052705|\n",
      "|        Leimert Park| 16098.61121206003|     14859|      18051| 1.2148193014334747|\n",
      "|          West Hills|28761.284715519265|     38333|      18527| 0.4833172462369238|\n",
      "|          Chatsworth|30580.876526106156|     34647|      23963|  0.691632753196525|\n",
      "|          Northridge|22909.936328320196|     62037|      49585| 0.7992810741976563|\n",
      "|              Sylmar|16311.074419025228|     77413|      40078| 0.5177166625760531|\n",
      "|       Granada Hills|27608.016856376424|     55172|      31903| 0.5782462118465889|\n",
      "|              Reseda|16927.968267450116|     71819|      43870| 0.6108411423161002|\n",
      "|            Van Nuys|14488.189551145677|     86019|      78883| 0.9170415838361292|\n",
      "|        Porter Ranch| 35201.02371931612|     31409|      12668|0.40332388805756314|\n",
      "|         Canoga Park|19656.956398554536|     58943|      52816| 0.8960521181480413|\n",
      "|            Winnetka|19638.747657099826|     47804|      31974| 0.6688561626642122|\n",
      "|            Mid-city| 21734.64899923286|     14339|      11574| 0.8071692586651789|\n",
      "|   Country Club Park|15774.632805995005|     14412|      10536| 0.7310574521232306|\n",
      "|    Lafayette Square|16700.833409821018|      4358|       3982| 0.9137218907755851|\n",
      "|     Sycamore Square|30116.823622047243|       635|        716| 1.1275590551181103|\n",
      "|     St Elmo Village|13123.889611846533|      4457|       3373| 0.7567870765088625|\n",
      "|        Miracle Mile| 38834.84611073052|     16057|      14163| 0.8820452139253908|\n",
      "|    Cadillac-Corning|19572.784696174043|      6665|       4445| 0.6669167291822956|\n",
      "|       South Carthay|39831.340037649854|     10093|       7299|  0.723174477360547|\n",
      "|           Crestview|33327.120074177095|     10785|       7338| 0.6803894297635605|\n",
      "|             Carthay|49841.164527155335|     13165|      12273| 0.9322445879225219|\n",
      "|        Hancock Park|21538.793404898115|     15557|      13975| 0.8983094426946069|\n",
      "|       Victoria Park|15596.298133533759|      7983|       5850| 0.7328072153325818|\n",
      "|          West Adams|10767.082545303847|     26543|      20771| 0.7825415363749387|\n",
      "|           Brookside|18138.626409017714|       621|        550| 0.8856682769726248|\n",
      "|       Beverly Crest| 60947.49019768682|     12191|       4527| 0.3713395127553113|\n",
      "|             Bel Air| 63041.33809466166|      8261|       3532| 0.4275511439293064|\n",
      "|        Sherman Oaks|37767.445673661336|     81443|      64370| 0.7903687241383545|\n",
      "|           Koreatown|13588.462578974624|     48275|      37527| 0.7773588814085965|\n",
      "|       Baldwin Hills| 17302.69762894158|     28637|      34194| 1.1940496560393896|\n",
      "|      Woodland Hills| 37616.88672183443|     63322|      44940| 0.7097059473800574|\n",
      "| Palisades Highlands| 66867.43986433603|      3833|        788| 0.2055830941821028|\n",
      "|             Tarzana| 29095.61605578763|     29684|      21924| 0.7385797062390513|\n",
      "|              Arleta|12110.779170215355|     32876|      14542| 0.4423287504562599|\n",
      "|     North Hollywood|17301.439127869406|    142364|     114090| 0.8013964204433706|\n",
      "|         Valley Glen|18271.771022083805|     28256|      15673| 0.5546786523216308|\n",
      "|        Shadow Hills|25204.011223344558|      4455|       2599| 0.5833894500561168|\n",
      "|          Sun Valley|14076.857326804144|     51257|      33803| 0.6594806563006028|\n",
      "|       Panorama City|10221.126106035537|     69505|      45166| 0.6498237536867851|\n",
      "|      Valley Village|28191.368348521893|     22495|      15317| 0.6809068681929318|\n",
      "|      Temple-Beaudry|14815.406344865309|     36565|      26923| 0.7363052099001778|\n",
      "|           Chinatown| 14058.45616777387|      7677|       9645| 1.2563501367721766|\n",
      "|            Westlake|10117.443537464767|     54638|      54794| 1.0028551557524068|\n",
      "|  Wholesale District| 7728.686107223598|     37156|      81475|  2.192781784906879|\n",
      "|       Boyle Heights| 8434.465372685858|     82536|      59315| 0.7186561015799167|\n",
      "|            Downtown|18522.983327691265|     23632|      95223|  4.029409275558565|\n",
      "|        Reseda Ranch|14318.063612099644|      4496|       3473| 0.7724644128113879|\n",
      "|             Pacoima|11699.015375846486|     73687|      40739| 0.5528654986632648|\n",
      "|    Lakeview Terrace|15991.256902570613|     12604|       7857| 0.6233735322119962|\n",
      "|         North Hills|16224.486385809312|     56375|      36929|  0.655059866962306|\n",
      "|       Mission Hills|17158.531060539495|     22762|      14944| 0.6565328178543186|\n",
      "|      Vermont Knolls|10499.293860175081|     16678|      20367|  1.221189591078067|\n",
      "|   Manchester Square|14589.573905662664|      8247|       8987| 1.0897295986419304|\n",
      "|      Gramercy Place|14936.698098639128|     10361|      11148| 1.0759579191197761|\n",
      "|   Mandeville Canyon| 55572.10949582431|      3233|        848|0.26229508196721313|\n",
      "|            Westwood| 25506.74280945542|     51526|      20324| 0.3944416411132244|\n",
      "|      Jefferson Park|10258.852338413031|      7612|       5194| 0.6823436678928009|\n",
      "|   Wellington Square|13445.857142857143|      4606|       4527| 0.9828484585323491|\n",
      "|   Crenshaw District|14905.189390484877|     13158|      13297|  1.010563915488676|\n",
      "|            Longwood|13420.052256532066|      4210|       3074|  0.730166270783848|\n",
      "|    University Hills| 11766.36404207842|      3137|       1078| 0.3436404207841887|\n",
      "|Historic Filipino...|15175.546139359698|     13275|      11127| 0.8381920903954803|\n",
      "|           Echo Park| 21598.36342999414|     13656|       9954| 0.7289103690685413|\n",
      "|     Wilshire Center| 15965.02522465377|     47295|      40843| 0.8635796595834655|\n",
      "|     Lincoln Heights|10902.134793218598|     31144|      19391| 0.6226239404058567|\n",
      "|    Angelino Heights|18411.548821548822|      2376|       1497| 0.6300505050505051|\n",
      "|        Elysian Park|13871.322764382001|      5267|       4305| 0.8173533320675906|\n",
      "|      Elysian Valley|16254.016512820514|      9750|       5873| 0.6023589743589743|\n",
      "+--------------------+------------------+----------+-----------+-------------------+\n",
      "only showing top 100 rows\n",
      "\n",
      "Exec Time: 48.6177761554718"
     ]
    }
   ],
   "source": [
    "# times_lst = []\n",
    "# for i in range(10):\n",
    "#     start_time = time.time()\n",
    "#     query3_HashJoin(show_res=False)\n",
    "#     times_lst.append(time.time() - start_time)\n",
    "# print(times_lst)\n",
    "# print(f'Average execution time: {np.mean(times_lst)}')\n",
    "# query3_HashJoin(show_res=True)\n",
    "\n",
    "start_time = time.time()\n",
    "query3_HashJoin(show_res=True)\n",
    "print(f'Exec Time: {time.time() - start_time}')"
   ]
  },
  {
   "cell_type": "code",
   "execution_count": 24,
   "id": "41f2d786-1653-4e39-b9b9-cefbab7c4750",
   "metadata": {
    "tags": []
   },
   "outputs": [
    {
     "data": {
      "application/vnd.jupyter.widget-view+json": {
       "model_id": "",
       "version_major": 2,
       "version_minor": 0
      },
      "text/plain": [
       "FloatProgress(value=0.0, bar_style='info', description='Progress:', layout=Layout(height='25px', width='50%'),…"
      ]
     },
     "metadata": {},
     "output_type": "display_data"
    }
   ],
   "source": [
    "def query3_SHUFFLE_REPLICATE_NL_Join(show_res):\n",
    "    # Initialize Spark session\n",
    "    spark = SparkSession.builder \\\n",
    "        .appName(\"Query 3 SHUFFLE_REPLICATE_NL Join\") \\\n",
    "        .config(\"spark.sql.autoBroadcastJoinThreshold\", -1) \\\n",
    "        .getOrCreate()\n",
    "\n",
    "    sedona = SedonaContext.create(spark)\n",
    "\n",
    "    # Read the file from S3\n",
    "    geojson_path = \"s3://initial-notebook-data-bucket-dblab-905418150721/2010_Census_Blocks.geojson\"\n",
    "    blocks_df = sedona.read.format(\"geojson\") \\\n",
    "        .option(\"multiLine\", \"true\").load(geojson_path) \\\n",
    "        .selectExpr(\"explode(features) as features\") \\\n",
    "        .select(\"features.*\")\n",
    "\n",
    "    # Formatting\n",
    "    flattened_df = blocks_df.select(\n",
    "        [col(f\"properties.{col_name}\").alias(col_name)\n",
    "         for col_name in blocks_df.schema[\"properties\"].dataType.fieldNames()] + [\"geometry\"]\n",
    "    ).drop(\"properties\").drop(\"type\")\n",
    "\n",
    "    flattend_df = flattened_df.withColumn(\"ZCTA10\", col(\"ZCTA10\").cast(\"int\"))\n",
    "    flattend_df_LA = flattened_df.filter(col(\"CITY\") == \"Los Angeles\") \\\n",
    "        .withColumnRenamed(\"ZCTA10\", \"ZIP Code\")\n",
    "\n",
    "    group_number = \"32\"\n",
    "    s3_path = f\"s3://groups-bucket-dblab-905418150721/group{group_number}/assigment_parquet_files/\"\n",
    "    df_income_parquet = spark.read.parquet(s3_path + \"LA_Income.parquet\")\n",
    "    df_income_parquet = df_income_parquet.select(\"Zip Code\", \"Estimated Median Income\")\n",
    "\n",
    "    # Join flattened blocks data with income data\n",
    "    df_join = flattend_df_LA.join(df_income_parquet,'Zip Code', \"inner\").withColumn(\"EstimatedIncome\", col(\"Estimated Median Income\")*col(\"HOUSING10\")) \\\n",
    "                .groupBy(\"COMM\") \\\n",
    "                .agg(ST_Union_Aggr(\"geometry\").alias(\"geometry\"), sum(\"POP_2010\").alias(\"Population\"), sum(\"EstimatedIncome\").alias(\"EstimatedIncome\")) \\\n",
    "                .withColumn(\"PersonalMeanIncome\", col(\"EstimatedIncome\")/col(\"Population\"))\n",
    "\n",
    "    df_parquet_file = spark.read.parquet(s3_path + \"criminal_parquet.parquet\")\n",
    "\n",
    "    # Create geometry column for crime data\n",
    "    df_crime_Geom = df_parquet_file.withColumn(\"point\", ST_Point(\"LON\", \"LAT\"))\n",
    "    \n",
    "    # # Join by find the closest area between the Lat and Lon on the polygon geom point \n",
    "    # Perform SHUFFLE_REPLICATE_NL Join (CROSS JOIN + Filter)\n",
    "    df_join2 = df_join.crossJoin(df_crime_Geom) \\\n",
    "        .filter(ST_Within(df_crime_Geom.point, df_join.geometry))\n",
    "\n",
    "    # Final aggregation\n",
    "    df_final = df_join2.groupby(\"COMM\", \"PersonalMeanIncome\", \"Population\") \\\n",
    "        .agg(count(\"*\").alias(\"TotalCrimes\")) \\\n",
    "        .withColumn(\"Average Crimes\", col(\"TotalCrimes\") / col(\"Population\"))\n",
    "    if show_res:\n",
    "        df_final.show(100)"
   ]
  },
  {
   "cell_type": "code",
   "execution_count": 25,
   "id": "486113b6-7068-406f-9707-7e7285dcca33",
   "metadata": {
    "tags": []
   },
   "outputs": [
    {
     "data": {
      "application/vnd.jupyter.widget-view+json": {
       "model_id": "",
       "version_major": 2,
       "version_minor": 0
      },
      "text/plain": [
       "FloatProgress(value=0.0, bar_style='info', description='Progress:', layout=Layout(height='25px', width='50%'),…"
      ]
     },
     "metadata": {},
     "output_type": "display_data"
    },
    {
     "name": "stdout",
     "output_type": "stream",
     "text": [
      "[2.9575493335723877, 2.9806854724884033, 3.085684061050415, 2.6318600177764893, 3.2133727073669434, 2.8572897911071777, 2.9764645099639893, 2.8152236938476562, 3.032799482345581, 2.859243392944336]\n",
      "Average execution time: 2.941017246246338\n",
      "+--------------------+------------------+----------+-----------+-------------------+\n",
      "|                COMM|PersonalMeanIncome|Population|TotalCrimes|     Average Crimes|\n",
      "+--------------------+------------------+----------+-----------+-------------------+\n",
      "|   Faircrest Heights|20908.511762997387|      3443|       4408| 1.2802788266047052|\n",
      "|    Cadillac-Corning|19572.784696174043|      6665|       4445| 0.6669167291822956|\n",
      "|      Vermont Square| 8329.565791341376|      7045|       5634| 0.7997161107168205|\n",
      "|            Mid-city| 21734.64899923286|     14339|      11574| 0.8071692586651789|\n",
      "|        Harbor Pines|  19236.6966651439|      2189|       1220| 0.5573321151210598|\n",
      "|  Cloverdale/Cochran|14660.930872291905|     14032|       9934| 0.7079532497149373|\n",
      "|    Lafayette Square|16700.833409821018|      4358|       3982| 0.9137218907755851|\n",
      "|          Northridge|22909.936328320196|     62037|      49585| 0.7992810741976563|\n",
      "|     Wilshire Center| 15965.02522465377|     47295|      40843| 0.8635796595834655|\n",
      "|       Granada Hills|27608.016856376424|     55172|      31903| 0.5782462118465889|\n",
      "|       Green Meadows| 8027.096412895414|     19821|      23975| 1.2095757025377125|\n",
      "|      Jefferson Park|10258.852338413031|      7612|       5194| 0.6823436678928009|\n",
      "|     Lincoln Heights|10902.134793218598|     31144|      19391| 0.6226239404058567|\n",
      "|         North Hills|16224.486385809312|     56375|      36929|  0.655059866962306|\n",
      "|            Van Nuys|14488.189551145677|     86019|      78883| 0.9170415838361292|\n",
      "|     Adams-Normandie| 8791.458301453711|      7842|       5779| 0.7369293547564397|\n",
      "|        Elysian Park|13871.322764382001|      5267|       4305| 0.8173533320675906|\n",
      "|       Boyle Heights| 8434.465372685858|     82536|      59315| 0.7186561015799167|\n",
      "|      Gramercy Place|14936.698098639128|     10361|      11148| 1.0759579191197761|\n",
      "|      Toluca Terrace|20167.531898539586|      1301|        300|0.23059185242121444|\n",
      "|              Encino| 38338.00564358072|     42349|      29803|  0.703747432052705|\n",
      "|            Longwood|13420.052256532066|      4210|       3074|  0.730166270783848|\n",
      "|              Venice|47614.883340996166|     32625|      40942| 1.2549272030651342|\n",
      "|  Century Palms/Cove| 8552.220122507493|     30692|      38877| 1.2666818714974586|\n",
      "|    University Hills| 11766.36404207842|      3137|       1078| 0.3436404207841887|\n",
      "|    West Los Angeles| 39714.00529781941|     34165|      28397| 0.8311722523049905|\n",
      "|   Country Club Park|15774.632805995005|     14412|      10536| 0.7310574521232306|\n",
      "|       Beverly Crest| 60947.49019768682|     12191|       4527| 0.3713395127553113|\n",
      "|       South Carthay|39831.340037649854|     10093|       7299|  0.723174477360547|\n",
      "|   Manchester Square|14589.573905662664|      8247|       8987| 1.0897295986419304|\n",
      "|      Temple-Beaudry|14815.406344865309|     36565|      26923| 0.7363052099001778|\n",
      "|         Beverlywood|  29267.8210229561|     12415|       6471|  0.521224325412807|\n",
      "|           Chinatown| 14058.45616777387|      7677|       9645| 1.2563501367721766|\n",
      "|             Carthay|49841.164527155335|     13165|      12273| 0.9322445879225219|\n",
      "|        Toluca Woods|24517.584109589043|      1825|       1172| 0.6421917808219179|\n",
      "|       Cheviot Hills| 36600.50260445528|      9023|       5001| 0.5542502493627397|\n",
      "|     Reynier Village|24451.135373317014|      4085|       2930| 0.7172582619339045|\n",
      "|         Playa Vista| 50264.47187990141|      8926|       7281| 0.8157069235939951|\n",
      "|       Glassell Park|18824.302773290252|     29712|      14916| 0.5020193861066236|\n",
      "|             Sunland|26121.014098127034|     19648|       9821|0.49984731270358307|\n",
      "|          Silverlake| 24918.17392567486|     41305|      29840| 0.7224306984626558|\n",
      "|Figueroa Park Square| 9298.712075426085|      8273|       8180| 0.9887586123534389|\n",
      "|           Koreatown|13588.462578974624|     48275|      37527| 0.7773588814085965|\n",
      "|          South Park| 6943.255564343012|     35404|      31378| 0.8862840357021805|\n",
      "|         Studio City| 44049.85263005362|     20703|      19245| 0.9295754238516157|\n",
      "|     Atwater Village|28477.197361889226|     14101|       9696| 0.6876108077441316|\n",
      "|     North Hollywood|17301.439127869406|    142364|     114090| 0.8013964204433706|\n",
      "|              Reseda|16927.968267450116|     71819|      43870| 0.6108411423161002|\n",
      "|    Angelino Heights|18411.548821548822|      2376|       1497| 0.6300505050505051|\n",
      "|         Harbor City| 21383.02221233359|     26967|      17331| 0.6426743797975303|\n",
      "|           Brentwood|60840.624859219824|     29301|      14756| 0.5036005597078598|\n",
      "|     Harvard Heights| 11820.77334670521|     16951|      13235|  0.780779894991446|\n",
      "|       Playa Del Rey|   45522.596580114|      3158|       2454| 0.7770740975300824|\n",
      "|         Canoga Park|19656.956398554536|     58943|      52816| 0.8960521181480413|\n",
      "|              Alsace| 11239.50119372442|     11728|       6466| 0.5513301500682128|\n",
      "|   Pacific Palisades| 70656.11282274863|     20643|       9307|0.45085501138400425|\n",
      "|     Exposition Park| 8956.490471182702|     38987|      40814|  1.046861774437633|\n",
      "|         Westchester|  33988.4574421559|     48017|      57124| 1.1896619947102067|\n",
      "|   Mandeville Canyon| 55572.10949582431|      3233|        848|0.26229508196721313|\n",
      "|Angeles National ...|          28117.65|        20|        227|              11.35|\n",
      "|           Crestview|33327.120074177095|     10785|       7338| 0.6803894297635605|\n",
      "|     Hollywood Hills|43015.988205771646|     27895|      22141| 0.7937264742785446|\n",
      "|   Wellington Square|13445.857142857143|      4606|       4527| 0.9828484585323491|\n",
      "|       Regent Square|19615.819537658463|      2682|       2097| 0.7818791946308725|\n",
      "|          Exposition|12322.893761581223|      3238|       4379|  1.352378011117974|\n",
      "|         Lake Balboa|17289.087391147525|     38814|      23357| 0.6017674035141959|\n",
      "|       Panorama City|10221.126106035537|     69505|      45166| 0.6498237536867851|\n",
      "|            Winnetka|19638.747657099826|     47804|      31974| 0.6688561626642122|\n",
      "|             Central|6972.5184348709845|     35422|      24981| 0.7052396815538367|\n",
      "|             Del Rey|33675.359382921706|     27614|      15432| 0.5588469616861013|\n",
      "| Palisades Highlands| 66867.43986433603|      3833|        788| 0.2055830941821028|\n",
      "|      Vermont Knolls|10499.293860175081|     16678|      20367|  1.221189591078067|\n",
      "|        Century City|46103.510597140456|     11890|      10176| 0.8558452481076535|\n",
      "|             Bel Air| 63041.33809466166|      8261|       3532| 0.4275511439293064|\n",
      "|         West Vernon|  8722.73435387674|     50300|      54032| 1.0741948310139164|\n",
      "|       Victoria Park|15596.298133533759|      7983|       5850| 0.7328072153325818|\n",
      "|      Vernon Central| 6624.199011707778|     48771|      35546| 0.7288347583605012|\n",
      "|      Elysian Valley|16254.016512820514|      9750|       5873| 0.6023589743589743|\n",
      "|        Park La Brea| 36619.90001697504|     11782|      12079|  1.025207944321847|\n",
      "|      Mt. Washington|16611.170365223432|     23027|      11060|0.48030572805836624|\n",
      "|  Wholesale District| 7728.686107223598|     37156|      81475|  2.192781784906879|\n",
      "|   Little Bangladesh| 18590.28362672724|     26415|      19626| 0.7429869392390687|\n",
      "|        Reseda Ranch|14318.063612099644|      4496|       3473| 0.7724644128113879|\n",
      "|      Valley Village|28191.368348521893|     22495|      15317| 0.6809068681929318|\n",
      "|       Mission Hills|17158.531060539495|     22762|      14944| 0.6565328178543186|\n",
      "|           Mar Vista| 33150.61478300874|     39126|      19434|0.49670295966876243|\n",
      "|       Baldwin Hills| 17302.69762894158|     28637|      34194| 1.1940496560393896|\n",
      "|             Pacoima|11699.015375846486|     73687|      40739| 0.5528654986632648|\n",
      "|           San Pedro|24244.561240141717|     73669|      57101| 0.7751021460858706|\n",
      "|          Chatsworth|30580.876526106156|     34647|      23963|  0.691632753196525|\n",
      "|           Thai Town| 26851.47272727273|      9350|       4961| 0.5305882352941177|\n",
      "|              Arleta|12110.779170215355|     32876|      14542| 0.4423287504562599|\n",
      "|               Watts| 7754.242176664901|     39657|      39461| 0.9950576190836422|\n",
      "|           Hyde Park|  14143.1878466879|     27943|      30263|  1.083026160397953|\n",
      "|            Downtown|18522.983327691265|     23632|      95223|  4.029409275558565|\n",
      "|        Harvard Park| 9846.966142618048|     36447|      43771|  1.200949323675474|\n",
      "|           El Sereno|13556.709807073956|     39808|      19734|0.49572950160771706|\n",
      "|       Vermont Vista| 8361.683062583223|     37550|      50165| 1.3359520639147804|\n",
      "|             Tujunga|22248.338981785608|     26792|      12173| 0.4543520453866826|\n",
      "|          West Hills|28761.284715519265|     38333|      18527| 0.4833172462369238|\n",
      "+--------------------+------------------+----------+-----------+-------------------+\n",
      "only showing top 100 rows\n",
      "\n",
      "+--------------------+------------------+----------+-----------+-------------------+\n",
      "|                COMM|PersonalMeanIncome|Population|TotalCrimes|     Average Crimes|\n",
      "+--------------------+------------------+----------+-----------+-------------------+\n",
      "|             Del Rey|33675.359382921706|     27614|      15432| 0.5588469616861013|\n",
      "| Palisades Highlands| 66867.43986433603|      3833|        788| 0.2055830941821028|\n",
      "|      Vermont Knolls|10499.293860175081|     16678|      20367|  1.221189591078067|\n",
      "|        Century City|46103.510597140456|     11890|      10176| 0.8558452481076535|\n",
      "|             Bel Air| 63041.33809466166|      8261|       3532| 0.4275511439293064|\n",
      "|         West Vernon|  8722.73435387674|     50300|      54032| 1.0741948310139164|\n",
      "|       Victoria Park|15596.298133533759|      7983|       5850| 0.7328072153325818|\n",
      "|      Vernon Central| 6624.199011707778|     48771|      35546| 0.7288347583605012|\n",
      "|      Elysian Valley|16254.016512820514|      9750|       5873| 0.6023589743589743|\n",
      "|        Park La Brea| 36619.90001697504|     11782|      12079|  1.025207944321847|\n",
      "|      Mt. Washington|16611.170365223432|     23027|      11060|0.48030572805836624|\n",
      "|  Wholesale District| 7728.686107223598|     37156|      81475|  2.192781784906879|\n",
      "|   Little Bangladesh| 18590.28362672724|     26415|      19626| 0.7429869392390687|\n",
      "|        Reseda Ranch|14318.063612099644|      4496|       3473| 0.7724644128113879|\n",
      "|      Valley Village|28191.368348521893|     22495|      15317| 0.6809068681929318|\n",
      "|       Mission Hills|17158.531060539495|     22762|      14944| 0.6565328178543186|\n",
      "|           Mar Vista| 33150.61478300874|     39126|      19434|0.49670295966876243|\n",
      "|       Baldwin Hills| 17302.69762894158|     28637|      34194| 1.1940496560393896|\n",
      "|           Los Feliz|30473.013522716217|     20558|      18659| 0.9076272010896002|\n",
      "|      Woodland Hills| 37616.88672183443|     63322|      44940| 0.7097059473800574|\n",
      "|Historic Filipino...|15175.546139359698|     13275|      11127| 0.8381920903954803|\n",
      "|         Rancho Park|38740.063860206516|      6295|       7902| 1.2552819698173154|\n",
      "|           Echo Park| 21598.36342999414|     13656|       9954| 0.7289103690685413|\n",
      "|            Westlake|10117.443537464767|     54638|      54794| 1.0028551557524068|\n",
      "|    Lakeview Terrace|15991.256902570613|     12604|       7857| 0.6233735322119962|\n",
      "|     Sycamore Square|30116.823622047243|       635|        716| 1.1275590551181103|\n",
      "|          Wilmington|11169.220314136126|     52525|      39582| 0.7535840076154212|\n",
      "|         Valley Glen|18271.771022083805|     28256|      15673| 0.5546786523216308|\n",
      "|        Sherman Oaks|37767.445673661336|     81443|      64370| 0.7903687241383545|\n",
      "|             Tarzana| 29095.61605578763|     29684|      21924| 0.7385797062390513|\n",
      "|      Little Armenia|15092.245416833935|      7473|       6467| 0.8653820420179312|\n",
      "|      East Hollywood|14006.325244770022|     28394|      23023| 0.8108403183771219|\n",
      "|         Toluca Lake| 37050.74249905051|      7899|       6141| 0.7774401823015572|\n",
      "|        Porter Ranch| 35201.02371931612|     31409|      12668|0.40332388805756314|\n",
      "|          Sun Valley|14076.857326804144|     51257|      33803| 0.6594806563006028|\n",
      "|  Florence-Firestone| 8079.274829277236|     43638|      48586| 1.1133874146386178|\n",
      "|             Melrose|21688.494260533687|     73526|      66893|  0.909787014117455|\n",
      "|        View Heights|15274.344488793367|      3257|       2259| 0.6935830518882408|\n",
      "|          West Adams|10767.082545303847|     26543|      20771| 0.7825415363749387|\n",
      "|           Brookside|18138.626409017714|       621|        550| 0.8856682769726248|\n",
      "|        Leimert Park| 16098.61121206003|     14859|      18051| 1.2148193014334747|\n",
      "|       Highland Park|16888.526460375368|     45502|      22765| 0.5003076787833501|\n",
      "|               Palms| 30599.65532961864|     41457|      21279|  0.513278819017295|\n",
      "|      Harbor Gateway|16154.823549930237|     40136|      26302| 0.6553219055212278|\n",
      "|   Crenshaw District|14905.189390484877|     13158|      13297|  1.010563915488676|\n",
      "|   Faircrest Heights|20908.511762997387|      3443|       4408| 1.2802788266047052|\n",
      "|    Cadillac-Corning|19572.784696174043|      6665|       4445| 0.6669167291822956|\n",
      "|      Vermont Square| 8329.565791341376|      7045|       5634| 0.7997161107168205|\n",
      "|            Mid-city| 21734.64899923286|     14339|      11574| 0.8071692586651789|\n",
      "|        Harbor Pines|  19236.6966651439|      2189|       1220| 0.5573321151210598|\n",
      "|  Cloverdale/Cochran|14660.930872291905|     14032|       9934| 0.7079532497149373|\n",
      "|    Lafayette Square|16700.833409821018|      4358|       3982| 0.9137218907755851|\n",
      "|          Northridge|22909.936328320196|     62037|      49585| 0.7992810741976563|\n",
      "|     Wilshire Center| 15965.02522465377|     47295|      40843| 0.8635796595834655|\n",
      "|       Granada Hills|27608.016856376424|     55172|      31903| 0.5782462118465889|\n",
      "|       Green Meadows| 8027.096412895414|     19821|      23975| 1.2095757025377125|\n",
      "|      Jefferson Park|10258.852338413031|      7612|       5194| 0.6823436678928009|\n",
      "|     Lincoln Heights|10902.134793218598|     31144|      19391| 0.6226239404058567|\n",
      "|         North Hills|16224.486385809312|     56375|      36929|  0.655059866962306|\n",
      "|            Van Nuys|14488.189551145677|     86019|      78883| 0.9170415838361292|\n",
      "|     Adams-Normandie| 8791.458301453711|      7842|       5779| 0.7369293547564397|\n",
      "|        Elysian Park|13871.322764382001|      5267|       4305| 0.8173533320675906|\n",
      "|       Boyle Heights| 8434.465372685858|     82536|      59315| 0.7186561015799167|\n",
      "|      Gramercy Place|14936.698098639128|     10361|      11148| 1.0759579191197761|\n",
      "|      Toluca Terrace|20167.531898539586|      1301|        300|0.23059185242121444|\n",
      "|              Encino| 38338.00564358072|     42349|      29803|  0.703747432052705|\n",
      "|            Longwood|13420.052256532066|      4210|       3074|  0.730166270783848|\n",
      "|              Venice|47614.883340996166|     32625|      40942| 1.2549272030651342|\n",
      "|  Century Palms/Cove| 8552.220122507493|     30692|      38877| 1.2666818714974586|\n",
      "|    University Hills| 11766.36404207842|      3137|       1078| 0.3436404207841887|\n",
      "|    West Los Angeles| 39714.00529781941|     34165|      28397| 0.8311722523049905|\n",
      "|   Country Club Park|15774.632805995005|     14412|      10536| 0.7310574521232306|\n",
      "|       Beverly Crest| 60947.49019768682|     12191|       4527| 0.3713395127553113|\n",
      "|       South Carthay|39831.340037649854|     10093|       7299|  0.723174477360547|\n",
      "|   Manchester Square|14589.573905662664|      8247|       8987| 1.0897295986419304|\n",
      "|      Temple-Beaudry|14815.406344865309|     36565|      26923| 0.7363052099001778|\n",
      "|         Beverlywood|  29267.8210229561|     12415|       6471|  0.521224325412807|\n",
      "|           Chinatown| 14058.45616777387|      7677|       9645| 1.2563501367721766|\n",
      "|             Carthay|49841.164527155335|     13165|      12273| 0.9322445879225219|\n",
      "|        Toluca Woods|24517.584109589043|      1825|       1172| 0.6421917808219179|\n",
      "|       Cheviot Hills| 36600.50260445528|      9023|       5001| 0.5542502493627397|\n",
      "|     Reynier Village|24451.135373317014|      4085|       2930| 0.7172582619339045|\n",
      "|         Playa Vista| 50264.47187990141|      8926|       7281| 0.8157069235939951|\n",
      "|       Glassell Park|18824.302773290252|     29712|      14916| 0.5020193861066236|\n",
      "|             Sunland|26121.014098127034|     19648|       9821|0.49984731270358307|\n",
      "|          Silverlake| 24918.17392567486|     41305|      29840| 0.7224306984626558|\n",
      "|Figueroa Park Square| 9298.712075426085|      8273|       8180| 0.9887586123534389|\n",
      "|           Koreatown|13588.462578974624|     48275|      37527| 0.7773588814085965|\n",
      "|          South Park| 6943.255564343012|     35404|      31378| 0.8862840357021805|\n",
      "|         Studio City| 44049.85263005362|     20703|      19245| 0.9295754238516157|\n",
      "|     Atwater Village|28477.197361889226|     14101|       9696| 0.6876108077441316|\n",
      "|     North Hollywood|17301.439127869406|    142364|     114090| 0.8013964204433706|\n",
      "|              Reseda|16927.968267450116|     71819|      43870| 0.6108411423161002|\n",
      "|    Angelino Heights|18411.548821548822|      2376|       1497| 0.6300505050505051|\n",
      "|         Harbor City| 21383.02221233359|     26967|      17331| 0.6426743797975303|\n",
      "|           Brentwood|60840.624859219824|     29301|      14756| 0.5036005597078598|\n",
      "|     Harvard Heights| 11820.77334670521|     16951|      13235|  0.780779894991446|\n",
      "|       Playa Del Rey|   45522.596580114|      3158|       2454| 0.7770740975300824|\n",
      "|         Canoga Park|19656.956398554536|     58943|      52816| 0.8960521181480413|\n",
      "|              Alsace| 11239.50119372442|     11728|       6466| 0.5513301500682128|\n",
      "+--------------------+------------------+----------+-----------+-------------------+\n",
      "only showing top 100 rows\n",
      "\n",
      "Exec Time: 77.20004177093506"
     ]
    }
   ],
   "source": [
    "times_lst = []\n",
    "for i in range(10):\n",
    "    start_time = time.time()\n",
    "    query3_SHUFFLE_REPLICATE_NL_Join(show_res=False)\n",
    "    times_lst.append(time.time() - start_time)\n",
    "print(times_lst)\n",
    "print(f'Average execution time: {np.mean(times_lst)}')\n",
    "query3_SHUFFLE_REPLICATE_NL_Join(show_res=True)\n",
    "\n",
    "start_time = time.time()\n",
    "query3_SHUFFLE_REPLICATE_NL_Join(show_res=True)\n",
    "print(f'Exec Time: {time.time() - start_time}')"
   ]
  },
  {
   "cell_type": "markdown",
   "id": "01432ae5-d9c3-44ae-8a34-55c293746d54",
   "metadata": {},
   "source": [
    "### Query 4 "
   ]
  },
  {
   "cell_type": "code",
   "execution_count": 26,
   "id": "cd4662f6-3148-4df4-9e78-fedbe5a592ab",
   "metadata": {
    "tags": []
   },
   "outputs": [
    {
     "name": "stdout",
     "output_type": "stream",
     "text": [
      "Starting Spark application\n"
     ]
    },
    {
     "data": {
      "text/html": [
       "<table>\n",
       "<tr><th>ID</th><th>YARN Application ID</th><th>Kind</th><th>State</th><th>Spark UI</th><th>Driver log</th><th>User</th><th>Current session?</th></tr><tr><td>2888</td><td>application_1732639283265_2847</td><td>pyspark</td><td>idle</td><td><a target=\"_blank\" href=\"http://ip-192-168-1-36.eu-central-1.compute.internal:20888/proxy/application_1732639283265_2847/\">Link</a></td><td><a target=\"_blank\" href=\"http://ip-192-168-1-119.eu-central-1.compute.internal:8042/node/containerlogs/container_1732639283265_2847_01_000001/livy\">Link</a></td><td>None</td><td>✔</td></tr></table>"
      ],
      "text/plain": [
       "<IPython.core.display.HTML object>"
      ]
     },
     "metadata": {},
     "output_type": "display_data"
    },
    {
     "data": {
      "application/vnd.jupyter.widget-view+json": {
       "model_id": "",
       "version_major": 2,
       "version_minor": 0
      },
      "text/plain": [
       "FloatProgress(value=0.0, bar_style='info', description='Progress:', layout=Layout(height='25px', width='50%'),…"
      ]
     },
     "metadata": {},
     "output_type": "display_data"
    },
    {
     "name": "stdout",
     "output_type": "stream",
     "text": [
      "SparkSession available as 'spark'.\n"
     ]
    },
    {
     "data": {
      "text/html": [
       "Current session configs: <tt>{'conf': {'spark.sql.catalog.spark_catalog.type': 'hive', 'spark.executor.instances': '2', 'spark.executor.memory': '2g', 'spark.executor.cores': '1', 'spark.driver.memory': '2g'}, 'kind': 'pyspark'}</tt><br>"
      ],
      "text/plain": [
       "<IPython.core.display.HTML object>"
      ]
     },
     "metadata": {},
     "output_type": "display_data"
    },
    {
     "data": {
      "text/html": [
       "<table>\n",
       "<tr><th>ID</th><th>YARN Application ID</th><th>Kind</th><th>State</th><th>Spark UI</th><th>Driver log</th><th>User</th><th>Current session?</th></tr><tr><td>2728</td><td>application_1732639283265_2687</td><td>pyspark</td><td>idle</td><td><a target=\"_blank\" href=\"http://ip-192-168-1-36.eu-central-1.compute.internal:20888/proxy/application_1732639283265_2687/\">Link</a></td><td><a target=\"_blank\" href=\"http://ip-192-168-1-80.eu-central-1.compute.internal:8042/node/containerlogs/container_1732639283265_2687_01_000001/livy\">Link</a></td><td>None</td><td></td></tr><tr><td>2762</td><td>application_1732639283265_2721</td><td>pyspark</td><td>idle</td><td><a target=\"_blank\" href=\"http://ip-192-168-1-36.eu-central-1.compute.internal:20888/proxy/application_1732639283265_2721/\">Link</a></td><td><a target=\"_blank\" href=\"http://ip-192-168-1-117.eu-central-1.compute.internal:8042/node/containerlogs/container_1732639283265_2721_01_000001/livy\">Link</a></td><td>None</td><td></td></tr><tr><td>2767</td><td>application_1732639283265_2726</td><td>pyspark</td><td>idle</td><td><a target=\"_blank\" href=\"http://ip-192-168-1-36.eu-central-1.compute.internal:20888/proxy/application_1732639283265_2726/\">Link</a></td><td><a target=\"_blank\" href=\"http://ip-192-168-1-112.eu-central-1.compute.internal:8042/node/containerlogs/container_1732639283265_2726_01_000002/livy\">Link</a></td><td>None</td><td></td></tr><tr><td>2773</td><td>application_1732639283265_2732</td><td>pyspark</td><td>idle</td><td><a target=\"_blank\" href=\"http://ip-192-168-1-36.eu-central-1.compute.internal:20888/proxy/application_1732639283265_2732/\">Link</a></td><td><a target=\"_blank\" href=\"http://ip-192-168-1-166.eu-central-1.compute.internal:8042/node/containerlogs/container_1732639283265_2732_01_000001/livy\">Link</a></td><td>None</td><td></td></tr><tr><td>2776</td><td>application_1732639283265_2735</td><td>pyspark</td><td>idle</td><td><a target=\"_blank\" href=\"http://ip-192-168-1-36.eu-central-1.compute.internal:20888/proxy/application_1732639283265_2735/\">Link</a></td><td><a target=\"_blank\" href=\"http://ip-192-168-1-181.eu-central-1.compute.internal:8042/node/containerlogs/container_1732639283265_2735_01_000001/livy\">Link</a></td><td>None</td><td></td></tr><tr><td>2779</td><td>application_1732639283265_2738</td><td>pyspark</td><td>idle</td><td><a target=\"_blank\" href=\"http://ip-192-168-1-36.eu-central-1.compute.internal:20888/proxy/application_1732639283265_2738/\">Link</a></td><td><a target=\"_blank\" href=\"http://ip-192-168-1-91.eu-central-1.compute.internal:8042/node/containerlogs/container_1732639283265_2738_01_000001/livy\">Link</a></td><td>None</td><td></td></tr><tr><td>2780</td><td>application_1732639283265_2739</td><td>pyspark</td><td>idle</td><td><a target=\"_blank\" href=\"http://ip-192-168-1-36.eu-central-1.compute.internal:20888/proxy/application_1732639283265_2739/\">Link</a></td><td><a target=\"_blank\" href=\"http://ip-192-168-1-117.eu-central-1.compute.internal:8042/node/containerlogs/container_1732639283265_2739_01_000001/livy\">Link</a></td><td>None</td><td></td></tr><tr><td>2783</td><td>application_1732639283265_2742</td><td>pyspark</td><td>idle</td><td><a target=\"_blank\" href=\"http://ip-192-168-1-36.eu-central-1.compute.internal:20888/proxy/application_1732639283265_2742/\">Link</a></td><td><a target=\"_blank\" href=\"http://ip-192-168-1-181.eu-central-1.compute.internal:8042/node/containerlogs/container_1732639283265_2742_01_000001/livy\">Link</a></td><td>None</td><td></td></tr><tr><td>2784</td><td>application_1732639283265_2743</td><td>pyspark</td><td>idle</td><td><a target=\"_blank\" href=\"http://ip-192-168-1-36.eu-central-1.compute.internal:20888/proxy/application_1732639283265_2743/\">Link</a></td><td><a target=\"_blank\" href=\"http://ip-192-168-1-80.eu-central-1.compute.internal:8042/node/containerlogs/container_1732639283265_2743_01_000001/livy\">Link</a></td><td>None</td><td></td></tr><tr><td>2786</td><td>application_1732639283265_2745</td><td>pyspark</td><td>idle</td><td><a target=\"_blank\" href=\"http://ip-192-168-1-36.eu-central-1.compute.internal:20888/proxy/application_1732639283265_2745/\">Link</a></td><td><a target=\"_blank\" href=\"http://ip-192-168-1-193.eu-central-1.compute.internal:8042/node/containerlogs/container_1732639283265_2745_01_000001/livy\">Link</a></td><td>None</td><td></td></tr><tr><td>2787</td><td>application_1732639283265_2746</td><td>pyspark</td><td>idle</td><td><a target=\"_blank\" href=\"http://ip-192-168-1-36.eu-central-1.compute.internal:20888/proxy/application_1732639283265_2746/\">Link</a></td><td><a target=\"_blank\" href=\"http://ip-192-168-1-203.eu-central-1.compute.internal:8042/node/containerlogs/container_1732639283265_2746_01_000002/livy\">Link</a></td><td>None</td><td></td></tr><tr><td>2791</td><td>application_1732639283265_2750</td><td>pyspark</td><td>idle</td><td><a target=\"_blank\" href=\"http://ip-192-168-1-36.eu-central-1.compute.internal:20888/proxy/application_1732639283265_2750/\">Link</a></td><td><a target=\"_blank\" href=\"http://ip-192-168-1-94.eu-central-1.compute.internal:8042/node/containerlogs/container_1732639283265_2750_01_000001/livy\">Link</a></td><td>None</td><td></td></tr><tr><td>2793</td><td>application_1732639283265_2752</td><td>pyspark</td><td>idle</td><td><a target=\"_blank\" href=\"http://ip-192-168-1-36.eu-central-1.compute.internal:20888/proxy/application_1732639283265_2752/\">Link</a></td><td><a target=\"_blank\" href=\"http://ip-192-168-1-178.eu-central-1.compute.internal:8042/node/containerlogs/container_1732639283265_2752_01_000001/livy\">Link</a></td><td>None</td><td></td></tr><tr><td>2797</td><td>application_1732639283265_2756</td><td>pyspark</td><td>idle</td><td><a target=\"_blank\" href=\"http://ip-192-168-1-36.eu-central-1.compute.internal:20888/proxy/application_1732639283265_2756/\">Link</a></td><td><a target=\"_blank\" href=\"http://ip-192-168-1-247.eu-central-1.compute.internal:8042/node/containerlogs/container_1732639283265_2756_01_000002/livy\">Link</a></td><td>None</td><td></td></tr><tr><td>2798</td><td>application_1732639283265_2757</td><td>pyspark</td><td>idle</td><td><a target=\"_blank\" href=\"http://ip-192-168-1-36.eu-central-1.compute.internal:20888/proxy/application_1732639283265_2757/\">Link</a></td><td><a target=\"_blank\" href=\"http://ip-192-168-1-178.eu-central-1.compute.internal:8042/node/containerlogs/container_1732639283265_2757_01_000001/livy\">Link</a></td><td>None</td><td></td></tr><tr><td>2806</td><td>application_1732639283265_2765</td><td>pyspark</td><td>idle</td><td><a target=\"_blank\" href=\"http://ip-192-168-1-36.eu-central-1.compute.internal:20888/proxy/application_1732639283265_2765/\">Link</a></td><td><a target=\"_blank\" href=\"http://ip-192-168-1-247.eu-central-1.compute.internal:8042/node/containerlogs/container_1732639283265_2765_01_000001/livy\">Link</a></td><td>None</td><td></td></tr><tr><td>2808</td><td>application_1732639283265_2767</td><td>pyspark</td><td>idle</td><td><a target=\"_blank\" href=\"http://ip-192-168-1-36.eu-central-1.compute.internal:20888/proxy/application_1732639283265_2767/\">Link</a></td><td><a target=\"_blank\" href=\"http://ip-192-168-1-94.eu-central-1.compute.internal:8042/node/containerlogs/container_1732639283265_2767_01_000001/livy\">Link</a></td><td>None</td><td></td></tr><tr><td>2812</td><td>application_1732639283265_2771</td><td>pyspark</td><td>idle</td><td><a target=\"_blank\" href=\"http://ip-192-168-1-36.eu-central-1.compute.internal:20888/proxy/application_1732639283265_2771/\">Link</a></td><td><a target=\"_blank\" href=\"http://ip-192-168-1-94.eu-central-1.compute.internal:8042/node/containerlogs/container_1732639283265_2771_01_000001/livy\">Link</a></td><td>None</td><td></td></tr><tr><td>2816</td><td>application_1732639283265_2775</td><td>pyspark</td><td>idle</td><td><a target=\"_blank\" href=\"http://ip-192-168-1-36.eu-central-1.compute.internal:20888/proxy/application_1732639283265_2775/\">Link</a></td><td><a target=\"_blank\" href=\"http://ip-192-168-1-181.eu-central-1.compute.internal:8042/node/containerlogs/container_1732639283265_2775_01_000001/livy\">Link</a></td><td>None</td><td></td></tr><tr><td>2817</td><td>application_1732639283265_2776</td><td>pyspark</td><td>idle</td><td><a target=\"_blank\" href=\"http://ip-192-168-1-36.eu-central-1.compute.internal:20888/proxy/application_1732639283265_2776/\">Link</a></td><td><a target=\"_blank\" href=\"http://ip-192-168-1-112.eu-central-1.compute.internal:8042/node/containerlogs/container_1732639283265_2776_01_000002/livy\">Link</a></td><td>None</td><td></td></tr><tr><td>2824</td><td>application_1732639283265_2783</td><td>pyspark</td><td>idle</td><td><a target=\"_blank\" href=\"http://ip-192-168-1-36.eu-central-1.compute.internal:20888/proxy/application_1732639283265_2783/\">Link</a></td><td><a target=\"_blank\" href=\"http://ip-192-168-1-166.eu-central-1.compute.internal:8042/node/containerlogs/container_1732639283265_2783_01_000002/livy\">Link</a></td><td>None</td><td></td></tr><tr><td>2825</td><td>application_1732639283265_2784</td><td>pyspark</td><td>idle</td><td><a target=\"_blank\" href=\"http://ip-192-168-1-36.eu-central-1.compute.internal:20888/proxy/application_1732639283265_2784/\">Link</a></td><td><a target=\"_blank\" href=\"http://ip-192-168-1-91.eu-central-1.compute.internal:8042/node/containerlogs/container_1732639283265_2784_01_000001/livy\">Link</a></td><td>None</td><td></td></tr><tr><td>2827</td><td>application_1732639283265_2786</td><td>pyspark</td><td>idle</td><td><a target=\"_blank\" href=\"http://ip-192-168-1-36.eu-central-1.compute.internal:20888/proxy/application_1732639283265_2786/\">Link</a></td><td><a target=\"_blank\" href=\"http://ip-192-168-1-233.eu-central-1.compute.internal:8042/node/containerlogs/container_1732639283265_2786_01_000001/livy\">Link</a></td><td>None</td><td></td></tr><tr><td>2829</td><td>application_1732639283265_2788</td><td>pyspark</td><td>idle</td><td><a target=\"_blank\" href=\"http://ip-192-168-1-36.eu-central-1.compute.internal:20888/proxy/application_1732639283265_2788/\">Link</a></td><td><a target=\"_blank\" href=\"http://ip-192-168-1-112.eu-central-1.compute.internal:8042/node/containerlogs/container_1732639283265_2788_01_000001/livy\">Link</a></td><td>None</td><td></td></tr><tr><td>2830</td><td>application_1732639283265_2789</td><td>pyspark</td><td>idle</td><td><a target=\"_blank\" href=\"http://ip-192-168-1-36.eu-central-1.compute.internal:20888/proxy/application_1732639283265_2789/\">Link</a></td><td><a target=\"_blank\" href=\"http://ip-192-168-1-91.eu-central-1.compute.internal:8042/node/containerlogs/container_1732639283265_2789_01_000002/livy\">Link</a></td><td>None</td><td></td></tr><tr><td>2832</td><td>application_1732639283265_2791</td><td>pyspark</td><td>idle</td><td><a target=\"_blank\" href=\"http://ip-192-168-1-36.eu-central-1.compute.internal:20888/proxy/application_1732639283265_2791/\">Link</a></td><td><a target=\"_blank\" href=\"http://ip-192-168-1-193.eu-central-1.compute.internal:8042/node/containerlogs/container_1732639283265_2791_01_000002/livy\">Link</a></td><td>None</td><td></td></tr><tr><td>2838</td><td>application_1732639283265_2797</td><td>pyspark</td><td>idle</td><td><a target=\"_blank\" href=\"http://ip-192-168-1-36.eu-central-1.compute.internal:20888/proxy/application_1732639283265_2797/\">Link</a></td><td><a target=\"_blank\" href=\"http://ip-192-168-1-247.eu-central-1.compute.internal:8042/node/containerlogs/container_1732639283265_2797_01_000001/livy\">Link</a></td><td>None</td><td></td></tr><tr><td>2842</td><td>application_1732639283265_2801</td><td>pyspark</td><td>idle</td><td><a target=\"_blank\" href=\"http://ip-192-168-1-36.eu-central-1.compute.internal:20888/proxy/application_1732639283265_2801/\">Link</a></td><td><a target=\"_blank\" href=\"http://ip-192-168-1-227.eu-central-1.compute.internal:8042/node/containerlogs/container_1732639283265_2801_01_000002/livy\">Link</a></td><td>None</td><td></td></tr><tr><td>2851</td><td>application_1732639283265_2810</td><td>pyspark</td><td>idle</td><td><a target=\"_blank\" href=\"http://ip-192-168-1-36.eu-central-1.compute.internal:20888/proxy/application_1732639283265_2810/\">Link</a></td><td><a target=\"_blank\" href=\"http://ip-192-168-1-178.eu-central-1.compute.internal:8042/node/containerlogs/container_1732639283265_2810_01_000001/livy\">Link</a></td><td>None</td><td></td></tr><tr><td>2852</td><td>application_1732639283265_2811</td><td>pyspark</td><td>idle</td><td><a target=\"_blank\" href=\"http://ip-192-168-1-36.eu-central-1.compute.internal:20888/proxy/application_1732639283265_2811/\">Link</a></td><td><a target=\"_blank\" href=\"http://ip-192-168-1-178.eu-central-1.compute.internal:8042/node/containerlogs/container_1732639283265_2811_01_000001/livy\">Link</a></td><td>None</td><td></td></tr><tr><td>2884</td><td>application_1732639283265_2843</td><td>pyspark</td><td>idle</td><td><a target=\"_blank\" href=\"http://ip-192-168-1-36.eu-central-1.compute.internal:20888/proxy/application_1732639283265_2843/\">Link</a></td><td><a target=\"_blank\" href=\"http://ip-192-168-1-94.eu-central-1.compute.internal:8042/node/containerlogs/container_1732639283265_2843_01_000001/livy\">Link</a></td><td>None</td><td></td></tr><tr><td>2885</td><td>application_1732639283265_2844</td><td>pyspark</td><td>idle</td><td><a target=\"_blank\" href=\"http://ip-192-168-1-36.eu-central-1.compute.internal:20888/proxy/application_1732639283265_2844/\">Link</a></td><td><a target=\"_blank\" href=\"http://ip-192-168-1-91.eu-central-1.compute.internal:8042/node/containerlogs/container_1732639283265_2844_01_000001/livy\">Link</a></td><td>None</td><td></td></tr><tr><td>2887</td><td>application_1732639283265_2846</td><td>pyspark</td><td>busy</td><td><a target=\"_blank\" href=\"http://ip-192-168-1-36.eu-central-1.compute.internal:20888/proxy/application_1732639283265_2846/\">Link</a></td><td><a target=\"_blank\" href=\"http://ip-192-168-1-80.eu-central-1.compute.internal:8042/node/containerlogs/container_1732639283265_2846_01_000001/livy\">Link</a></td><td>None</td><td></td></tr><tr><td>2888</td><td>application_1732639283265_2847</td><td>pyspark</td><td>idle</td><td><a target=\"_blank\" href=\"http://ip-192-168-1-36.eu-central-1.compute.internal:20888/proxy/application_1732639283265_2847/\">Link</a></td><td><a target=\"_blank\" href=\"http://ip-192-168-1-119.eu-central-1.compute.internal:8042/node/containerlogs/container_1732639283265_2847_01_000001/livy\">Link</a></td><td>None</td><td>✔</td></tr></table>"
      ],
      "text/plain": [
       "<IPython.core.display.HTML object>"
      ]
     },
     "metadata": {},
     "output_type": "display_data"
    }
   ],
   "source": [
    "%%configure -f\n",
    "{\n",
    "    \"conf\": {\n",
    "        \"spark.executor.instances\": \"2\",\n",
    "        \"spark.executor.memory\": \"2g\",\n",
    "        \"spark.executor.cores\": \"1\",\n",
    "        \"spark.driver.memory\": \"2g\"\n",
    "    }\n",
    "}"
   ]
  },
  {
   "cell_type": "code",
   "execution_count": 27,
   "id": "fa661b7f-a1e8-4704-bfff-1a591fa29e00",
   "metadata": {
    "tags": []
   },
   "outputs": [
    {
     "data": {
      "application/vnd.jupyter.widget-view+json": {
       "model_id": "",
       "version_major": 2,
       "version_minor": 0
      },
      "text/plain": [
       "FloatProgress(value=0.0, bar_style='info', description='Progress:', layout=Layout(height='25px', width='50%'),…"
      ]
     },
     "metadata": {},
     "output_type": "display_data"
    }
   ],
   "source": [
    "from sedona.spark import *\n",
    "from pyspark.sql import SparkSession\n",
    "from pathlib import Path\n",
    "from pyspark.sql import DataFrame\n",
    "from pyspark.sql.window import Window\n",
    "from pyspark.sql.functions import to_date, to_timestamp, col, year, month, desc, rank, when, count, lower,row_number, sum, round, avg\n",
    "import time\n",
    "import numpy as np\n",
    "\n",
    "def query_4(show_res=True):\n",
    "    spark = SparkSession.builder.appName(\"Query4_DataFrame\").getOrCreate()\n",
    "    sedona = SedonaContext.create(spark)\n",
    "\n",
    "    group_number = \"32\"\n",
    "    s3_path = \"s3://groups-bucket-dblab-905418150721/group\"+group_number+\"/assigment_parquet_files/\"\n",
    "\n",
    "\n",
    "    df_parquet_file = spark.read.parquet(s3_path+\"criminal_parquet.parquet\")\n",
    "    geojson_path = \"s3://initial-notebook-data-bucket-dblab-905418150721/2010_Census_Blocks.geojson\"\n",
    "    blocks_df = sedona.read.format(\"geojson\") \\\n",
    "                    .option(\"multiLine\", \"true\").load(geojson_path) \\\n",
    "                    .selectExpr(\"explode(features) as features\") \\\n",
    "                    .select(\"features.*\")\n",
    "    # Formatting magic\n",
    "    flattened_df = blocks_df.select( \\\n",
    "                    [col(f\"properties.{col_name}\").alias(col_name) for col_name in \\\n",
    "                    blocks_df.schema[\"properties\"].dataType.fieldNames()] + [\"geometry\"]) \\\n",
    "                    .drop(\"properties\") \\\n",
    "                    .drop(\"type\")\n",
    "\n",
    "    flattend_df = flattened_df.withColumn(\"ZCTA10\", col(\"ZCTA10\").cast(\"int\"))\n",
    "    flattend_df_LA = flattened_df.filter(col(\"CITY\") == \"Los Angeles\") \\\n",
    "                    .withColumnRenamed(\"ZCTA10\", \"ZIP Code\")\n",
    "\n",
    "    df_re = spark.read.parquet(s3_path+\"RE_codes.parquet\")\n",
    "    df_income_parquet = spark.read.parquet(s3_path+\"LA_Income.parquet\")\n",
    "\n",
    "    # Find the zip code of the area for each crime \n",
    "    df_parquet_file = df_parquet_file.filter(col(\"Vict Descent\").isNotNull())\n",
    "    df_crime_Geom = df_parquet_file.withColumn(\"point\", ST_Point(\"LON\", \"LAT\"))\n",
    "    df_join = flattend_df_LA.join(df_crime_Geom, ST_Within(df_crime_Geom.point, flattend_df_LA.geometry), \"inner\")\n",
    "    df_join_select = df_join.select(\"Zip Code\", \"LAT\", \"LON\", \"Vict Descent\")\n",
    "\n",
    "    # For each Area count the amount of crime per Race\n",
    "    crime_data_per_zip = df_join_select.groupBy(\"Zip Code\", \"Vict Descent\").count()\n",
    "    crime_data_per_zip = crime_data_per_zip.filter(col(\"Vict Descent\").isNotNull())\n",
    "    # Keep only the LA columns\n",
    "    sorted_LA_income = (df_income_parquet.filter(df_income_parquet[\"Community\"].like(\"%Los Angeles (%\"))\n",
    "                        .orderBy(col(\"Estimated Median Income\").desc()))\n",
    "\n",
    "    # Find the top 3 area with the income \n",
    "    top_income_zip = sorted_LA_income.limit(3).select(\"Zip Code\")\n",
    "    # Find the last 3 lest income areas\n",
    "    bottom_income_zip = sorted_LA_income.orderBy(col(\"Estimated Median Income\"), ascending=True).limit(3).select(\"Zip Code\")\n",
    "    top_victims = top_income_zip.join(crime_data_per_zip, \"Zip Code\").orderBy(col(\"count\").desc())\n",
    "    bottom_victims = bottom_income_zip.join(crime_data_per_zip, \"Zip Code\").orderBy(col(\"count\").desc())\n",
    "\n",
    "    top_income_victims_res = top_victims.join(df_re, \"Vict Descent\", \"inner\").orderBy('Zip Code', col('count').desc())\n",
    "    bottom_income_victims_res = bottom_victims.join(df_re, \"Vict Descent\", \"inner\").orderBy('Zip Code', col('count').desc())\n",
    "\n",
    "    if show_res:\n",
    "        print('Top income victims')\n",
    "        top_income_victims_res.select(\"Zip Code\", \"Vict Descent Full\", \"count\").show(200)\n",
    "\n",
    "        print('Lowest income victims')\n",
    "        bottom_income_victims_res.select(\"Zip Code\", \"Vict Descent Full\", \"count\").show(200)"
   ]
  },
  {
   "cell_type": "code",
   "execution_count": 28,
   "id": "16e8f31b-2f9d-4408-ae56-41f8e7587371",
   "metadata": {
    "tags": []
   },
   "outputs": [
    {
     "data": {
      "application/vnd.jupyter.widget-view+json": {
       "model_id": "",
       "version_major": 2,
       "version_minor": 0
      },
      "text/plain": [
       "FloatProgress(value=0.0, bar_style='info', description='Progress:', layout=Layout(height='25px', width='50%'),…"
      ]
     },
     "metadata": {},
     "output_type": "display_data"
    },
    {
     "name": "stdout",
     "output_type": "stream",
     "text": [
      "[19.11129331588745, 11.547914028167725, 9.506970882415771, 8.310539960861206, 6.652687311172485, 5.815526485443115, 5.405937671661377, 6.302911996841431, 4.375793218612671, 4.9750611782073975]\n",
      "Average execution time: 8.200463604927062\n",
      "Top income victims\n",
      "+--------+--------------------+-----+\n",
      "|Zip Code|   Vict Descent Full|count|\n",
      "+--------+--------------------+-----+\n",
      "|   90077|               White| 1887|\n",
      "|   90077|               Other|  585|\n",
      "|   90077|Hispanic/Latin/Me...|  286|\n",
      "|   90077|               Black|  136|\n",
      "|   90077|             Unknown|  121|\n",
      "|   90077|         Other Asian|  113|\n",
      "|   90077|             Chinese|    6|\n",
      "|   90077|              Korean|    4|\n",
      "|   90077|            Japanese|    2|\n",
      "|   90077|American Indian/A...|    1|\n",
      "|   90077|         AsianIndian|    1|\n",
      "|   90077|            Hawaiian|    1|\n",
      "|   90077|            Filipino|    1|\n",
      "|   90272|               White| 6090|\n",
      "|   90272|               Other|  818|\n",
      "|   90272|Hispanic/Latin/Me...|  610|\n",
      "|   90272|             Unknown|  526|\n",
      "|   90272|               Black|  280|\n",
      "|   90272|         Other Asian|  240|\n",
      "|   90272|             Chinese|   33|\n",
      "|   90272|            Japanese|   19|\n",
      "|   90272|            Filipino|   17|\n",
      "|   90272|              Korean|   13|\n",
      "|   90272|American Indian/A...|    4|\n",
      "|   90272|         AsianIndian|    4|\n",
      "|   90272|          Vietnamese|    3|\n",
      "|   90272|            Hawaiian|    1|\n",
      "|   91436|               White| 5197|\n",
      "|   91436|               Other| 2114|\n",
      "|   91436|Hispanic/Latin/Me...|  852|\n",
      "|   91436|               Black|  364|\n",
      "|   91436|         Other Asian|  213|\n",
      "|   91436|             Unknown|   60|\n",
      "|   91436|             Chinese|   16|\n",
      "|   91436|              Korean|   10|\n",
      "|   91436|            Filipino|    9|\n",
      "|   91436|American Indian/A...|    4|\n",
      "|   91436|            Japanese|    3|\n",
      "|   91436|            Hawaiian|    3|\n",
      "|   91436|    Pacific Islander|    2|\n",
      "|   91436|          Vietnamese|    1|\n",
      "|   91436|         AsianIndian|    1|\n",
      "+--------+--------------------+-----+\n",
      "\n",
      "Lowest income victims\n",
      "+--------+--------------------+-----+\n",
      "|Zip Code|   Vict Descent Full|count|\n",
      "+--------+--------------------+-----+\n",
      "|   90013|               Black|15274|\n",
      "|   90013|Hispanic/Latin/Me...|11821|\n",
      "|   90013|               White| 9656|\n",
      "|   90013|               Other| 4192|\n",
      "|   90013|             Unknown| 2061|\n",
      "|   90013|         Other Asian| 1109|\n",
      "|   90013|             Chinese|  201|\n",
      "|   90013|              Korean|  196|\n",
      "|   90013|            Filipino|  143|\n",
      "|   90013|            Japanese|   68|\n",
      "|   90013|American Indian/A...|   68|\n",
      "|   90013|          Vietnamese|   41|\n",
      "|   90013|         AsianIndian|   29|\n",
      "|   90013|    Pacific Islander|    8|\n",
      "|   90013|             Laotian|    6|\n",
      "|   90013|           Cambodian|    4|\n",
      "|   90013|            Hawaiian|    4|\n",
      "|   90013|              Samoan|    4|\n",
      "|   90013|           Guamanian|    3|\n",
      "|   90021|Hispanic/Latin/Me...| 9691|\n",
      "|   90021|               White| 4625|\n",
      "|   90021|               Black| 4516|\n",
      "|   90021|               Other| 2337|\n",
      "|   90021|             Unknown|  849|\n",
      "|   90021|         Other Asian|  601|\n",
      "|   90021|              Korean|  139|\n",
      "|   90021|             Chinese|   83|\n",
      "|   90021|            Filipino|   60|\n",
      "|   90021|          Vietnamese|   31|\n",
      "|   90021|American Indian/A...|   26|\n",
      "|   90021|            Japanese|   21|\n",
      "|   90021|    Pacific Islander|    9|\n",
      "|   90021|         AsianIndian|    4|\n",
      "|   90021|           Cambodian|    3|\n",
      "|   90021|            Hawaiian|    2|\n",
      "|   90021|              Samoan|    1|\n",
      "|   90021|           Guamanian|    1|\n",
      "|   90021|             Laotian|    1|\n",
      "|   90058|Hispanic/Latin/Me...| 2171|\n",
      "|   90058|               Black|  674|\n",
      "|   90058|               White|  237|\n",
      "|   90058|               Other|  183|\n",
      "|   90058|             Unknown|   96|\n",
      "|   90058|         Other Asian|   55|\n",
      "|   90058|              Korean|   14|\n",
      "|   90058|            Filipino|    2|\n",
      "|   90058|American Indian/A...|    2|\n",
      "|   90058|          Vietnamese|    1|\n",
      "|   90058|           Cambodian|    1|\n",
      "|   90058|            Hawaiian|    1|\n",
      "+--------+--------------------+-----+"
     ]
    }
   ],
   "source": [
    "import time\n",
    "times_lst = []\n",
    "for i in range(10):\n",
    "    start_time = time.time()\n",
    "    query_4(show_res=False)\n",
    "    times_lst.append(time.time() - start_time)\n",
    "print(times_lst)\n",
    "print(f'Average execution time: {np.mean(times_lst)}')\n",
    "query_4(show_res=True)"
   ]
  },
  {
   "cell_type": "code",
   "execution_count": 29,
   "id": "a73545e5-90ba-455a-b692-f536edf5fd22",
   "metadata": {
    "tags": []
   },
   "outputs": [
    {
     "name": "stdout",
     "output_type": "stream",
     "text": [
      "Starting Spark application\n"
     ]
    },
    {
     "data": {
      "text/html": [
       "<table>\n",
       "<tr><th>ID</th><th>YARN Application ID</th><th>Kind</th><th>State</th><th>Spark UI</th><th>Driver log</th><th>User</th><th>Current session?</th></tr><tr><td>2889</td><td>application_1732639283265_2848</td><td>pyspark</td><td>idle</td><td><a target=\"_blank\" href=\"http://ip-192-168-1-36.eu-central-1.compute.internal:20888/proxy/application_1732639283265_2848/\">Link</a></td><td><a target=\"_blank\" href=\"http://ip-192-168-1-112.eu-central-1.compute.internal:8042/node/containerlogs/container_1732639283265_2848_01_000001/livy\">Link</a></td><td>None</td><td>✔</td></tr></table>"
      ],
      "text/plain": [
       "<IPython.core.display.HTML object>"
      ]
     },
     "metadata": {},
     "output_type": "display_data"
    },
    {
     "data": {
      "application/vnd.jupyter.widget-view+json": {
       "model_id": "",
       "version_major": 2,
       "version_minor": 0
      },
      "text/plain": [
       "FloatProgress(value=0.0, bar_style='info', description='Progress:', layout=Layout(height='25px', width='50%'),…"
      ]
     },
     "metadata": {},
     "output_type": "display_data"
    },
    {
     "name": "stdout",
     "output_type": "stream",
     "text": [
      "SparkSession available as 'spark'.\n"
     ]
    },
    {
     "data": {
      "text/html": [
       "Current session configs: <tt>{'conf': {'spark.sql.catalog.spark_catalog.type': 'hive', 'spark.executor.instances': '2', 'spark.executor.memory': '4g', 'spark.executor.cores': '2', 'spark.driver.memory': '4g'}, 'kind': 'pyspark'}</tt><br>"
      ],
      "text/plain": [
       "<IPython.core.display.HTML object>"
      ]
     },
     "metadata": {},
     "output_type": "display_data"
    },
    {
     "data": {
      "text/html": [
       "<table>\n",
       "<tr><th>ID</th><th>YARN Application ID</th><th>Kind</th><th>State</th><th>Spark UI</th><th>Driver log</th><th>User</th><th>Current session?</th></tr><tr><td>2728</td><td>application_1732639283265_2687</td><td>pyspark</td><td>idle</td><td><a target=\"_blank\" href=\"http://ip-192-168-1-36.eu-central-1.compute.internal:20888/proxy/application_1732639283265_2687/\">Link</a></td><td><a target=\"_blank\" href=\"http://ip-192-168-1-80.eu-central-1.compute.internal:8042/node/containerlogs/container_1732639283265_2687_01_000001/livy\">Link</a></td><td>None</td><td></td></tr><tr><td>2762</td><td>application_1732639283265_2721</td><td>pyspark</td><td>idle</td><td><a target=\"_blank\" href=\"http://ip-192-168-1-36.eu-central-1.compute.internal:20888/proxy/application_1732639283265_2721/\">Link</a></td><td><a target=\"_blank\" href=\"http://ip-192-168-1-117.eu-central-1.compute.internal:8042/node/containerlogs/container_1732639283265_2721_01_000001/livy\">Link</a></td><td>None</td><td></td></tr><tr><td>2767</td><td>application_1732639283265_2726</td><td>pyspark</td><td>idle</td><td><a target=\"_blank\" href=\"http://ip-192-168-1-36.eu-central-1.compute.internal:20888/proxy/application_1732639283265_2726/\">Link</a></td><td><a target=\"_blank\" href=\"http://ip-192-168-1-112.eu-central-1.compute.internal:8042/node/containerlogs/container_1732639283265_2726_01_000002/livy\">Link</a></td><td>None</td><td></td></tr><tr><td>2773</td><td>application_1732639283265_2732</td><td>pyspark</td><td>idle</td><td><a target=\"_blank\" href=\"http://ip-192-168-1-36.eu-central-1.compute.internal:20888/proxy/application_1732639283265_2732/\">Link</a></td><td><a target=\"_blank\" href=\"http://ip-192-168-1-166.eu-central-1.compute.internal:8042/node/containerlogs/container_1732639283265_2732_01_000001/livy\">Link</a></td><td>None</td><td></td></tr><tr><td>2776</td><td>application_1732639283265_2735</td><td>pyspark</td><td>idle</td><td><a target=\"_blank\" href=\"http://ip-192-168-1-36.eu-central-1.compute.internal:20888/proxy/application_1732639283265_2735/\">Link</a></td><td><a target=\"_blank\" href=\"http://ip-192-168-1-181.eu-central-1.compute.internal:8042/node/containerlogs/container_1732639283265_2735_01_000001/livy\">Link</a></td><td>None</td><td></td></tr><tr><td>2779</td><td>application_1732639283265_2738</td><td>pyspark</td><td>idle</td><td><a target=\"_blank\" href=\"http://ip-192-168-1-36.eu-central-1.compute.internal:20888/proxy/application_1732639283265_2738/\">Link</a></td><td><a target=\"_blank\" href=\"http://ip-192-168-1-91.eu-central-1.compute.internal:8042/node/containerlogs/container_1732639283265_2738_01_000001/livy\">Link</a></td><td>None</td><td></td></tr><tr><td>2780</td><td>application_1732639283265_2739</td><td>pyspark</td><td>idle</td><td><a target=\"_blank\" href=\"http://ip-192-168-1-36.eu-central-1.compute.internal:20888/proxy/application_1732639283265_2739/\">Link</a></td><td><a target=\"_blank\" href=\"http://ip-192-168-1-117.eu-central-1.compute.internal:8042/node/containerlogs/container_1732639283265_2739_01_000001/livy\">Link</a></td><td>None</td><td></td></tr><tr><td>2783</td><td>application_1732639283265_2742</td><td>pyspark</td><td>idle</td><td><a target=\"_blank\" href=\"http://ip-192-168-1-36.eu-central-1.compute.internal:20888/proxy/application_1732639283265_2742/\">Link</a></td><td><a target=\"_blank\" href=\"http://ip-192-168-1-181.eu-central-1.compute.internal:8042/node/containerlogs/container_1732639283265_2742_01_000001/livy\">Link</a></td><td>None</td><td></td></tr><tr><td>2784</td><td>application_1732639283265_2743</td><td>pyspark</td><td>idle</td><td><a target=\"_blank\" href=\"http://ip-192-168-1-36.eu-central-1.compute.internal:20888/proxy/application_1732639283265_2743/\">Link</a></td><td><a target=\"_blank\" href=\"http://ip-192-168-1-80.eu-central-1.compute.internal:8042/node/containerlogs/container_1732639283265_2743_01_000001/livy\">Link</a></td><td>None</td><td></td></tr><tr><td>2786</td><td>application_1732639283265_2745</td><td>pyspark</td><td>idle</td><td><a target=\"_blank\" href=\"http://ip-192-168-1-36.eu-central-1.compute.internal:20888/proxy/application_1732639283265_2745/\">Link</a></td><td><a target=\"_blank\" href=\"http://ip-192-168-1-193.eu-central-1.compute.internal:8042/node/containerlogs/container_1732639283265_2745_01_000001/livy\">Link</a></td><td>None</td><td></td></tr><tr><td>2787</td><td>application_1732639283265_2746</td><td>pyspark</td><td>idle</td><td><a target=\"_blank\" href=\"http://ip-192-168-1-36.eu-central-1.compute.internal:20888/proxy/application_1732639283265_2746/\">Link</a></td><td><a target=\"_blank\" href=\"http://ip-192-168-1-203.eu-central-1.compute.internal:8042/node/containerlogs/container_1732639283265_2746_01_000002/livy\">Link</a></td><td>None</td><td></td></tr><tr><td>2791</td><td>application_1732639283265_2750</td><td>pyspark</td><td>idle</td><td><a target=\"_blank\" href=\"http://ip-192-168-1-36.eu-central-1.compute.internal:20888/proxy/application_1732639283265_2750/\">Link</a></td><td><a target=\"_blank\" href=\"http://ip-192-168-1-94.eu-central-1.compute.internal:8042/node/containerlogs/container_1732639283265_2750_01_000001/livy\">Link</a></td><td>None</td><td></td></tr><tr><td>2793</td><td>application_1732639283265_2752</td><td>pyspark</td><td>idle</td><td><a target=\"_blank\" href=\"http://ip-192-168-1-36.eu-central-1.compute.internal:20888/proxy/application_1732639283265_2752/\">Link</a></td><td><a target=\"_blank\" href=\"http://ip-192-168-1-178.eu-central-1.compute.internal:8042/node/containerlogs/container_1732639283265_2752_01_000001/livy\">Link</a></td><td>None</td><td></td></tr><tr><td>2797</td><td>application_1732639283265_2756</td><td>pyspark</td><td>idle</td><td><a target=\"_blank\" href=\"http://ip-192-168-1-36.eu-central-1.compute.internal:20888/proxy/application_1732639283265_2756/\">Link</a></td><td><a target=\"_blank\" href=\"http://ip-192-168-1-247.eu-central-1.compute.internal:8042/node/containerlogs/container_1732639283265_2756_01_000002/livy\">Link</a></td><td>None</td><td></td></tr><tr><td>2798</td><td>application_1732639283265_2757</td><td>pyspark</td><td>idle</td><td><a target=\"_blank\" href=\"http://ip-192-168-1-36.eu-central-1.compute.internal:20888/proxy/application_1732639283265_2757/\">Link</a></td><td><a target=\"_blank\" href=\"http://ip-192-168-1-178.eu-central-1.compute.internal:8042/node/containerlogs/container_1732639283265_2757_01_000001/livy\">Link</a></td><td>None</td><td></td></tr><tr><td>2806</td><td>application_1732639283265_2765</td><td>pyspark</td><td>idle</td><td><a target=\"_blank\" href=\"http://ip-192-168-1-36.eu-central-1.compute.internal:20888/proxy/application_1732639283265_2765/\">Link</a></td><td><a target=\"_blank\" href=\"http://ip-192-168-1-247.eu-central-1.compute.internal:8042/node/containerlogs/container_1732639283265_2765_01_000001/livy\">Link</a></td><td>None</td><td></td></tr><tr><td>2808</td><td>application_1732639283265_2767</td><td>pyspark</td><td>idle</td><td><a target=\"_blank\" href=\"http://ip-192-168-1-36.eu-central-1.compute.internal:20888/proxy/application_1732639283265_2767/\">Link</a></td><td><a target=\"_blank\" href=\"http://ip-192-168-1-94.eu-central-1.compute.internal:8042/node/containerlogs/container_1732639283265_2767_01_000001/livy\">Link</a></td><td>None</td><td></td></tr><tr><td>2812</td><td>application_1732639283265_2771</td><td>pyspark</td><td>idle</td><td><a target=\"_blank\" href=\"http://ip-192-168-1-36.eu-central-1.compute.internal:20888/proxy/application_1732639283265_2771/\">Link</a></td><td><a target=\"_blank\" href=\"http://ip-192-168-1-94.eu-central-1.compute.internal:8042/node/containerlogs/container_1732639283265_2771_01_000001/livy\">Link</a></td><td>None</td><td></td></tr><tr><td>2816</td><td>application_1732639283265_2775</td><td>pyspark</td><td>idle</td><td><a target=\"_blank\" href=\"http://ip-192-168-1-36.eu-central-1.compute.internal:20888/proxy/application_1732639283265_2775/\">Link</a></td><td><a target=\"_blank\" href=\"http://ip-192-168-1-181.eu-central-1.compute.internal:8042/node/containerlogs/container_1732639283265_2775_01_000001/livy\">Link</a></td><td>None</td><td></td></tr><tr><td>2817</td><td>application_1732639283265_2776</td><td>pyspark</td><td>idle</td><td><a target=\"_blank\" href=\"http://ip-192-168-1-36.eu-central-1.compute.internal:20888/proxy/application_1732639283265_2776/\">Link</a></td><td><a target=\"_blank\" href=\"http://ip-192-168-1-112.eu-central-1.compute.internal:8042/node/containerlogs/container_1732639283265_2776_01_000002/livy\">Link</a></td><td>None</td><td></td></tr><tr><td>2824</td><td>application_1732639283265_2783</td><td>pyspark</td><td>idle</td><td><a target=\"_blank\" href=\"http://ip-192-168-1-36.eu-central-1.compute.internal:20888/proxy/application_1732639283265_2783/\">Link</a></td><td><a target=\"_blank\" href=\"http://ip-192-168-1-166.eu-central-1.compute.internal:8042/node/containerlogs/container_1732639283265_2783_01_000002/livy\">Link</a></td><td>None</td><td></td></tr><tr><td>2825</td><td>application_1732639283265_2784</td><td>pyspark</td><td>idle</td><td><a target=\"_blank\" href=\"http://ip-192-168-1-36.eu-central-1.compute.internal:20888/proxy/application_1732639283265_2784/\">Link</a></td><td><a target=\"_blank\" href=\"http://ip-192-168-1-91.eu-central-1.compute.internal:8042/node/containerlogs/container_1732639283265_2784_01_000001/livy\">Link</a></td><td>None</td><td></td></tr><tr><td>2827</td><td>application_1732639283265_2786</td><td>pyspark</td><td>idle</td><td><a target=\"_blank\" href=\"http://ip-192-168-1-36.eu-central-1.compute.internal:20888/proxy/application_1732639283265_2786/\">Link</a></td><td><a target=\"_blank\" href=\"http://ip-192-168-1-233.eu-central-1.compute.internal:8042/node/containerlogs/container_1732639283265_2786_01_000001/livy\">Link</a></td><td>None</td><td></td></tr><tr><td>2829</td><td>application_1732639283265_2788</td><td>pyspark</td><td>idle</td><td><a target=\"_blank\" href=\"http://ip-192-168-1-36.eu-central-1.compute.internal:20888/proxy/application_1732639283265_2788/\">Link</a></td><td><a target=\"_blank\" href=\"http://ip-192-168-1-112.eu-central-1.compute.internal:8042/node/containerlogs/container_1732639283265_2788_01_000001/livy\">Link</a></td><td>None</td><td></td></tr><tr><td>2830</td><td>application_1732639283265_2789</td><td>pyspark</td><td>idle</td><td><a target=\"_blank\" href=\"http://ip-192-168-1-36.eu-central-1.compute.internal:20888/proxy/application_1732639283265_2789/\">Link</a></td><td><a target=\"_blank\" href=\"http://ip-192-168-1-91.eu-central-1.compute.internal:8042/node/containerlogs/container_1732639283265_2789_01_000002/livy\">Link</a></td><td>None</td><td></td></tr><tr><td>2832</td><td>application_1732639283265_2791</td><td>pyspark</td><td>idle</td><td><a target=\"_blank\" href=\"http://ip-192-168-1-36.eu-central-1.compute.internal:20888/proxy/application_1732639283265_2791/\">Link</a></td><td><a target=\"_blank\" href=\"http://ip-192-168-1-193.eu-central-1.compute.internal:8042/node/containerlogs/container_1732639283265_2791_01_000002/livy\">Link</a></td><td>None</td><td></td></tr><tr><td>2838</td><td>application_1732639283265_2797</td><td>pyspark</td><td>idle</td><td><a target=\"_blank\" href=\"http://ip-192-168-1-36.eu-central-1.compute.internal:20888/proxy/application_1732639283265_2797/\">Link</a></td><td><a target=\"_blank\" href=\"http://ip-192-168-1-247.eu-central-1.compute.internal:8042/node/containerlogs/container_1732639283265_2797_01_000001/livy\">Link</a></td><td>None</td><td></td></tr><tr><td>2842</td><td>application_1732639283265_2801</td><td>pyspark</td><td>idle</td><td><a target=\"_blank\" href=\"http://ip-192-168-1-36.eu-central-1.compute.internal:20888/proxy/application_1732639283265_2801/\">Link</a></td><td><a target=\"_blank\" href=\"http://ip-192-168-1-227.eu-central-1.compute.internal:8042/node/containerlogs/container_1732639283265_2801_01_000002/livy\">Link</a></td><td>None</td><td></td></tr><tr><td>2851</td><td>application_1732639283265_2810</td><td>pyspark</td><td>idle</td><td><a target=\"_blank\" href=\"http://ip-192-168-1-36.eu-central-1.compute.internal:20888/proxy/application_1732639283265_2810/\">Link</a></td><td><a target=\"_blank\" href=\"http://ip-192-168-1-178.eu-central-1.compute.internal:8042/node/containerlogs/container_1732639283265_2810_01_000001/livy\">Link</a></td><td>None</td><td></td></tr><tr><td>2852</td><td>application_1732639283265_2811</td><td>pyspark</td><td>idle</td><td><a target=\"_blank\" href=\"http://ip-192-168-1-36.eu-central-1.compute.internal:20888/proxy/application_1732639283265_2811/\">Link</a></td><td><a target=\"_blank\" href=\"http://ip-192-168-1-178.eu-central-1.compute.internal:8042/node/containerlogs/container_1732639283265_2811_01_000001/livy\">Link</a></td><td>None</td><td></td></tr><tr><td>2884</td><td>application_1732639283265_2843</td><td>pyspark</td><td>idle</td><td><a target=\"_blank\" href=\"http://ip-192-168-1-36.eu-central-1.compute.internal:20888/proxy/application_1732639283265_2843/\">Link</a></td><td><a target=\"_blank\" href=\"http://ip-192-168-1-94.eu-central-1.compute.internal:8042/node/containerlogs/container_1732639283265_2843_01_000001/livy\">Link</a></td><td>None</td><td></td></tr><tr><td>2885</td><td>application_1732639283265_2844</td><td>pyspark</td><td>idle</td><td><a target=\"_blank\" href=\"http://ip-192-168-1-36.eu-central-1.compute.internal:20888/proxy/application_1732639283265_2844/\">Link</a></td><td><a target=\"_blank\" href=\"http://ip-192-168-1-91.eu-central-1.compute.internal:8042/node/containerlogs/container_1732639283265_2844_01_000001/livy\">Link</a></td><td>None</td><td></td></tr><tr><td>2887</td><td>application_1732639283265_2846</td><td>pyspark</td><td>idle</td><td><a target=\"_blank\" href=\"http://ip-192-168-1-36.eu-central-1.compute.internal:20888/proxy/application_1732639283265_2846/\">Link</a></td><td><a target=\"_blank\" href=\"http://ip-192-168-1-80.eu-central-1.compute.internal:8042/node/containerlogs/container_1732639283265_2846_01_000001/livy\">Link</a></td><td>None</td><td></td></tr><tr><td>2889</td><td>application_1732639283265_2848</td><td>pyspark</td><td>idle</td><td><a target=\"_blank\" href=\"http://ip-192-168-1-36.eu-central-1.compute.internal:20888/proxy/application_1732639283265_2848/\">Link</a></td><td><a target=\"_blank\" href=\"http://ip-192-168-1-112.eu-central-1.compute.internal:8042/node/containerlogs/container_1732639283265_2848_01_000001/livy\">Link</a></td><td>None</td><td>✔</td></tr></table>"
      ],
      "text/plain": [
       "<IPython.core.display.HTML object>"
      ]
     },
     "metadata": {},
     "output_type": "display_data"
    }
   ],
   "source": [
    "%%configure -f\n",
    "{\n",
    "    \"conf\": {\n",
    "        \"spark.executor.instances\": \"2\",\n",
    "        \"spark.executor.memory\": \"4g\",\n",
    "        \"spark.executor.cores\": \"2\",\n",
    "        \"spark.driver.memory\": \"4g\"\n",
    "    }\n",
    "}"
   ]
  },
  {
   "cell_type": "code",
   "execution_count": 30,
   "id": "601c4b01-948f-472d-9fcf-7340cb1c2497",
   "metadata": {
    "tags": []
   },
   "outputs": [
    {
     "data": {
      "application/vnd.jupyter.widget-view+json": {
       "model_id": "",
       "version_major": 2,
       "version_minor": 0
      },
      "text/plain": [
       "FloatProgress(value=0.0, bar_style='info', description='Progress:', layout=Layout(height='25px', width='50%'),…"
      ]
     },
     "metadata": {},
     "output_type": "display_data"
    }
   ],
   "source": [
    "from sedona.spark import *\n",
    "from pyspark.sql import SparkSession\n",
    "from pathlib import Path\n",
    "from pyspark.sql import DataFrame\n",
    "from pyspark.sql.window import Window\n",
    "from pyspark.sql.functions import to_date, to_timestamp, col, year, month, desc, rank, when, count, lower,row_number, sum, round, avg\n",
    "import time\n",
    "import numpy as np\n",
    "\n",
    "def query_4(show_res=True):\n",
    "    spark = SparkSession.builder.appName(\"Query4_DataFrame\").getOrCreate()\n",
    "    sedona = SedonaContext.create(spark)\n",
    "\n",
    "    group_number = \"32\"\n",
    "    s3_path = \"s3://groups-bucket-dblab-905418150721/group\"+group_number+\"/assigment_parquet_files/\"\n",
    "\n",
    "\n",
    "    df_parquet_file = spark.read.parquet(s3_path+\"criminal_parquet.parquet\")\n",
    "    geojson_path = \"s3://initial-notebook-data-bucket-dblab-905418150721/2010_Census_Blocks.geojson\"\n",
    "    blocks_df = sedona.read.format(\"geojson\") \\\n",
    "                    .option(\"multiLine\", \"true\").load(geojson_path) \\\n",
    "                    .selectExpr(\"explode(features) as features\") \\\n",
    "                    .select(\"features.*\")\n",
    "    # Formatting magic\n",
    "    flattened_df = blocks_df.select( \\\n",
    "                    [col(f\"properties.{col_name}\").alias(col_name) for col_name in \\\n",
    "                    blocks_df.schema[\"properties\"].dataType.fieldNames()] + [\"geometry\"]) \\\n",
    "                    .drop(\"properties\") \\\n",
    "                    .drop(\"type\")\n",
    "\n",
    "    flattend_df = flattened_df.withColumn(\"ZCTA10\", col(\"ZCTA10\").cast(\"int\"))\n",
    "    flattend_df_LA = flattened_df.filter(col(\"CITY\") == \"Los Angeles\") \\\n",
    "                    .withColumnRenamed(\"ZCTA10\", \"ZIP Code\")\n",
    "\n",
    "    df_re = spark.read.parquet(s3_path+\"RE_codes.parquet\")\n",
    "    df_income_parquet = spark.read.parquet(s3_path+\"LA_Income.parquet\")\n",
    "\n",
    "    # Find the zip code of the area for each crime \n",
    "    df_parquet_file = df_parquet_file.filter(col(\"Vict Descent\").isNotNull())\n",
    "    df_crime_Geom = df_parquet_file.withColumn(\"point\", ST_Point(\"LON\", \"LAT\"))\n",
    "    df_join = flattend_df_LA.join(df_crime_Geom, ST_Within(df_crime_Geom.point, flattend_df_LA.geometry), \"inner\")\n",
    "    df_join_select = df_join.select(\"Zip Code\", \"LAT\", \"LON\", \"Vict Descent\")\n",
    "\n",
    "    # For each Area count the amount of crime per Race\n",
    "    crime_data_per_zip = df_join_select.groupBy(\"Zip Code\", \"Vict Descent\").count()\n",
    "    crime_data_per_zip = crime_data_per_zip.filter(col(\"Vict Descent\").isNotNull())\n",
    "    # Keep only the LA columns\n",
    "    sorted_LA_income = (df_income_parquet.filter(df_income_parquet[\"Community\"].like(\"%Los Angeles (%\"))\n",
    "                        .orderBy(col(\"Estimated Median Income\").desc()))\n",
    "\n",
    "    # Find the top 3 area with the income \n",
    "    top_income_zip = sorted_LA_income.limit(3).select(\"Zip Code\")\n",
    "    # Find the last 3 lest income areas\n",
    "    bottom_income_zip = sorted_LA_income.orderBy(col(\"Estimated Median Income\"), ascending=True).limit(3).select(\"Zip Code\")\n",
    "    top_victims = top_income_zip.join(crime_data_per_zip, \"Zip Code\").orderBy(col(\"count\").desc())\n",
    "    bottom_victims = bottom_income_zip.join(crime_data_per_zip, \"Zip Code\").orderBy(col(\"count\").desc())\n",
    "\n",
    "    top_income_victims_res = top_victims.join(df_re, \"Vict Descent\", \"inner\").orderBy('Zip Code', col('count').desc())\n",
    "    bottom_income_victims_res = bottom_victims.join(df_re, \"Vict Descent\", \"inner\").orderBy('Zip Code', col('count').desc())\n",
    "\n",
    "    if show_res:\n",
    "        print('Top income victims')\n",
    "        top_income_victims_res.select(\"Zip Code\", \"Vict Descent Full\", \"count\").show(200)\n",
    "\n",
    "        print('Lowest income victims')\n",
    "        bottom_income_victims_res.select(\"Zip Code\", \"Vict Descent Full\", \"count\").show(200)"
   ]
  },
  {
   "cell_type": "code",
   "execution_count": 31,
   "id": "2b94c600-136d-45d9-8f50-d7461d0636bb",
   "metadata": {
    "tags": []
   },
   "outputs": [
    {
     "data": {
      "application/vnd.jupyter.widget-view+json": {
       "model_id": "",
       "version_major": 2,
       "version_minor": 0
      },
      "text/plain": [
       "FloatProgress(value=0.0, bar_style='info', description='Progress:', layout=Layout(height='25px', width='50%'),…"
      ]
     },
     "metadata": {},
     "output_type": "display_data"
    },
    {
     "name": "stdout",
     "output_type": "stream",
     "text": [
      "[18.081260681152344, 10.015167474746704, 10.062018394470215, 9.04055404663086, 7.7061052322387695, 5.059884548187256, 5.351187467575073, 4.876883268356323, 5.271404266357422, 5.966294288635254]\n",
      "Average execution time: 8.143075966835022\n",
      "Top income victims\n",
      "+--------+--------------------+-----+\n",
      "|Zip Code|   Vict Descent Full|count|\n",
      "+--------+--------------------+-----+\n",
      "|   90077|               White| 1887|\n",
      "|   90077|               Other|  585|\n",
      "|   90077|Hispanic/Latin/Me...|  286|\n",
      "|   90077|               Black|  136|\n",
      "|   90077|             Unknown|  121|\n",
      "|   90077|         Other Asian|  113|\n",
      "|   90077|             Chinese|    6|\n",
      "|   90077|              Korean|    4|\n",
      "|   90077|            Japanese|    2|\n",
      "|   90077|American Indian/A...|    1|\n",
      "|   90077|         AsianIndian|    1|\n",
      "|   90077|            Hawaiian|    1|\n",
      "|   90077|            Filipino|    1|\n",
      "|   90272|               White| 6090|\n",
      "|   90272|               Other|  818|\n",
      "|   90272|Hispanic/Latin/Me...|  610|\n",
      "|   90272|             Unknown|  526|\n",
      "|   90272|               Black|  280|\n",
      "|   90272|         Other Asian|  240|\n",
      "|   90272|             Chinese|   33|\n",
      "|   90272|            Japanese|   19|\n",
      "|   90272|            Filipino|   17|\n",
      "|   90272|              Korean|   13|\n",
      "|   90272|American Indian/A...|    4|\n",
      "|   90272|         AsianIndian|    4|\n",
      "|   90272|          Vietnamese|    3|\n",
      "|   90272|            Hawaiian|    1|\n",
      "|   91436|               White| 5197|\n",
      "|   91436|               Other| 2114|\n",
      "|   91436|Hispanic/Latin/Me...|  852|\n",
      "|   91436|               Black|  364|\n",
      "|   91436|         Other Asian|  213|\n",
      "|   91436|             Unknown|   60|\n",
      "|   91436|             Chinese|   16|\n",
      "|   91436|              Korean|   10|\n",
      "|   91436|            Filipino|    9|\n",
      "|   91436|American Indian/A...|    4|\n",
      "|   91436|            Japanese|    3|\n",
      "|   91436|            Hawaiian|    3|\n",
      "|   91436|    Pacific Islander|    2|\n",
      "|   91436|          Vietnamese|    1|\n",
      "|   91436|         AsianIndian|    1|\n",
      "+--------+--------------------+-----+\n",
      "\n",
      "Lowest income victims\n",
      "+--------+--------------------+-----+\n",
      "|Zip Code|   Vict Descent Full|count|\n",
      "+--------+--------------------+-----+\n",
      "|   90013|               Black|15274|\n",
      "|   90013|Hispanic/Latin/Me...|11821|\n",
      "|   90013|               White| 9656|\n",
      "|   90013|               Other| 4192|\n",
      "|   90013|             Unknown| 2061|\n",
      "|   90013|         Other Asian| 1109|\n",
      "|   90013|             Chinese|  201|\n",
      "|   90013|              Korean|  196|\n",
      "|   90013|            Filipino|  143|\n",
      "|   90013|            Japanese|   68|\n",
      "|   90013|American Indian/A...|   68|\n",
      "|   90013|          Vietnamese|   41|\n",
      "|   90013|         AsianIndian|   29|\n",
      "|   90013|    Pacific Islander|    8|\n",
      "|   90013|             Laotian|    6|\n",
      "|   90013|           Cambodian|    4|\n",
      "|   90013|            Hawaiian|    4|\n",
      "|   90013|              Samoan|    4|\n",
      "|   90013|           Guamanian|    3|\n",
      "|   90021|Hispanic/Latin/Me...| 9691|\n",
      "|   90021|               White| 4625|\n",
      "|   90021|               Black| 4516|\n",
      "|   90021|               Other| 2337|\n",
      "|   90021|             Unknown|  849|\n",
      "|   90021|         Other Asian|  601|\n",
      "|   90021|              Korean|  139|\n",
      "|   90021|             Chinese|   83|\n",
      "|   90021|            Filipino|   60|\n",
      "|   90021|          Vietnamese|   31|\n",
      "|   90021|American Indian/A...|   26|\n",
      "|   90021|            Japanese|   21|\n",
      "|   90021|    Pacific Islander|    9|\n",
      "|   90021|         AsianIndian|    4|\n",
      "|   90021|           Cambodian|    3|\n",
      "|   90021|            Hawaiian|    2|\n",
      "|   90021|              Samoan|    1|\n",
      "|   90021|           Guamanian|    1|\n",
      "|   90021|             Laotian|    1|\n",
      "|   90058|Hispanic/Latin/Me...| 2171|\n",
      "|   90058|               Black|  674|\n",
      "|   90058|               White|  237|\n",
      "|   90058|               Other|  183|\n",
      "|   90058|             Unknown|   96|\n",
      "|   90058|         Other Asian|   55|\n",
      "|   90058|              Korean|   14|\n",
      "|   90058|            Filipino|    2|\n",
      "|   90058|American Indian/A...|    2|\n",
      "|   90058|          Vietnamese|    1|\n",
      "|   90058|           Cambodian|    1|\n",
      "|   90058|            Hawaiian|    1|\n",
      "+--------+--------------------+-----+"
     ]
    }
   ],
   "source": [
    "times_lst = []\n",
    "for i in range(10):\n",
    "    start_time = time.time()\n",
    "    query_4(show_res=False)\n",
    "    times_lst.append(time.time() - start_time)\n",
    "print(times_lst)\n",
    "print(f'Average execution time: {np.mean(times_lst)}')\n",
    "query_4(show_res=True)"
   ]
  },
  {
   "cell_type": "code",
   "execution_count": 32,
   "id": "4a0bebb1-5ae3-419f-a0af-85caf627c154",
   "metadata": {
    "tags": []
   },
   "outputs": [
    {
     "name": "stdout",
     "output_type": "stream",
     "text": [
      "Starting Spark application\n"
     ]
    },
    {
     "data": {
      "text/html": [
       "<table>\n",
       "<tr><th>ID</th><th>YARN Application ID</th><th>Kind</th><th>State</th><th>Spark UI</th><th>Driver log</th><th>User</th><th>Current session?</th></tr><tr><td>2890</td><td>application_1732639283265_2849</td><td>pyspark</td><td>idle</td><td><a target=\"_blank\" href=\"http://ip-192-168-1-36.eu-central-1.compute.internal:20888/proxy/application_1732639283265_2849/\">Link</a></td><td><a target=\"_blank\" href=\"http://ip-192-168-1-193.eu-central-1.compute.internal:8042/node/containerlogs/container_1732639283265_2849_01_000001/livy\">Link</a></td><td>None</td><td>✔</td></tr></table>"
      ],
      "text/plain": [
       "<IPython.core.display.HTML object>"
      ]
     },
     "metadata": {},
     "output_type": "display_data"
    },
    {
     "data": {
      "application/vnd.jupyter.widget-view+json": {
       "model_id": "",
       "version_major": 2,
       "version_minor": 0
      },
      "text/plain": [
       "FloatProgress(value=0.0, bar_style='info', description='Progress:', layout=Layout(height='25px', width='50%'),…"
      ]
     },
     "metadata": {},
     "output_type": "display_data"
    },
    {
     "name": "stdout",
     "output_type": "stream",
     "text": [
      "SparkSession available as 'spark'.\n"
     ]
    },
    {
     "data": {
      "text/html": [
       "Current session configs: <tt>{'conf': {'spark.sql.catalog.spark_catalog.type': 'hive', 'spark.executor.instances': '2', 'spark.executor.memory': '8g', 'spark.executor.cores': '4', 'spark.driver.memory': '4g'}, 'kind': 'pyspark'}</tt><br>"
      ],
      "text/plain": [
       "<IPython.core.display.HTML object>"
      ]
     },
     "metadata": {},
     "output_type": "display_data"
    },
    {
     "data": {
      "text/html": [
       "<table>\n",
       "<tr><th>ID</th><th>YARN Application ID</th><th>Kind</th><th>State</th><th>Spark UI</th><th>Driver log</th><th>User</th><th>Current session?</th></tr><tr><td>2728</td><td>application_1732639283265_2687</td><td>pyspark</td><td>idle</td><td><a target=\"_blank\" href=\"http://ip-192-168-1-36.eu-central-1.compute.internal:20888/proxy/application_1732639283265_2687/\">Link</a></td><td><a target=\"_blank\" href=\"http://ip-192-168-1-80.eu-central-1.compute.internal:8042/node/containerlogs/container_1732639283265_2687_01_000001/livy\">Link</a></td><td>None</td><td></td></tr><tr><td>2762</td><td>application_1732639283265_2721</td><td>pyspark</td><td>idle</td><td><a target=\"_blank\" href=\"http://ip-192-168-1-36.eu-central-1.compute.internal:20888/proxy/application_1732639283265_2721/\">Link</a></td><td><a target=\"_blank\" href=\"http://ip-192-168-1-117.eu-central-1.compute.internal:8042/node/containerlogs/container_1732639283265_2721_01_000001/livy\">Link</a></td><td>None</td><td></td></tr><tr><td>2767</td><td>application_1732639283265_2726</td><td>pyspark</td><td>idle</td><td><a target=\"_blank\" href=\"http://ip-192-168-1-36.eu-central-1.compute.internal:20888/proxy/application_1732639283265_2726/\">Link</a></td><td><a target=\"_blank\" href=\"http://ip-192-168-1-112.eu-central-1.compute.internal:8042/node/containerlogs/container_1732639283265_2726_01_000002/livy\">Link</a></td><td>None</td><td></td></tr><tr><td>2773</td><td>application_1732639283265_2732</td><td>pyspark</td><td>idle</td><td><a target=\"_blank\" href=\"http://ip-192-168-1-36.eu-central-1.compute.internal:20888/proxy/application_1732639283265_2732/\">Link</a></td><td><a target=\"_blank\" href=\"http://ip-192-168-1-166.eu-central-1.compute.internal:8042/node/containerlogs/container_1732639283265_2732_01_000001/livy\">Link</a></td><td>None</td><td></td></tr><tr><td>2776</td><td>application_1732639283265_2735</td><td>pyspark</td><td>idle</td><td><a target=\"_blank\" href=\"http://ip-192-168-1-36.eu-central-1.compute.internal:20888/proxy/application_1732639283265_2735/\">Link</a></td><td><a target=\"_blank\" href=\"http://ip-192-168-1-181.eu-central-1.compute.internal:8042/node/containerlogs/container_1732639283265_2735_01_000001/livy\">Link</a></td><td>None</td><td></td></tr><tr><td>2779</td><td>application_1732639283265_2738</td><td>pyspark</td><td>idle</td><td><a target=\"_blank\" href=\"http://ip-192-168-1-36.eu-central-1.compute.internal:20888/proxy/application_1732639283265_2738/\">Link</a></td><td><a target=\"_blank\" href=\"http://ip-192-168-1-91.eu-central-1.compute.internal:8042/node/containerlogs/container_1732639283265_2738_01_000001/livy\">Link</a></td><td>None</td><td></td></tr><tr><td>2780</td><td>application_1732639283265_2739</td><td>pyspark</td><td>idle</td><td><a target=\"_blank\" href=\"http://ip-192-168-1-36.eu-central-1.compute.internal:20888/proxy/application_1732639283265_2739/\">Link</a></td><td><a target=\"_blank\" href=\"http://ip-192-168-1-117.eu-central-1.compute.internal:8042/node/containerlogs/container_1732639283265_2739_01_000001/livy\">Link</a></td><td>None</td><td></td></tr><tr><td>2783</td><td>application_1732639283265_2742</td><td>pyspark</td><td>idle</td><td><a target=\"_blank\" href=\"http://ip-192-168-1-36.eu-central-1.compute.internal:20888/proxy/application_1732639283265_2742/\">Link</a></td><td><a target=\"_blank\" href=\"http://ip-192-168-1-181.eu-central-1.compute.internal:8042/node/containerlogs/container_1732639283265_2742_01_000001/livy\">Link</a></td><td>None</td><td></td></tr><tr><td>2784</td><td>application_1732639283265_2743</td><td>pyspark</td><td>idle</td><td><a target=\"_blank\" href=\"http://ip-192-168-1-36.eu-central-1.compute.internal:20888/proxy/application_1732639283265_2743/\">Link</a></td><td><a target=\"_blank\" href=\"http://ip-192-168-1-80.eu-central-1.compute.internal:8042/node/containerlogs/container_1732639283265_2743_01_000001/livy\">Link</a></td><td>None</td><td></td></tr><tr><td>2786</td><td>application_1732639283265_2745</td><td>pyspark</td><td>idle</td><td><a target=\"_blank\" href=\"http://ip-192-168-1-36.eu-central-1.compute.internal:20888/proxy/application_1732639283265_2745/\">Link</a></td><td><a target=\"_blank\" href=\"http://ip-192-168-1-193.eu-central-1.compute.internal:8042/node/containerlogs/container_1732639283265_2745_01_000001/livy\">Link</a></td><td>None</td><td></td></tr><tr><td>2787</td><td>application_1732639283265_2746</td><td>pyspark</td><td>idle</td><td><a target=\"_blank\" href=\"http://ip-192-168-1-36.eu-central-1.compute.internal:20888/proxy/application_1732639283265_2746/\">Link</a></td><td><a target=\"_blank\" href=\"http://ip-192-168-1-203.eu-central-1.compute.internal:8042/node/containerlogs/container_1732639283265_2746_01_000002/livy\">Link</a></td><td>None</td><td></td></tr><tr><td>2791</td><td>application_1732639283265_2750</td><td>pyspark</td><td>idle</td><td><a target=\"_blank\" href=\"http://ip-192-168-1-36.eu-central-1.compute.internal:20888/proxy/application_1732639283265_2750/\">Link</a></td><td><a target=\"_blank\" href=\"http://ip-192-168-1-94.eu-central-1.compute.internal:8042/node/containerlogs/container_1732639283265_2750_01_000001/livy\">Link</a></td><td>None</td><td></td></tr><tr><td>2793</td><td>application_1732639283265_2752</td><td>pyspark</td><td>idle</td><td><a target=\"_blank\" href=\"http://ip-192-168-1-36.eu-central-1.compute.internal:20888/proxy/application_1732639283265_2752/\">Link</a></td><td><a target=\"_blank\" href=\"http://ip-192-168-1-178.eu-central-1.compute.internal:8042/node/containerlogs/container_1732639283265_2752_01_000001/livy\">Link</a></td><td>None</td><td></td></tr><tr><td>2797</td><td>application_1732639283265_2756</td><td>pyspark</td><td>idle</td><td><a target=\"_blank\" href=\"http://ip-192-168-1-36.eu-central-1.compute.internal:20888/proxy/application_1732639283265_2756/\">Link</a></td><td><a target=\"_blank\" href=\"http://ip-192-168-1-247.eu-central-1.compute.internal:8042/node/containerlogs/container_1732639283265_2756_01_000002/livy\">Link</a></td><td>None</td><td></td></tr><tr><td>2798</td><td>application_1732639283265_2757</td><td>pyspark</td><td>idle</td><td><a target=\"_blank\" href=\"http://ip-192-168-1-36.eu-central-1.compute.internal:20888/proxy/application_1732639283265_2757/\">Link</a></td><td><a target=\"_blank\" href=\"http://ip-192-168-1-178.eu-central-1.compute.internal:8042/node/containerlogs/container_1732639283265_2757_01_000001/livy\">Link</a></td><td>None</td><td></td></tr><tr><td>2806</td><td>application_1732639283265_2765</td><td>pyspark</td><td>idle</td><td><a target=\"_blank\" href=\"http://ip-192-168-1-36.eu-central-1.compute.internal:20888/proxy/application_1732639283265_2765/\">Link</a></td><td><a target=\"_blank\" href=\"http://ip-192-168-1-247.eu-central-1.compute.internal:8042/node/containerlogs/container_1732639283265_2765_01_000001/livy\">Link</a></td><td>None</td><td></td></tr><tr><td>2808</td><td>application_1732639283265_2767</td><td>pyspark</td><td>idle</td><td><a target=\"_blank\" href=\"http://ip-192-168-1-36.eu-central-1.compute.internal:20888/proxy/application_1732639283265_2767/\">Link</a></td><td><a target=\"_blank\" href=\"http://ip-192-168-1-94.eu-central-1.compute.internal:8042/node/containerlogs/container_1732639283265_2767_01_000001/livy\">Link</a></td><td>None</td><td></td></tr><tr><td>2812</td><td>application_1732639283265_2771</td><td>pyspark</td><td>idle</td><td><a target=\"_blank\" href=\"http://ip-192-168-1-36.eu-central-1.compute.internal:20888/proxy/application_1732639283265_2771/\">Link</a></td><td><a target=\"_blank\" href=\"http://ip-192-168-1-94.eu-central-1.compute.internal:8042/node/containerlogs/container_1732639283265_2771_01_000001/livy\">Link</a></td><td>None</td><td></td></tr><tr><td>2816</td><td>application_1732639283265_2775</td><td>pyspark</td><td>idle</td><td><a target=\"_blank\" href=\"http://ip-192-168-1-36.eu-central-1.compute.internal:20888/proxy/application_1732639283265_2775/\">Link</a></td><td><a target=\"_blank\" href=\"http://ip-192-168-1-181.eu-central-1.compute.internal:8042/node/containerlogs/container_1732639283265_2775_01_000001/livy\">Link</a></td><td>None</td><td></td></tr><tr><td>2817</td><td>application_1732639283265_2776</td><td>pyspark</td><td>idle</td><td><a target=\"_blank\" href=\"http://ip-192-168-1-36.eu-central-1.compute.internal:20888/proxy/application_1732639283265_2776/\">Link</a></td><td><a target=\"_blank\" href=\"http://ip-192-168-1-112.eu-central-1.compute.internal:8042/node/containerlogs/container_1732639283265_2776_01_000002/livy\">Link</a></td><td>None</td><td></td></tr><tr><td>2824</td><td>application_1732639283265_2783</td><td>pyspark</td><td>idle</td><td><a target=\"_blank\" href=\"http://ip-192-168-1-36.eu-central-1.compute.internal:20888/proxy/application_1732639283265_2783/\">Link</a></td><td><a target=\"_blank\" href=\"http://ip-192-168-1-166.eu-central-1.compute.internal:8042/node/containerlogs/container_1732639283265_2783_01_000002/livy\">Link</a></td><td>None</td><td></td></tr><tr><td>2825</td><td>application_1732639283265_2784</td><td>pyspark</td><td>idle</td><td><a target=\"_blank\" href=\"http://ip-192-168-1-36.eu-central-1.compute.internal:20888/proxy/application_1732639283265_2784/\">Link</a></td><td><a target=\"_blank\" href=\"http://ip-192-168-1-91.eu-central-1.compute.internal:8042/node/containerlogs/container_1732639283265_2784_01_000001/livy\">Link</a></td><td>None</td><td></td></tr><tr><td>2827</td><td>application_1732639283265_2786</td><td>pyspark</td><td>idle</td><td><a target=\"_blank\" href=\"http://ip-192-168-1-36.eu-central-1.compute.internal:20888/proxy/application_1732639283265_2786/\">Link</a></td><td><a target=\"_blank\" href=\"http://ip-192-168-1-233.eu-central-1.compute.internal:8042/node/containerlogs/container_1732639283265_2786_01_000001/livy\">Link</a></td><td>None</td><td></td></tr><tr><td>2829</td><td>application_1732639283265_2788</td><td>pyspark</td><td>idle</td><td><a target=\"_blank\" href=\"http://ip-192-168-1-36.eu-central-1.compute.internal:20888/proxy/application_1732639283265_2788/\">Link</a></td><td><a target=\"_blank\" href=\"http://ip-192-168-1-112.eu-central-1.compute.internal:8042/node/containerlogs/container_1732639283265_2788_01_000001/livy\">Link</a></td><td>None</td><td></td></tr><tr><td>2830</td><td>application_1732639283265_2789</td><td>pyspark</td><td>idle</td><td><a target=\"_blank\" href=\"http://ip-192-168-1-36.eu-central-1.compute.internal:20888/proxy/application_1732639283265_2789/\">Link</a></td><td><a target=\"_blank\" href=\"http://ip-192-168-1-91.eu-central-1.compute.internal:8042/node/containerlogs/container_1732639283265_2789_01_000002/livy\">Link</a></td><td>None</td><td></td></tr><tr><td>2832</td><td>application_1732639283265_2791</td><td>pyspark</td><td>idle</td><td><a target=\"_blank\" href=\"http://ip-192-168-1-36.eu-central-1.compute.internal:20888/proxy/application_1732639283265_2791/\">Link</a></td><td><a target=\"_blank\" href=\"http://ip-192-168-1-193.eu-central-1.compute.internal:8042/node/containerlogs/container_1732639283265_2791_01_000002/livy\">Link</a></td><td>None</td><td></td></tr><tr><td>2838</td><td>application_1732639283265_2797</td><td>pyspark</td><td>idle</td><td><a target=\"_blank\" href=\"http://ip-192-168-1-36.eu-central-1.compute.internal:20888/proxy/application_1732639283265_2797/\">Link</a></td><td><a target=\"_blank\" href=\"http://ip-192-168-1-247.eu-central-1.compute.internal:8042/node/containerlogs/container_1732639283265_2797_01_000001/livy\">Link</a></td><td>None</td><td></td></tr><tr><td>2842</td><td>application_1732639283265_2801</td><td>pyspark</td><td>idle</td><td><a target=\"_blank\" href=\"http://ip-192-168-1-36.eu-central-1.compute.internal:20888/proxy/application_1732639283265_2801/\">Link</a></td><td><a target=\"_blank\" href=\"http://ip-192-168-1-227.eu-central-1.compute.internal:8042/node/containerlogs/container_1732639283265_2801_01_000002/livy\">Link</a></td><td>None</td><td></td></tr><tr><td>2851</td><td>application_1732639283265_2810</td><td>pyspark</td><td>idle</td><td><a target=\"_blank\" href=\"http://ip-192-168-1-36.eu-central-1.compute.internal:20888/proxy/application_1732639283265_2810/\">Link</a></td><td><a target=\"_blank\" href=\"http://ip-192-168-1-178.eu-central-1.compute.internal:8042/node/containerlogs/container_1732639283265_2810_01_000001/livy\">Link</a></td><td>None</td><td></td></tr><tr><td>2852</td><td>application_1732639283265_2811</td><td>pyspark</td><td>idle</td><td><a target=\"_blank\" href=\"http://ip-192-168-1-36.eu-central-1.compute.internal:20888/proxy/application_1732639283265_2811/\">Link</a></td><td><a target=\"_blank\" href=\"http://ip-192-168-1-178.eu-central-1.compute.internal:8042/node/containerlogs/container_1732639283265_2811_01_000001/livy\">Link</a></td><td>None</td><td></td></tr><tr><td>2884</td><td>application_1732639283265_2843</td><td>pyspark</td><td>idle</td><td><a target=\"_blank\" href=\"http://ip-192-168-1-36.eu-central-1.compute.internal:20888/proxy/application_1732639283265_2843/\">Link</a></td><td><a target=\"_blank\" href=\"http://ip-192-168-1-94.eu-central-1.compute.internal:8042/node/containerlogs/container_1732639283265_2843_01_000001/livy\">Link</a></td><td>None</td><td></td></tr><tr><td>2885</td><td>application_1732639283265_2844</td><td>pyspark</td><td>idle</td><td><a target=\"_blank\" href=\"http://ip-192-168-1-36.eu-central-1.compute.internal:20888/proxy/application_1732639283265_2844/\">Link</a></td><td><a target=\"_blank\" href=\"http://ip-192-168-1-91.eu-central-1.compute.internal:8042/node/containerlogs/container_1732639283265_2844_01_000001/livy\">Link</a></td><td>None</td><td></td></tr><tr><td>2887</td><td>application_1732639283265_2846</td><td>pyspark</td><td>idle</td><td><a target=\"_blank\" href=\"http://ip-192-168-1-36.eu-central-1.compute.internal:20888/proxy/application_1732639283265_2846/\">Link</a></td><td><a target=\"_blank\" href=\"http://ip-192-168-1-80.eu-central-1.compute.internal:8042/node/containerlogs/container_1732639283265_2846_01_000001/livy\">Link</a></td><td>None</td><td></td></tr><tr><td>2890</td><td>application_1732639283265_2849</td><td>pyspark</td><td>idle</td><td><a target=\"_blank\" href=\"http://ip-192-168-1-36.eu-central-1.compute.internal:20888/proxy/application_1732639283265_2849/\">Link</a></td><td><a target=\"_blank\" href=\"http://ip-192-168-1-193.eu-central-1.compute.internal:8042/node/containerlogs/container_1732639283265_2849_01_000001/livy\">Link</a></td><td>None</td><td>✔</td></tr></table>"
      ],
      "text/plain": [
       "<IPython.core.display.HTML object>"
      ]
     },
     "metadata": {},
     "output_type": "display_data"
    }
   ],
   "source": [
    "%%configure -f\n",
    "{\n",
    "    \"conf\": {\n",
    "        \"spark.executor.instances\": \"2\",\n",
    "        \"spark.executor.memory\": \"8g\",\n",
    "        \"spark.executor.cores\": \"4\",\n",
    "        \"spark.driver.memory\": \"4g\"\n",
    "    }\n",
    "}"
   ]
  },
  {
   "cell_type": "code",
   "execution_count": 33,
   "id": "29e4e2dc-b78a-4e31-a1dd-7f867e17f564",
   "metadata": {
    "tags": []
   },
   "outputs": [
    {
     "data": {
      "application/vnd.jupyter.widget-view+json": {
       "model_id": "",
       "version_major": 2,
       "version_minor": 0
      },
      "text/plain": [
       "FloatProgress(value=0.0, bar_style='info', description='Progress:', layout=Layout(height='25px', width='50%'),…"
      ]
     },
     "metadata": {},
     "output_type": "display_data"
    }
   ],
   "source": [
    "from sedona.spark import *\n",
    "from pyspark.sql import SparkSession\n",
    "from pathlib import Path\n",
    "from pyspark.sql import DataFrame\n",
    "from pyspark.sql.window import Window\n",
    "from pyspark.sql.functions import to_date, to_timestamp, col, year, month, desc, rank, when, count, lower,row_number, sum, round, avg\n",
    "import time\n",
    "import numpy as np\n",
    "\n",
    "def query_4(show_res=True):\n",
    "    spark = SparkSession.builder.appName(\"Query4_DataFrame\").getOrCreate()\n",
    "    sedona = SedonaContext.create(spark)\n",
    "\n",
    "    group_number = \"32\"\n",
    "    s3_path = \"s3://groups-bucket-dblab-905418150721/group\"+group_number+\"/assigment_parquet_files/\"\n",
    "\n",
    "\n",
    "    df_parquet_file = spark.read.parquet(s3_path+\"criminal_parquet.parquet\")\n",
    "    geojson_path = \"s3://initial-notebook-data-bucket-dblab-905418150721/2010_Census_Blocks.geojson\"\n",
    "    blocks_df = sedona.read.format(\"geojson\") \\\n",
    "                    .option(\"multiLine\", \"true\").load(geojson_path) \\\n",
    "                    .selectExpr(\"explode(features) as features\") \\\n",
    "                    .select(\"features.*\")\n",
    "    # Formatting magic\n",
    "    flattened_df = blocks_df.select( \\\n",
    "                    [col(f\"properties.{col_name}\").alias(col_name) for col_name in \\\n",
    "                    blocks_df.schema[\"properties\"].dataType.fieldNames()] + [\"geometry\"]) \\\n",
    "                    .drop(\"properties\") \\\n",
    "                    .drop(\"type\")\n",
    "\n",
    "    flattend_df = flattened_df.withColumn(\"ZCTA10\", col(\"ZCTA10\").cast(\"int\"))\n",
    "    flattend_df_LA = flattened_df.filter(col(\"CITY\") == \"Los Angeles\") \\\n",
    "                    .withColumnRenamed(\"ZCTA10\", \"ZIP Code\")\n",
    "\n",
    "    df_re = spark.read.parquet(s3_path+\"RE_codes.parquet\")\n",
    "    df_income_parquet = spark.read.parquet(s3_path+\"LA_Income.parquet\")\n",
    "\n",
    "    # Find the zip code of the area for each crime \n",
    "    df_parquet_file = df_parquet_file.filter(col(\"Vict Descent\").isNotNull())\n",
    "    df_crime_Geom = df_parquet_file.withColumn(\"point\", ST_Point(\"LON\", \"LAT\"))\n",
    "    df_join = flattend_df_LA.join(df_crime_Geom, ST_Within(df_crime_Geom.point, flattend_df_LA.geometry), \"inner\")\n",
    "    df_join_select = df_join.select(\"Zip Code\", \"LAT\", \"LON\", \"Vict Descent\")\n",
    "\n",
    "    # For each Area count the amount of crime per Race\n",
    "    crime_data_per_zip = df_join_select.groupBy(\"Zip Code\", \"Vict Descent\").count()\n",
    "    crime_data_per_zip = crime_data_per_zip.filter(col(\"Vict Descent\").isNotNull())\n",
    "    # Keep only the LA columns\n",
    "    sorted_LA_income = (df_income_parquet.filter(df_income_parquet[\"Community\"].like(\"%Los Angeles (%\"))\n",
    "                        .orderBy(col(\"Estimated Median Income\").desc()))\n",
    "\n",
    "    # Find the top 3 area with the income \n",
    "    top_income_zip = sorted_LA_income.limit(3).select(\"Zip Code\")\n",
    "    # Find the last 3 lest income areas\n",
    "    bottom_income_zip = sorted_LA_income.orderBy(col(\"Estimated Median Income\"), ascending=True).limit(3).select(\"Zip Code\")\n",
    "    top_victims = top_income_zip.join(crime_data_per_zip, \"Zip Code\").orderBy(col(\"count\").desc())\n",
    "    bottom_victims = bottom_income_zip.join(crime_data_per_zip, \"Zip Code\").orderBy(col(\"count\").desc())\n",
    "\n",
    "    top_income_victims_res = top_victims.join(df_re, \"Vict Descent\", \"inner\").orderBy('Zip Code', col('count').desc())\n",
    "    bottom_income_victims_res = bottom_victims.join(df_re, \"Vict Descent\", \"inner\").orderBy('Zip Code', col('count').desc())\n",
    "\n",
    "    if show_res:\n",
    "        print('Top income victims')\n",
    "        top_income_victims_res.select(\"Zip Code\", \"Vict Descent Full\", \"count\").show(200)\n",
    "\n",
    "        print('Lowest income victims')\n",
    "        bottom_income_victims_res.select(\"Zip Code\", \"Vict Descent Full\", \"count\").show(200)"
   ]
  },
  {
   "cell_type": "code",
   "execution_count": 34,
   "id": "157ddd6a-656b-4b89-abfa-ef3f4975be72",
   "metadata": {
    "tags": []
   },
   "outputs": [
    {
     "data": {
      "application/vnd.jupyter.widget-view+json": {
       "model_id": "",
       "version_major": 2,
       "version_minor": 0
      },
      "text/plain": [
       "FloatProgress(value=0.0, bar_style='info', description='Progress:', layout=Layout(height='25px', width='50%'),…"
      ]
     },
     "metadata": {},
     "output_type": "display_data"
    },
    {
     "name": "stdout",
     "output_type": "stream",
     "text": [
      "[16.47685956954956, 5.634891033172607, 6.166682004928589, 5.679811239242554, 3.4968721866607666, 4.055256605148315, 4.443585634231567, 3.9509100914001465, 5.057728052139282, 4.659974813461304]\n",
      "Average execution time: 5.962257122993469\n",
      "Top income victims\n",
      "+--------+--------------------+-----+\n",
      "|Zip Code|   Vict Descent Full|count|\n",
      "+--------+--------------------+-----+\n",
      "|   90077|               White| 1887|\n",
      "|   90077|               Other|  585|\n",
      "|   90077|Hispanic/Latin/Me...|  286|\n",
      "|   90077|               Black|  136|\n",
      "|   90077|             Unknown|  121|\n",
      "|   90077|         Other Asian|  113|\n",
      "|   90077|             Chinese|    6|\n",
      "|   90077|              Korean|    4|\n",
      "|   90077|            Japanese|    2|\n",
      "|   90077|American Indian/A...|    1|\n",
      "|   90077|         AsianIndian|    1|\n",
      "|   90077|            Hawaiian|    1|\n",
      "|   90077|            Filipino|    1|\n",
      "|   90272|               White| 6090|\n",
      "|   90272|               Other|  818|\n",
      "|   90272|Hispanic/Latin/Me...|  610|\n",
      "|   90272|             Unknown|  526|\n",
      "|   90272|               Black|  280|\n",
      "|   90272|         Other Asian|  240|\n",
      "|   90272|             Chinese|   33|\n",
      "|   90272|            Japanese|   19|\n",
      "|   90272|            Filipino|   17|\n",
      "|   90272|              Korean|   13|\n",
      "|   90272|American Indian/A...|    4|\n",
      "|   90272|         AsianIndian|    4|\n",
      "|   90272|          Vietnamese|    3|\n",
      "|   90272|            Hawaiian|    1|\n",
      "|   91436|               White| 5197|\n",
      "|   91436|               Other| 2114|\n",
      "|   91436|Hispanic/Latin/Me...|  852|\n",
      "|   91436|               Black|  364|\n",
      "|   91436|         Other Asian|  213|\n",
      "|   91436|             Unknown|   60|\n",
      "|   91436|             Chinese|   16|\n",
      "|   91436|              Korean|   10|\n",
      "|   91436|            Filipino|    9|\n",
      "|   91436|American Indian/A...|    4|\n",
      "|   91436|            Japanese|    3|\n",
      "|   91436|            Hawaiian|    3|\n",
      "|   91436|    Pacific Islander|    2|\n",
      "|   91436|          Vietnamese|    1|\n",
      "|   91436|         AsianIndian|    1|\n",
      "+--------+--------------------+-----+\n",
      "\n",
      "Lowest income victims\n",
      "+--------+--------------------+-----+\n",
      "|Zip Code|   Vict Descent Full|count|\n",
      "+--------+--------------------+-----+\n",
      "|   90013|               Black|15274|\n",
      "|   90013|Hispanic/Latin/Me...|11821|\n",
      "|   90013|               White| 9656|\n",
      "|   90013|               Other| 4192|\n",
      "|   90013|             Unknown| 2061|\n",
      "|   90013|         Other Asian| 1109|\n",
      "|   90013|             Chinese|  201|\n",
      "|   90013|              Korean|  196|\n",
      "|   90013|            Filipino|  143|\n",
      "|   90013|            Japanese|   68|\n",
      "|   90013|American Indian/A...|   68|\n",
      "|   90013|          Vietnamese|   41|\n",
      "|   90013|         AsianIndian|   29|\n",
      "|   90013|    Pacific Islander|    8|\n",
      "|   90013|             Laotian|    6|\n",
      "|   90013|           Cambodian|    4|\n",
      "|   90013|            Hawaiian|    4|\n",
      "|   90013|              Samoan|    4|\n",
      "|   90013|           Guamanian|    3|\n",
      "|   90021|Hispanic/Latin/Me...| 9691|\n",
      "|   90021|               White| 4625|\n",
      "|   90021|               Black| 4516|\n",
      "|   90021|               Other| 2337|\n",
      "|   90021|             Unknown|  849|\n",
      "|   90021|         Other Asian|  601|\n",
      "|   90021|              Korean|  139|\n",
      "|   90021|             Chinese|   83|\n",
      "|   90021|            Filipino|   60|\n",
      "|   90021|          Vietnamese|   31|\n",
      "|   90021|American Indian/A...|   26|\n",
      "|   90021|            Japanese|   21|\n",
      "|   90021|    Pacific Islander|    9|\n",
      "|   90021|         AsianIndian|    4|\n",
      "|   90021|           Cambodian|    3|\n",
      "|   90021|            Hawaiian|    2|\n",
      "|   90021|              Samoan|    1|\n",
      "|   90021|           Guamanian|    1|\n",
      "|   90021|             Laotian|    1|\n",
      "|   90058|Hispanic/Latin/Me...| 2171|\n",
      "|   90058|               Black|  674|\n",
      "|   90058|               White|  237|\n",
      "|   90058|               Other|  183|\n",
      "|   90058|             Unknown|   96|\n",
      "|   90058|         Other Asian|   55|\n",
      "|   90058|              Korean|   14|\n",
      "|   90058|            Filipino|    2|\n",
      "|   90058|American Indian/A...|    2|\n",
      "|   90058|          Vietnamese|    1|\n",
      "|   90058|           Cambodian|    1|\n",
      "|   90058|            Hawaiian|    1|\n",
      "+--------+--------------------+-----+"
     ]
    }
   ],
   "source": [
    "times_lst = []\n",
    "for i in range(10):\n",
    "    start_time = time.time()\n",
    "    query_4(show_res=False)\n",
    "    times_lst.append(time.time() - start_time)\n",
    "print(times_lst)\n",
    "print(f'Average execution time: {np.mean(times_lst)}')\n",
    "query_4(show_res=True)"
   ]
  },
  {
   "cell_type": "markdown",
   "id": "73841888-a606-4349-88b8-868c643cc42b",
   "metadata": {
    "tags": []
   },
   "source": [
    "### Query 5 "
   ]
  },
  {
   "cell_type": "code",
   "execution_count": 35,
   "id": "ba8e6a73-6607-4b21-8716-c7538a753d63",
   "metadata": {
    "tags": []
   },
   "outputs": [
    {
     "name": "stdout",
     "output_type": "stream",
     "text": [
      "Starting Spark application\n"
     ]
    },
    {
     "data": {
      "text/html": [
       "<table>\n",
       "<tr><th>ID</th><th>YARN Application ID</th><th>Kind</th><th>State</th><th>Spark UI</th><th>Driver log</th><th>User</th><th>Current session?</th></tr><tr><td>2892</td><td>application_1732639283265_2851</td><td>pyspark</td><td>idle</td><td><a target=\"_blank\" href=\"http://ip-192-168-1-36.eu-central-1.compute.internal:20888/proxy/application_1732639283265_2851/\">Link</a></td><td><a target=\"_blank\" href=\"http://ip-192-168-1-233.eu-central-1.compute.internal:8042/node/containerlogs/container_1732639283265_2851_01_000002/livy\">Link</a></td><td>None</td><td>✔</td></tr></table>"
      ],
      "text/plain": [
       "<IPython.core.display.HTML object>"
      ]
     },
     "metadata": {},
     "output_type": "display_data"
    },
    {
     "data": {
      "application/vnd.jupyter.widget-view+json": {
       "model_id": "",
       "version_major": 2,
       "version_minor": 0
      },
      "text/plain": [
       "FloatProgress(value=0.0, bar_style='info', description='Progress:', layout=Layout(height='25px', width='50%'),…"
      ]
     },
     "metadata": {},
     "output_type": "display_data"
    },
    {
     "name": "stdout",
     "output_type": "stream",
     "text": [
      "SparkSession available as 'spark'.\n"
     ]
    },
    {
     "data": {
      "text/html": [
       "Current session configs: <tt>{'conf': {'spark.sql.catalog.spark_catalog.type': 'hive', 'spark.executor.instances': '2', 'spark.executor.memory': '8g', 'spark.executor.cores': '4', 'spark.driver.memory': '4g'}, 'kind': 'pyspark'}</tt><br>"
      ],
      "text/plain": [
       "<IPython.core.display.HTML object>"
      ]
     },
     "metadata": {},
     "output_type": "display_data"
    },
    {
     "data": {
      "text/html": [
       "<table>\n",
       "<tr><th>ID</th><th>YARN Application ID</th><th>Kind</th><th>State</th><th>Spark UI</th><th>Driver log</th><th>User</th><th>Current session?</th></tr><tr><td>2728</td><td>application_1732639283265_2687</td><td>pyspark</td><td>idle</td><td><a target=\"_blank\" href=\"http://ip-192-168-1-36.eu-central-1.compute.internal:20888/proxy/application_1732639283265_2687/\">Link</a></td><td><a target=\"_blank\" href=\"http://ip-192-168-1-80.eu-central-1.compute.internal:8042/node/containerlogs/container_1732639283265_2687_01_000001/livy\">Link</a></td><td>None</td><td></td></tr><tr><td>2762</td><td>application_1732639283265_2721</td><td>pyspark</td><td>idle</td><td><a target=\"_blank\" href=\"http://ip-192-168-1-36.eu-central-1.compute.internal:20888/proxy/application_1732639283265_2721/\">Link</a></td><td><a target=\"_blank\" href=\"http://ip-192-168-1-117.eu-central-1.compute.internal:8042/node/containerlogs/container_1732639283265_2721_01_000001/livy\">Link</a></td><td>None</td><td></td></tr><tr><td>2767</td><td>application_1732639283265_2726</td><td>pyspark</td><td>idle</td><td><a target=\"_blank\" href=\"http://ip-192-168-1-36.eu-central-1.compute.internal:20888/proxy/application_1732639283265_2726/\">Link</a></td><td><a target=\"_blank\" href=\"http://ip-192-168-1-112.eu-central-1.compute.internal:8042/node/containerlogs/container_1732639283265_2726_01_000002/livy\">Link</a></td><td>None</td><td></td></tr><tr><td>2773</td><td>application_1732639283265_2732</td><td>pyspark</td><td>idle</td><td><a target=\"_blank\" href=\"http://ip-192-168-1-36.eu-central-1.compute.internal:20888/proxy/application_1732639283265_2732/\">Link</a></td><td><a target=\"_blank\" href=\"http://ip-192-168-1-166.eu-central-1.compute.internal:8042/node/containerlogs/container_1732639283265_2732_01_000001/livy\">Link</a></td><td>None</td><td></td></tr><tr><td>2776</td><td>application_1732639283265_2735</td><td>pyspark</td><td>idle</td><td><a target=\"_blank\" href=\"http://ip-192-168-1-36.eu-central-1.compute.internal:20888/proxy/application_1732639283265_2735/\">Link</a></td><td><a target=\"_blank\" href=\"http://ip-192-168-1-181.eu-central-1.compute.internal:8042/node/containerlogs/container_1732639283265_2735_01_000001/livy\">Link</a></td><td>None</td><td></td></tr><tr><td>2779</td><td>application_1732639283265_2738</td><td>pyspark</td><td>idle</td><td><a target=\"_blank\" href=\"http://ip-192-168-1-36.eu-central-1.compute.internal:20888/proxy/application_1732639283265_2738/\">Link</a></td><td><a target=\"_blank\" href=\"http://ip-192-168-1-91.eu-central-1.compute.internal:8042/node/containerlogs/container_1732639283265_2738_01_000001/livy\">Link</a></td><td>None</td><td></td></tr><tr><td>2780</td><td>application_1732639283265_2739</td><td>pyspark</td><td>idle</td><td><a target=\"_blank\" href=\"http://ip-192-168-1-36.eu-central-1.compute.internal:20888/proxy/application_1732639283265_2739/\">Link</a></td><td><a target=\"_blank\" href=\"http://ip-192-168-1-117.eu-central-1.compute.internal:8042/node/containerlogs/container_1732639283265_2739_01_000001/livy\">Link</a></td><td>None</td><td></td></tr><tr><td>2783</td><td>application_1732639283265_2742</td><td>pyspark</td><td>idle</td><td><a target=\"_blank\" href=\"http://ip-192-168-1-36.eu-central-1.compute.internal:20888/proxy/application_1732639283265_2742/\">Link</a></td><td><a target=\"_blank\" href=\"http://ip-192-168-1-181.eu-central-1.compute.internal:8042/node/containerlogs/container_1732639283265_2742_01_000001/livy\">Link</a></td><td>None</td><td></td></tr><tr><td>2784</td><td>application_1732639283265_2743</td><td>pyspark</td><td>idle</td><td><a target=\"_blank\" href=\"http://ip-192-168-1-36.eu-central-1.compute.internal:20888/proxy/application_1732639283265_2743/\">Link</a></td><td><a target=\"_blank\" href=\"http://ip-192-168-1-80.eu-central-1.compute.internal:8042/node/containerlogs/container_1732639283265_2743_01_000001/livy\">Link</a></td><td>None</td><td></td></tr><tr><td>2786</td><td>application_1732639283265_2745</td><td>pyspark</td><td>idle</td><td><a target=\"_blank\" href=\"http://ip-192-168-1-36.eu-central-1.compute.internal:20888/proxy/application_1732639283265_2745/\">Link</a></td><td><a target=\"_blank\" href=\"http://ip-192-168-1-193.eu-central-1.compute.internal:8042/node/containerlogs/container_1732639283265_2745_01_000001/livy\">Link</a></td><td>None</td><td></td></tr><tr><td>2787</td><td>application_1732639283265_2746</td><td>pyspark</td><td>idle</td><td><a target=\"_blank\" href=\"http://ip-192-168-1-36.eu-central-1.compute.internal:20888/proxy/application_1732639283265_2746/\">Link</a></td><td><a target=\"_blank\" href=\"http://ip-192-168-1-203.eu-central-1.compute.internal:8042/node/containerlogs/container_1732639283265_2746_01_000002/livy\">Link</a></td><td>None</td><td></td></tr><tr><td>2791</td><td>application_1732639283265_2750</td><td>pyspark</td><td>idle</td><td><a target=\"_blank\" href=\"http://ip-192-168-1-36.eu-central-1.compute.internal:20888/proxy/application_1732639283265_2750/\">Link</a></td><td><a target=\"_blank\" href=\"http://ip-192-168-1-94.eu-central-1.compute.internal:8042/node/containerlogs/container_1732639283265_2750_01_000001/livy\">Link</a></td><td>None</td><td></td></tr><tr><td>2793</td><td>application_1732639283265_2752</td><td>pyspark</td><td>idle</td><td><a target=\"_blank\" href=\"http://ip-192-168-1-36.eu-central-1.compute.internal:20888/proxy/application_1732639283265_2752/\">Link</a></td><td><a target=\"_blank\" href=\"http://ip-192-168-1-178.eu-central-1.compute.internal:8042/node/containerlogs/container_1732639283265_2752_01_000001/livy\">Link</a></td><td>None</td><td></td></tr><tr><td>2797</td><td>application_1732639283265_2756</td><td>pyspark</td><td>idle</td><td><a target=\"_blank\" href=\"http://ip-192-168-1-36.eu-central-1.compute.internal:20888/proxy/application_1732639283265_2756/\">Link</a></td><td><a target=\"_blank\" href=\"http://ip-192-168-1-247.eu-central-1.compute.internal:8042/node/containerlogs/container_1732639283265_2756_01_000002/livy\">Link</a></td><td>None</td><td></td></tr><tr><td>2798</td><td>application_1732639283265_2757</td><td>pyspark</td><td>idle</td><td><a target=\"_blank\" href=\"http://ip-192-168-1-36.eu-central-1.compute.internal:20888/proxy/application_1732639283265_2757/\">Link</a></td><td><a target=\"_blank\" href=\"http://ip-192-168-1-178.eu-central-1.compute.internal:8042/node/containerlogs/container_1732639283265_2757_01_000001/livy\">Link</a></td><td>None</td><td></td></tr><tr><td>2806</td><td>application_1732639283265_2765</td><td>pyspark</td><td>idle</td><td><a target=\"_blank\" href=\"http://ip-192-168-1-36.eu-central-1.compute.internal:20888/proxy/application_1732639283265_2765/\">Link</a></td><td><a target=\"_blank\" href=\"http://ip-192-168-1-247.eu-central-1.compute.internal:8042/node/containerlogs/container_1732639283265_2765_01_000001/livy\">Link</a></td><td>None</td><td></td></tr><tr><td>2808</td><td>application_1732639283265_2767</td><td>pyspark</td><td>idle</td><td><a target=\"_blank\" href=\"http://ip-192-168-1-36.eu-central-1.compute.internal:20888/proxy/application_1732639283265_2767/\">Link</a></td><td><a target=\"_blank\" href=\"http://ip-192-168-1-94.eu-central-1.compute.internal:8042/node/containerlogs/container_1732639283265_2767_01_000001/livy\">Link</a></td><td>None</td><td></td></tr><tr><td>2812</td><td>application_1732639283265_2771</td><td>pyspark</td><td>idle</td><td><a target=\"_blank\" href=\"http://ip-192-168-1-36.eu-central-1.compute.internal:20888/proxy/application_1732639283265_2771/\">Link</a></td><td><a target=\"_blank\" href=\"http://ip-192-168-1-94.eu-central-1.compute.internal:8042/node/containerlogs/container_1732639283265_2771_01_000001/livy\">Link</a></td><td>None</td><td></td></tr><tr><td>2816</td><td>application_1732639283265_2775</td><td>pyspark</td><td>idle</td><td><a target=\"_blank\" href=\"http://ip-192-168-1-36.eu-central-1.compute.internal:20888/proxy/application_1732639283265_2775/\">Link</a></td><td><a target=\"_blank\" href=\"http://ip-192-168-1-181.eu-central-1.compute.internal:8042/node/containerlogs/container_1732639283265_2775_01_000001/livy\">Link</a></td><td>None</td><td></td></tr><tr><td>2817</td><td>application_1732639283265_2776</td><td>pyspark</td><td>idle</td><td><a target=\"_blank\" href=\"http://ip-192-168-1-36.eu-central-1.compute.internal:20888/proxy/application_1732639283265_2776/\">Link</a></td><td><a target=\"_blank\" href=\"http://ip-192-168-1-112.eu-central-1.compute.internal:8042/node/containerlogs/container_1732639283265_2776_01_000002/livy\">Link</a></td><td>None</td><td></td></tr><tr><td>2824</td><td>application_1732639283265_2783</td><td>pyspark</td><td>idle</td><td><a target=\"_blank\" href=\"http://ip-192-168-1-36.eu-central-1.compute.internal:20888/proxy/application_1732639283265_2783/\">Link</a></td><td><a target=\"_blank\" href=\"http://ip-192-168-1-166.eu-central-1.compute.internal:8042/node/containerlogs/container_1732639283265_2783_01_000002/livy\">Link</a></td><td>None</td><td></td></tr><tr><td>2825</td><td>application_1732639283265_2784</td><td>pyspark</td><td>idle</td><td><a target=\"_blank\" href=\"http://ip-192-168-1-36.eu-central-1.compute.internal:20888/proxy/application_1732639283265_2784/\">Link</a></td><td><a target=\"_blank\" href=\"http://ip-192-168-1-91.eu-central-1.compute.internal:8042/node/containerlogs/container_1732639283265_2784_01_000001/livy\">Link</a></td><td>None</td><td></td></tr><tr><td>2827</td><td>application_1732639283265_2786</td><td>pyspark</td><td>idle</td><td><a target=\"_blank\" href=\"http://ip-192-168-1-36.eu-central-1.compute.internal:20888/proxy/application_1732639283265_2786/\">Link</a></td><td><a target=\"_blank\" href=\"http://ip-192-168-1-233.eu-central-1.compute.internal:8042/node/containerlogs/container_1732639283265_2786_01_000001/livy\">Link</a></td><td>None</td><td></td></tr><tr><td>2829</td><td>application_1732639283265_2788</td><td>pyspark</td><td>idle</td><td><a target=\"_blank\" href=\"http://ip-192-168-1-36.eu-central-1.compute.internal:20888/proxy/application_1732639283265_2788/\">Link</a></td><td><a target=\"_blank\" href=\"http://ip-192-168-1-112.eu-central-1.compute.internal:8042/node/containerlogs/container_1732639283265_2788_01_000001/livy\">Link</a></td><td>None</td><td></td></tr><tr><td>2830</td><td>application_1732639283265_2789</td><td>pyspark</td><td>idle</td><td><a target=\"_blank\" href=\"http://ip-192-168-1-36.eu-central-1.compute.internal:20888/proxy/application_1732639283265_2789/\">Link</a></td><td><a target=\"_blank\" href=\"http://ip-192-168-1-91.eu-central-1.compute.internal:8042/node/containerlogs/container_1732639283265_2789_01_000002/livy\">Link</a></td><td>None</td><td></td></tr><tr><td>2832</td><td>application_1732639283265_2791</td><td>pyspark</td><td>idle</td><td><a target=\"_blank\" href=\"http://ip-192-168-1-36.eu-central-1.compute.internal:20888/proxy/application_1732639283265_2791/\">Link</a></td><td><a target=\"_blank\" href=\"http://ip-192-168-1-193.eu-central-1.compute.internal:8042/node/containerlogs/container_1732639283265_2791_01_000002/livy\">Link</a></td><td>None</td><td></td></tr><tr><td>2838</td><td>application_1732639283265_2797</td><td>pyspark</td><td>idle</td><td><a target=\"_blank\" href=\"http://ip-192-168-1-36.eu-central-1.compute.internal:20888/proxy/application_1732639283265_2797/\">Link</a></td><td><a target=\"_blank\" href=\"http://ip-192-168-1-247.eu-central-1.compute.internal:8042/node/containerlogs/container_1732639283265_2797_01_000001/livy\">Link</a></td><td>None</td><td></td></tr><tr><td>2842</td><td>application_1732639283265_2801</td><td>pyspark</td><td>idle</td><td><a target=\"_blank\" href=\"http://ip-192-168-1-36.eu-central-1.compute.internal:20888/proxy/application_1732639283265_2801/\">Link</a></td><td><a target=\"_blank\" href=\"http://ip-192-168-1-227.eu-central-1.compute.internal:8042/node/containerlogs/container_1732639283265_2801_01_000002/livy\">Link</a></td><td>None</td><td></td></tr><tr><td>2851</td><td>application_1732639283265_2810</td><td>pyspark</td><td>idle</td><td><a target=\"_blank\" href=\"http://ip-192-168-1-36.eu-central-1.compute.internal:20888/proxy/application_1732639283265_2810/\">Link</a></td><td><a target=\"_blank\" href=\"http://ip-192-168-1-178.eu-central-1.compute.internal:8042/node/containerlogs/container_1732639283265_2810_01_000001/livy\">Link</a></td><td>None</td><td></td></tr><tr><td>2852</td><td>application_1732639283265_2811</td><td>pyspark</td><td>idle</td><td><a target=\"_blank\" href=\"http://ip-192-168-1-36.eu-central-1.compute.internal:20888/proxy/application_1732639283265_2811/\">Link</a></td><td><a target=\"_blank\" href=\"http://ip-192-168-1-178.eu-central-1.compute.internal:8042/node/containerlogs/container_1732639283265_2811_01_000001/livy\">Link</a></td><td>None</td><td></td></tr><tr><td>2884</td><td>application_1732639283265_2843</td><td>pyspark</td><td>idle</td><td><a target=\"_blank\" href=\"http://ip-192-168-1-36.eu-central-1.compute.internal:20888/proxy/application_1732639283265_2843/\">Link</a></td><td><a target=\"_blank\" href=\"http://ip-192-168-1-94.eu-central-1.compute.internal:8042/node/containerlogs/container_1732639283265_2843_01_000001/livy\">Link</a></td><td>None</td><td></td></tr><tr><td>2885</td><td>application_1732639283265_2844</td><td>pyspark</td><td>idle</td><td><a target=\"_blank\" href=\"http://ip-192-168-1-36.eu-central-1.compute.internal:20888/proxy/application_1732639283265_2844/\">Link</a></td><td><a target=\"_blank\" href=\"http://ip-192-168-1-91.eu-central-1.compute.internal:8042/node/containerlogs/container_1732639283265_2844_01_000001/livy\">Link</a></td><td>None</td><td></td></tr><tr><td>2887</td><td>application_1732639283265_2846</td><td>pyspark</td><td>idle</td><td><a target=\"_blank\" href=\"http://ip-192-168-1-36.eu-central-1.compute.internal:20888/proxy/application_1732639283265_2846/\">Link</a></td><td><a target=\"_blank\" href=\"http://ip-192-168-1-80.eu-central-1.compute.internal:8042/node/containerlogs/container_1732639283265_2846_01_000001/livy\">Link</a></td><td>None</td><td></td></tr><tr><td>2891</td><td>application_1732639283265_2850</td><td>pyspark</td><td>busy</td><td><a target=\"_blank\" href=\"http://ip-192-168-1-36.eu-central-1.compute.internal:20888/proxy/application_1732639283265_2850/\">Link</a></td><td><a target=\"_blank\" href=\"http://ip-192-168-1-203.eu-central-1.compute.internal:8042/node/containerlogs/container_1732639283265_2850_01_000001/livy\">Link</a></td><td>None</td><td></td></tr><tr><td>2892</td><td>application_1732639283265_2851</td><td>pyspark</td><td>idle</td><td><a target=\"_blank\" href=\"http://ip-192-168-1-36.eu-central-1.compute.internal:20888/proxy/application_1732639283265_2851/\">Link</a></td><td><a target=\"_blank\" href=\"http://ip-192-168-1-233.eu-central-1.compute.internal:8042/node/containerlogs/container_1732639283265_2851_01_000002/livy\">Link</a></td><td>None</td><td>✔</td></tr></table>"
      ],
      "text/plain": [
       "<IPython.core.display.HTML object>"
      ]
     },
     "metadata": {},
     "output_type": "display_data"
    }
   ],
   "source": [
    "%%configure -f\n",
    "{\n",
    "    \"conf\": {\n",
    "        \"spark.executor.instances\": \"2\",\n",
    "        \"spark.executor.memory\": \"8g\",\n",
    "        \"spark.executor.cores\": \"4\",\n",
    "        \"spark.driver.memory\": \"4g\"\n",
    "    }\n",
    "}"
   ]
  },
  {
   "cell_type": "code",
   "execution_count": 36,
   "id": "a65cc8e2-aa9e-48b6-817d-70cfe5da79c5",
   "metadata": {
    "tags": []
   },
   "outputs": [
    {
     "data": {
      "application/vnd.jupyter.widget-view+json": {
       "model_id": "",
       "version_major": 2,
       "version_minor": 0
      },
      "text/plain": [
       "FloatProgress(value=0.0, bar_style='info', description='Progress:', layout=Layout(height='25px', width='50%'),…"
      ]
     },
     "metadata": {},
     "output_type": "display_data"
    }
   ],
   "source": [
    "from sedona.spark import *\n",
    "from pyspark.sql import SparkSession\n",
    "from pathlib import Path\n",
    "from pyspark.sql import DataFrame\n",
    "from pyspark.sql.window import Window\n",
    "from pyspark.sql.functions import to_date, to_timestamp, col, year, month, desc, rank, when, count, lower,row_number, sum, round, avg\n",
    "import time\n",
    "import numpy as np\n",
    "\n",
    "def query_5(show_res=True):\n",
    "    \n",
    "    spark = SparkSession.builder.appName(\"Query5_DataFrame\").getOrCreate()\n",
    "    sedona = SedonaContext.create(spark)\n",
    "\n",
    "    group_number = \"32\"\n",
    "    s3_path = \"s3://groups-bucket-dblab-905418150721/group\"+group_number+\"/assigment_parquet_files/\"\n",
    "\n",
    "\n",
    "    df_parquet_file = spark.read.parquet(s3_path+\"criminal_parquet.parquet\")\n",
    "    \n",
    "    df_Police_stations_parquet_file = spark.read.parquet(s3_path+\"LA_Police_Stations.parquet\")\n",
    "    df_filtered_crimes = df_parquet_file.filter(\n",
    "        (col('Weapon Used Cd') >= 100) &\n",
    "        (col('Weapon Used Cd') < 200) &\n",
    "        (col('LAT') != 0.0) &\n",
    "        (col('LON') != 0.0)\n",
    "    )\n",
    "\n",
    "    df_joined = df_parquet_file.join(\n",
    "        df_Police_stations_parquet_file,\n",
    "        df_parquet_file[\"AREA\"] == df_Police_stations_parquet_file[\"PREC\"],\n",
    "        \"inner\"\n",
    "    )\n",
    "\n",
    "    df_GeomPoints = df_joined.withColumn(\"pointPoliceStation\", ST_Point(\"Y\", \"X\")).withColumn(\"pointCrime\", ST_Point(\"LAT\", \"LON\"))\n",
    "    df_distance = df_GeomPoints.withColumn(\"distance\", ST_DistanceSphere(\"pointPoliceStation\", \"pointCrime\")/1000) # divide with 1000 to conver into km\n",
    "    df_distance = df_distance.select(\n",
    "        col(\"LAT\").alias(\"crime_LAT\"),\n",
    "        col(\"LON\").alias(\"crime_LON\"),\n",
    "        col(\"Y\").alias(\"station_LAT\"),\n",
    "        col(\"X\").alias(\"station_LON\"),\n",
    "        col(\"DIVISION\").alias(\"division\"),\n",
    "        col(\"distance\")\n",
    "    )\n",
    "\n",
    "    # Calculate average distance by division\n",
    "    average_distance_by_division = df_distance.groupBy(\"division\").agg(\n",
    "        avg(\"distance\").alias(\"average_distance\"),\n",
    "        count(\"*\").alias(\"number_of_incidents\")\n",
    "    ).orderBy(desc(\"number_of_incidents\"))\n",
    "\n",
    "    if show_res:\n",
    "        average_distance_by_division.show(50)"
   ]
  },
  {
   "cell_type": "code",
   "execution_count": 37,
   "id": "72c8f238-b3f8-4969-bb89-fd57b46815d6",
   "metadata": {
    "tags": []
   },
   "outputs": [
    {
     "data": {
      "application/vnd.jupyter.widget-view+json": {
       "model_id": "",
       "version_major": 2,
       "version_minor": 0
      },
      "text/plain": [
       "FloatProgress(value=0.0, bar_style='info', description='Progress:', layout=Layout(height='25px', width='50%'),…"
      ]
     },
     "metadata": {},
     "output_type": "display_data"
    },
    {
     "name": "stdout",
     "output_type": "stream",
     "text": [
      "[9.030415296554565, 1.5945732593536377, 1.3192253112792969, 0.9136602878570557, 0.852773904800415, 0.9498627185821533, 0.7466731071472168, 0.7304801940917969, 0.8031618595123291, 0.9451959133148193]\n",
      "Average execution time: 1.7886021852493286\n",
      "+----------------+------------------+-------------------+\n",
      "|        division|  average_distance|number_of_incidents|\n",
      "+----------------+------------------+-------------------+\n",
      "|     77TH STREET|14.653158550211844|             206981|\n",
      "|       SOUTHWEST| 12.00476110447696|             192367|\n",
      "|         PACIFIC|22.692338743002296|             171166|\n",
      "|         CENTRAL| 19.70834405698613|             166946|\n",
      "| NORTH HOLLYWOOD|15.639629476751265|             164710|\n",
      "|       SOUTHEAST| 17.91416858507957|             161256|\n",
      "|       HOLLYWOOD| 34.06244353940189|             151053|\n",
      "|          NEWTON|12.480201162658012|             148886|\n",
      "|         OLYMPIC|  16.4541969949399|             145135|\n",
      "|         MISSION| 18.63241087118478|             143777|\n",
      "|       NORTHEAST|12.726693877994759|             142833|\n",
      "|        VAN NUYS|13.560290997563175|             142327|\n",
      "|         TOPANGA| 8.574402904449778|             138708|\n",
      "|      DEVONSHIRE|18.709941672370473|             138044|\n",
      "|        WILSHIRE|18.229753133389355|             136374|\n",
      "|         RAMPART|15.761616075213148|             136104|\n",
      "|WEST LOS ANGELES|14.014595600976804|             134369|\n",
      "|          HARBOR| 13.92564998034777|             133031|\n",
      "|     WEST VALLEY|11.429658796267697|             131585|\n",
      "|      HOLLENBECK| 18.21974262379342|             114665|\n",
      "|        FOOTHILL|15.754750128119628|             113020|\n",
      "+----------------+------------------+-------------------+"
     ]
    }
   ],
   "source": [
    "times_lst = []\n",
    "for i in range(10):\n",
    "    start_time = time.time()\n",
    "    query_5(show_res=False)\n",
    "    times_lst.append(time.time() - start_time)\n",
    "print(times_lst)\n",
    "print(f'Average execution time: {np.mean(times_lst)}')\n",
    "query_5(show_res=True)"
   ]
  },
  {
   "cell_type": "code",
   "execution_count": 38,
   "id": "c55c0c41-e53e-474a-a90f-e435d409fa26",
   "metadata": {
    "tags": []
   },
   "outputs": [
    {
     "name": "stdout",
     "output_type": "stream",
     "text": [
      "Starting Spark application\n"
     ]
    },
    {
     "data": {
      "text/html": [
       "<table>\n",
       "<tr><th>ID</th><th>YARN Application ID</th><th>Kind</th><th>State</th><th>Spark UI</th><th>Driver log</th><th>User</th><th>Current session?</th></tr><tr><td>2893</td><td>application_1732639283265_2852</td><td>pyspark</td><td>idle</td><td><a target=\"_blank\" href=\"http://ip-192-168-1-36.eu-central-1.compute.internal:20888/proxy/application_1732639283265_2852/\">Link</a></td><td><a target=\"_blank\" href=\"http://ip-192-168-1-233.eu-central-1.compute.internal:8042/node/containerlogs/container_1732639283265_2852_01_000001/livy\">Link</a></td><td>None</td><td>✔</td></tr></table>"
      ],
      "text/plain": [
       "<IPython.core.display.HTML object>"
      ]
     },
     "metadata": {},
     "output_type": "display_data"
    },
    {
     "data": {
      "application/vnd.jupyter.widget-view+json": {
       "model_id": "",
       "version_major": 2,
       "version_minor": 0
      },
      "text/plain": [
       "FloatProgress(value=0.0, bar_style='info', description='Progress:', layout=Layout(height='25px', width='50%'),…"
      ]
     },
     "metadata": {},
     "output_type": "display_data"
    },
    {
     "name": "stdout",
     "output_type": "stream",
     "text": [
      "SparkSession available as 'spark'.\n"
     ]
    },
    {
     "data": {
      "text/html": [
       "Current session configs: <tt>{'conf': {'spark.sql.catalog.spark_catalog.type': 'hive', 'spark.executor.instances': '4', 'spark.executor.memory': '4g', 'spark.executor.cores': '2', 'spark.driver.memory': '4g'}, 'kind': 'pyspark'}</tt><br>"
      ],
      "text/plain": [
       "<IPython.core.display.HTML object>"
      ]
     },
     "metadata": {},
     "output_type": "display_data"
    },
    {
     "data": {
      "text/html": [
       "<table>\n",
       "<tr><th>ID</th><th>YARN Application ID</th><th>Kind</th><th>State</th><th>Spark UI</th><th>Driver log</th><th>User</th><th>Current session?</th></tr><tr><td>2728</td><td>application_1732639283265_2687</td><td>pyspark</td><td>idle</td><td><a target=\"_blank\" href=\"http://ip-192-168-1-36.eu-central-1.compute.internal:20888/proxy/application_1732639283265_2687/\">Link</a></td><td><a target=\"_blank\" href=\"http://ip-192-168-1-80.eu-central-1.compute.internal:8042/node/containerlogs/container_1732639283265_2687_01_000001/livy\">Link</a></td><td>None</td><td></td></tr><tr><td>2762</td><td>application_1732639283265_2721</td><td>pyspark</td><td>idle</td><td><a target=\"_blank\" href=\"http://ip-192-168-1-36.eu-central-1.compute.internal:20888/proxy/application_1732639283265_2721/\">Link</a></td><td><a target=\"_blank\" href=\"http://ip-192-168-1-117.eu-central-1.compute.internal:8042/node/containerlogs/container_1732639283265_2721_01_000001/livy\">Link</a></td><td>None</td><td></td></tr><tr><td>2767</td><td>application_1732639283265_2726</td><td>pyspark</td><td>idle</td><td><a target=\"_blank\" href=\"http://ip-192-168-1-36.eu-central-1.compute.internal:20888/proxy/application_1732639283265_2726/\">Link</a></td><td><a target=\"_blank\" href=\"http://ip-192-168-1-112.eu-central-1.compute.internal:8042/node/containerlogs/container_1732639283265_2726_01_000002/livy\">Link</a></td><td>None</td><td></td></tr><tr><td>2773</td><td>application_1732639283265_2732</td><td>pyspark</td><td>idle</td><td><a target=\"_blank\" href=\"http://ip-192-168-1-36.eu-central-1.compute.internal:20888/proxy/application_1732639283265_2732/\">Link</a></td><td><a target=\"_blank\" href=\"http://ip-192-168-1-166.eu-central-1.compute.internal:8042/node/containerlogs/container_1732639283265_2732_01_000001/livy\">Link</a></td><td>None</td><td></td></tr><tr><td>2776</td><td>application_1732639283265_2735</td><td>pyspark</td><td>idle</td><td><a target=\"_blank\" href=\"http://ip-192-168-1-36.eu-central-1.compute.internal:20888/proxy/application_1732639283265_2735/\">Link</a></td><td><a target=\"_blank\" href=\"http://ip-192-168-1-181.eu-central-1.compute.internal:8042/node/containerlogs/container_1732639283265_2735_01_000001/livy\">Link</a></td><td>None</td><td></td></tr><tr><td>2779</td><td>application_1732639283265_2738</td><td>pyspark</td><td>idle</td><td><a target=\"_blank\" href=\"http://ip-192-168-1-36.eu-central-1.compute.internal:20888/proxy/application_1732639283265_2738/\">Link</a></td><td><a target=\"_blank\" href=\"http://ip-192-168-1-91.eu-central-1.compute.internal:8042/node/containerlogs/container_1732639283265_2738_01_000001/livy\">Link</a></td><td>None</td><td></td></tr><tr><td>2780</td><td>application_1732639283265_2739</td><td>pyspark</td><td>idle</td><td><a target=\"_blank\" href=\"http://ip-192-168-1-36.eu-central-1.compute.internal:20888/proxy/application_1732639283265_2739/\">Link</a></td><td><a target=\"_blank\" href=\"http://ip-192-168-1-117.eu-central-1.compute.internal:8042/node/containerlogs/container_1732639283265_2739_01_000001/livy\">Link</a></td><td>None</td><td></td></tr><tr><td>2783</td><td>application_1732639283265_2742</td><td>pyspark</td><td>idle</td><td><a target=\"_blank\" href=\"http://ip-192-168-1-36.eu-central-1.compute.internal:20888/proxy/application_1732639283265_2742/\">Link</a></td><td><a target=\"_blank\" href=\"http://ip-192-168-1-181.eu-central-1.compute.internal:8042/node/containerlogs/container_1732639283265_2742_01_000001/livy\">Link</a></td><td>None</td><td></td></tr><tr><td>2784</td><td>application_1732639283265_2743</td><td>pyspark</td><td>idle</td><td><a target=\"_blank\" href=\"http://ip-192-168-1-36.eu-central-1.compute.internal:20888/proxy/application_1732639283265_2743/\">Link</a></td><td><a target=\"_blank\" href=\"http://ip-192-168-1-80.eu-central-1.compute.internal:8042/node/containerlogs/container_1732639283265_2743_01_000001/livy\">Link</a></td><td>None</td><td></td></tr><tr><td>2786</td><td>application_1732639283265_2745</td><td>pyspark</td><td>idle</td><td><a target=\"_blank\" href=\"http://ip-192-168-1-36.eu-central-1.compute.internal:20888/proxy/application_1732639283265_2745/\">Link</a></td><td><a target=\"_blank\" href=\"http://ip-192-168-1-193.eu-central-1.compute.internal:8042/node/containerlogs/container_1732639283265_2745_01_000001/livy\">Link</a></td><td>None</td><td></td></tr><tr><td>2787</td><td>application_1732639283265_2746</td><td>pyspark</td><td>idle</td><td><a target=\"_blank\" href=\"http://ip-192-168-1-36.eu-central-1.compute.internal:20888/proxy/application_1732639283265_2746/\">Link</a></td><td><a target=\"_blank\" href=\"http://ip-192-168-1-203.eu-central-1.compute.internal:8042/node/containerlogs/container_1732639283265_2746_01_000002/livy\">Link</a></td><td>None</td><td></td></tr><tr><td>2791</td><td>application_1732639283265_2750</td><td>pyspark</td><td>idle</td><td><a target=\"_blank\" href=\"http://ip-192-168-1-36.eu-central-1.compute.internal:20888/proxy/application_1732639283265_2750/\">Link</a></td><td><a target=\"_blank\" href=\"http://ip-192-168-1-94.eu-central-1.compute.internal:8042/node/containerlogs/container_1732639283265_2750_01_000001/livy\">Link</a></td><td>None</td><td></td></tr><tr><td>2793</td><td>application_1732639283265_2752</td><td>pyspark</td><td>idle</td><td><a target=\"_blank\" href=\"http://ip-192-168-1-36.eu-central-1.compute.internal:20888/proxy/application_1732639283265_2752/\">Link</a></td><td><a target=\"_blank\" href=\"http://ip-192-168-1-178.eu-central-1.compute.internal:8042/node/containerlogs/container_1732639283265_2752_01_000001/livy\">Link</a></td><td>None</td><td></td></tr><tr><td>2797</td><td>application_1732639283265_2756</td><td>pyspark</td><td>idle</td><td><a target=\"_blank\" href=\"http://ip-192-168-1-36.eu-central-1.compute.internal:20888/proxy/application_1732639283265_2756/\">Link</a></td><td><a target=\"_blank\" href=\"http://ip-192-168-1-247.eu-central-1.compute.internal:8042/node/containerlogs/container_1732639283265_2756_01_000002/livy\">Link</a></td><td>None</td><td></td></tr><tr><td>2798</td><td>application_1732639283265_2757</td><td>pyspark</td><td>idle</td><td><a target=\"_blank\" href=\"http://ip-192-168-1-36.eu-central-1.compute.internal:20888/proxy/application_1732639283265_2757/\">Link</a></td><td><a target=\"_blank\" href=\"http://ip-192-168-1-178.eu-central-1.compute.internal:8042/node/containerlogs/container_1732639283265_2757_01_000001/livy\">Link</a></td><td>None</td><td></td></tr><tr><td>2806</td><td>application_1732639283265_2765</td><td>pyspark</td><td>idle</td><td><a target=\"_blank\" href=\"http://ip-192-168-1-36.eu-central-1.compute.internal:20888/proxy/application_1732639283265_2765/\">Link</a></td><td><a target=\"_blank\" href=\"http://ip-192-168-1-247.eu-central-1.compute.internal:8042/node/containerlogs/container_1732639283265_2765_01_000001/livy\">Link</a></td><td>None</td><td></td></tr><tr><td>2808</td><td>application_1732639283265_2767</td><td>pyspark</td><td>idle</td><td><a target=\"_blank\" href=\"http://ip-192-168-1-36.eu-central-1.compute.internal:20888/proxy/application_1732639283265_2767/\">Link</a></td><td><a target=\"_blank\" href=\"http://ip-192-168-1-94.eu-central-1.compute.internal:8042/node/containerlogs/container_1732639283265_2767_01_000001/livy\">Link</a></td><td>None</td><td></td></tr><tr><td>2812</td><td>application_1732639283265_2771</td><td>pyspark</td><td>idle</td><td><a target=\"_blank\" href=\"http://ip-192-168-1-36.eu-central-1.compute.internal:20888/proxy/application_1732639283265_2771/\">Link</a></td><td><a target=\"_blank\" href=\"http://ip-192-168-1-94.eu-central-1.compute.internal:8042/node/containerlogs/container_1732639283265_2771_01_000001/livy\">Link</a></td><td>None</td><td></td></tr><tr><td>2816</td><td>application_1732639283265_2775</td><td>pyspark</td><td>idle</td><td><a target=\"_blank\" href=\"http://ip-192-168-1-36.eu-central-1.compute.internal:20888/proxy/application_1732639283265_2775/\">Link</a></td><td><a target=\"_blank\" href=\"http://ip-192-168-1-181.eu-central-1.compute.internal:8042/node/containerlogs/container_1732639283265_2775_01_000001/livy\">Link</a></td><td>None</td><td></td></tr><tr><td>2817</td><td>application_1732639283265_2776</td><td>pyspark</td><td>idle</td><td><a target=\"_blank\" href=\"http://ip-192-168-1-36.eu-central-1.compute.internal:20888/proxy/application_1732639283265_2776/\">Link</a></td><td><a target=\"_blank\" href=\"http://ip-192-168-1-112.eu-central-1.compute.internal:8042/node/containerlogs/container_1732639283265_2776_01_000002/livy\">Link</a></td><td>None</td><td></td></tr><tr><td>2824</td><td>application_1732639283265_2783</td><td>pyspark</td><td>idle</td><td><a target=\"_blank\" href=\"http://ip-192-168-1-36.eu-central-1.compute.internal:20888/proxy/application_1732639283265_2783/\">Link</a></td><td><a target=\"_blank\" href=\"http://ip-192-168-1-166.eu-central-1.compute.internal:8042/node/containerlogs/container_1732639283265_2783_01_000002/livy\">Link</a></td><td>None</td><td></td></tr><tr><td>2825</td><td>application_1732639283265_2784</td><td>pyspark</td><td>idle</td><td><a target=\"_blank\" href=\"http://ip-192-168-1-36.eu-central-1.compute.internal:20888/proxy/application_1732639283265_2784/\">Link</a></td><td><a target=\"_blank\" href=\"http://ip-192-168-1-91.eu-central-1.compute.internal:8042/node/containerlogs/container_1732639283265_2784_01_000001/livy\">Link</a></td><td>None</td><td></td></tr><tr><td>2827</td><td>application_1732639283265_2786</td><td>pyspark</td><td>idle</td><td><a target=\"_blank\" href=\"http://ip-192-168-1-36.eu-central-1.compute.internal:20888/proxy/application_1732639283265_2786/\">Link</a></td><td><a target=\"_blank\" href=\"http://ip-192-168-1-233.eu-central-1.compute.internal:8042/node/containerlogs/container_1732639283265_2786_01_000001/livy\">Link</a></td><td>None</td><td></td></tr><tr><td>2829</td><td>application_1732639283265_2788</td><td>pyspark</td><td>idle</td><td><a target=\"_blank\" href=\"http://ip-192-168-1-36.eu-central-1.compute.internal:20888/proxy/application_1732639283265_2788/\">Link</a></td><td><a target=\"_blank\" href=\"http://ip-192-168-1-112.eu-central-1.compute.internal:8042/node/containerlogs/container_1732639283265_2788_01_000001/livy\">Link</a></td><td>None</td><td></td></tr><tr><td>2830</td><td>application_1732639283265_2789</td><td>pyspark</td><td>idle</td><td><a target=\"_blank\" href=\"http://ip-192-168-1-36.eu-central-1.compute.internal:20888/proxy/application_1732639283265_2789/\">Link</a></td><td><a target=\"_blank\" href=\"http://ip-192-168-1-91.eu-central-1.compute.internal:8042/node/containerlogs/container_1732639283265_2789_01_000002/livy\">Link</a></td><td>None</td><td></td></tr><tr><td>2832</td><td>application_1732639283265_2791</td><td>pyspark</td><td>idle</td><td><a target=\"_blank\" href=\"http://ip-192-168-1-36.eu-central-1.compute.internal:20888/proxy/application_1732639283265_2791/\">Link</a></td><td><a target=\"_blank\" href=\"http://ip-192-168-1-193.eu-central-1.compute.internal:8042/node/containerlogs/container_1732639283265_2791_01_000002/livy\">Link</a></td><td>None</td><td></td></tr><tr><td>2838</td><td>application_1732639283265_2797</td><td>pyspark</td><td>idle</td><td><a target=\"_blank\" href=\"http://ip-192-168-1-36.eu-central-1.compute.internal:20888/proxy/application_1732639283265_2797/\">Link</a></td><td><a target=\"_blank\" href=\"http://ip-192-168-1-247.eu-central-1.compute.internal:8042/node/containerlogs/container_1732639283265_2797_01_000001/livy\">Link</a></td><td>None</td><td></td></tr><tr><td>2842</td><td>application_1732639283265_2801</td><td>pyspark</td><td>idle</td><td><a target=\"_blank\" href=\"http://ip-192-168-1-36.eu-central-1.compute.internal:20888/proxy/application_1732639283265_2801/\">Link</a></td><td><a target=\"_blank\" href=\"http://ip-192-168-1-227.eu-central-1.compute.internal:8042/node/containerlogs/container_1732639283265_2801_01_000002/livy\">Link</a></td><td>None</td><td></td></tr><tr><td>2851</td><td>application_1732639283265_2810</td><td>pyspark</td><td>idle</td><td><a target=\"_blank\" href=\"http://ip-192-168-1-36.eu-central-1.compute.internal:20888/proxy/application_1732639283265_2810/\">Link</a></td><td><a target=\"_blank\" href=\"http://ip-192-168-1-178.eu-central-1.compute.internal:8042/node/containerlogs/container_1732639283265_2810_01_000001/livy\">Link</a></td><td>None</td><td></td></tr><tr><td>2852</td><td>application_1732639283265_2811</td><td>pyspark</td><td>idle</td><td><a target=\"_blank\" href=\"http://ip-192-168-1-36.eu-central-1.compute.internal:20888/proxy/application_1732639283265_2811/\">Link</a></td><td><a target=\"_blank\" href=\"http://ip-192-168-1-178.eu-central-1.compute.internal:8042/node/containerlogs/container_1732639283265_2811_01_000001/livy\">Link</a></td><td>None</td><td></td></tr><tr><td>2884</td><td>application_1732639283265_2843</td><td>pyspark</td><td>idle</td><td><a target=\"_blank\" href=\"http://ip-192-168-1-36.eu-central-1.compute.internal:20888/proxy/application_1732639283265_2843/\">Link</a></td><td><a target=\"_blank\" href=\"http://ip-192-168-1-94.eu-central-1.compute.internal:8042/node/containerlogs/container_1732639283265_2843_01_000001/livy\">Link</a></td><td>None</td><td></td></tr><tr><td>2885</td><td>application_1732639283265_2844</td><td>pyspark</td><td>idle</td><td><a target=\"_blank\" href=\"http://ip-192-168-1-36.eu-central-1.compute.internal:20888/proxy/application_1732639283265_2844/\">Link</a></td><td><a target=\"_blank\" href=\"http://ip-192-168-1-91.eu-central-1.compute.internal:8042/node/containerlogs/container_1732639283265_2844_01_000001/livy\">Link</a></td><td>None</td><td></td></tr><tr><td>2887</td><td>application_1732639283265_2846</td><td>pyspark</td><td>idle</td><td><a target=\"_blank\" href=\"http://ip-192-168-1-36.eu-central-1.compute.internal:20888/proxy/application_1732639283265_2846/\">Link</a></td><td><a target=\"_blank\" href=\"http://ip-192-168-1-80.eu-central-1.compute.internal:8042/node/containerlogs/container_1732639283265_2846_01_000001/livy\">Link</a></td><td>None</td><td></td></tr><tr><td>2891</td><td>application_1732639283265_2850</td><td>pyspark</td><td>idle</td><td><a target=\"_blank\" href=\"http://ip-192-168-1-36.eu-central-1.compute.internal:20888/proxy/application_1732639283265_2850/\">Link</a></td><td><a target=\"_blank\" href=\"http://ip-192-168-1-203.eu-central-1.compute.internal:8042/node/containerlogs/container_1732639283265_2850_01_000001/livy\">Link</a></td><td>None</td><td></td></tr><tr><td>2893</td><td>application_1732639283265_2852</td><td>pyspark</td><td>idle</td><td><a target=\"_blank\" href=\"http://ip-192-168-1-36.eu-central-1.compute.internal:20888/proxy/application_1732639283265_2852/\">Link</a></td><td><a target=\"_blank\" href=\"http://ip-192-168-1-233.eu-central-1.compute.internal:8042/node/containerlogs/container_1732639283265_2852_01_000001/livy\">Link</a></td><td>None</td><td>✔</td></tr></table>"
      ],
      "text/plain": [
       "<IPython.core.display.HTML object>"
      ]
     },
     "metadata": {},
     "output_type": "display_data"
    }
   ],
   "source": [
    "%%configure -f\n",
    "{\n",
    "    \"conf\": {\n",
    "        \"spark.executor.instances\": \"4\",\n",
    "        \"spark.executor.memory\": \"4g\",\n",
    "        \"spark.executor.cores\": \"2\",\n",
    "        \"spark.driver.memory\": \"4g\"\n",
    "    }\n",
    "}"
   ]
  },
  {
   "cell_type": "code",
   "execution_count": 39,
   "id": "636492cc-039a-4656-8617-ea7283c63bfe",
   "metadata": {
    "tags": []
   },
   "outputs": [
    {
     "data": {
      "application/vnd.jupyter.widget-view+json": {
       "model_id": "",
       "version_major": 2,
       "version_minor": 0
      },
      "text/plain": [
       "FloatProgress(value=0.0, bar_style='info', description='Progress:', layout=Layout(height='25px', width='50%'),…"
      ]
     },
     "metadata": {},
     "output_type": "display_data"
    }
   ],
   "source": [
    "from sedona.spark import *\n",
    "from pyspark.sql import SparkSession\n",
    "from pathlib import Path\n",
    "from pyspark.sql import DataFrame\n",
    "from pyspark.sql.window import Window\n",
    "from pyspark.sql.functions import to_date, to_timestamp, col, year, month, desc, rank, when, count, lower,row_number, sum, round, avg\n",
    "import time\n",
    "import numpy as np\n",
    "\n",
    "def query_5(show_res=True):\n",
    "    \n",
    "    spark = SparkSession.builder.appName(\"Query5_DataFrame\").getOrCreate()\n",
    "    sedona = SedonaContext.create(spark)\n",
    "\n",
    "    group_number = \"32\"\n",
    "    s3_path = \"s3://groups-bucket-dblab-905418150721/group\"+group_number+\"/assigment_parquet_files/\"\n",
    "\n",
    "\n",
    "    df_parquet_file = spark.read.parquet(s3_path+\"criminal_parquet.parquet\")\n",
    "    \n",
    "    df_Police_stations_parquet_file = spark.read.parquet(s3_path+\"LA_Police_Stations.parquet\")\n",
    "    df_filtered_crimes = df_parquet_file.filter(\n",
    "        (col('Weapon Used Cd') >= 100) &\n",
    "        (col('Weapon Used Cd') < 200) &\n",
    "        (col('LAT') != 0.0) &\n",
    "        (col('LON') != 0.0)\n",
    "    )\n",
    "\n",
    "    df_joined = df_parquet_file.join(\n",
    "        df_Police_stations_parquet_file,\n",
    "        df_parquet_file[\"AREA\"] == df_Police_stations_parquet_file[\"PREC\"],\n",
    "        \"inner\"\n",
    "    )\n",
    "\n",
    "    df_GeomPoints = df_joined.withColumn(\"pointPoliceStation\", ST_Point(\"Y\", \"X\")).withColumn(\"pointCrime\", ST_Point(\"LAT\", \"LON\"))\n",
    "    df_distance = df_GeomPoints.withColumn(\"distance\", ST_DistanceSphere(\"pointPoliceStation\", \"pointCrime\")/1000) # divide with 1000 to conver into km\n",
    "    df_distance = df_distance.select(\n",
    "        col(\"LAT\").alias(\"crime_LAT\"),\n",
    "        col(\"LON\").alias(\"crime_LON\"),\n",
    "        col(\"Y\").alias(\"station_LAT\"),\n",
    "        col(\"X\").alias(\"station_LON\"),\n",
    "        col(\"DIVISION\").alias(\"division\"),\n",
    "        col(\"distance\")\n",
    "    )\n",
    "\n",
    "    # Calculate average distance by division\n",
    "    average_distance_by_division = df_distance.groupBy(\"division\").agg(\n",
    "        avg(\"distance\").alias(\"average_distance\"),\n",
    "        count(\"*\").alias(\"number_of_incidents\")\n",
    "    ).orderBy(desc(\"number_of_incidents\"))\n",
    "\n",
    "    if show_res:\n",
    "        average_distance_by_division.show(50)"
   ]
  },
  {
   "cell_type": "code",
   "execution_count": 40,
   "id": "42d09ce6-a6d7-43c0-b0b4-d9537c1eb2ef",
   "metadata": {
    "tags": []
   },
   "outputs": [
    {
     "data": {
      "application/vnd.jupyter.widget-view+json": {
       "model_id": "",
       "version_major": 2,
       "version_minor": 0
      },
      "text/plain": [
       "FloatProgress(value=0.0, bar_style='info', description='Progress:', layout=Layout(height='25px', width='50%'),…"
      ]
     },
     "metadata": {},
     "output_type": "display_data"
    },
    {
     "name": "stdout",
     "output_type": "stream",
     "text": [
      "[9.772949457168579, 0.9416513442993164, 1.0624849796295166, 1.0719728469848633, 0.8171465396881104, 0.815178632736206, 0.8497989177703857, 0.7264482975006104, 0.7394587993621826, 0.8641884326934814]\n",
      "Average execution time: 1.7661278247833252\n",
      "+----------------+------------------+-------------------+\n",
      "|        division|  average_distance|number_of_incidents|\n",
      "+----------------+------------------+-------------------+\n",
      "|     77TH STREET|14.653158550211842|             206981|\n",
      "|       SOUTHWEST| 12.00476110447696|             192367|\n",
      "|         PACIFIC|22.692338743002292|             171166|\n",
      "|         CENTRAL| 19.70834405698613|             166946|\n",
      "| NORTH HOLLYWOOD|15.639629476751265|             164710|\n",
      "|       SOUTHEAST| 17.91416858507957|             161256|\n",
      "|       HOLLYWOOD| 34.06244353940189|             151053|\n",
      "|          NEWTON|12.480201162658012|             148886|\n",
      "|         OLYMPIC|  16.4541969949399|             145135|\n",
      "|         MISSION|18.632410871184778|             143777|\n",
      "|       NORTHEAST|12.726693877994759|             142833|\n",
      "|        VAN NUYS|13.560290997563175|             142327|\n",
      "|         TOPANGA| 8.574402904449778|             138708|\n",
      "|      DEVONSHIRE|18.709941672370473|             138044|\n",
      "|        WILSHIRE| 18.22975313338935|             136374|\n",
      "|         RAMPART|15.761616075213144|             136104|\n",
      "|WEST LOS ANGELES|14.014595600976804|             134369|\n",
      "|          HARBOR| 13.92564998034777|             133031|\n",
      "|     WEST VALLEY|11.429658796267697|             131585|\n",
      "|      HOLLENBECK| 18.21974262379342|             114665|\n",
      "|        FOOTHILL|15.754750128119628|             113020|\n",
      "+----------------+------------------+-------------------+"
     ]
    }
   ],
   "source": [
    "times_lst = []\n",
    "for i in range(10):\n",
    "    start_time = time.time()\n",
    "    query_5(show_res=False)\n",
    "    times_lst.append(time.time() - start_time)\n",
    "print(times_lst)\n",
    "print(f'Average execution time: {np.mean(times_lst)}')\n",
    "query_5(show_res=True)"
   ]
  },
  {
   "cell_type": "code",
   "execution_count": 41,
   "id": "fb898c71-42b3-4a02-a605-0054f0c2a8d9",
   "metadata": {
    "tags": []
   },
   "outputs": [
    {
     "name": "stdout",
     "output_type": "stream",
     "text": [
      "Starting Spark application\n"
     ]
    },
    {
     "data": {
      "text/html": [
       "<table>\n",
       "<tr><th>ID</th><th>YARN Application ID</th><th>Kind</th><th>State</th><th>Spark UI</th><th>Driver log</th><th>User</th><th>Current session?</th></tr><tr><td>2894</td><td>application_1732639283265_2853</td><td>pyspark</td><td>idle</td><td><a target=\"_blank\" href=\"http://ip-192-168-1-36.eu-central-1.compute.internal:20888/proxy/application_1732639283265_2853/\">Link</a></td><td><a target=\"_blank\" href=\"http://ip-192-168-1-112.eu-central-1.compute.internal:8042/node/containerlogs/container_1732639283265_2853_01_000001/livy\">Link</a></td><td>None</td><td>✔</td></tr></table>"
      ],
      "text/plain": [
       "<IPython.core.display.HTML object>"
      ]
     },
     "metadata": {},
     "output_type": "display_data"
    },
    {
     "data": {
      "application/vnd.jupyter.widget-view+json": {
       "model_id": "",
       "version_major": 2,
       "version_minor": 0
      },
      "text/plain": [
       "FloatProgress(value=0.0, bar_style='info', description='Progress:', layout=Layout(height='25px', width='50%'),…"
      ]
     },
     "metadata": {},
     "output_type": "display_data"
    },
    {
     "name": "stdout",
     "output_type": "stream",
     "text": [
      "SparkSession available as 'spark'.\n"
     ]
    },
    {
     "data": {
      "text/html": [
       "Current session configs: <tt>{'conf': {'spark.sql.catalog.spark_catalog.type': 'hive', 'spark.executor.instances': '8', 'spark.executor.memory': '2g', 'spark.executor.cores': '1', 'spark.driver.memory': '2g'}, 'kind': 'pyspark'}</tt><br>"
      ],
      "text/plain": [
       "<IPython.core.display.HTML object>"
      ]
     },
     "metadata": {},
     "output_type": "display_data"
    },
    {
     "data": {
      "text/html": [
       "<table>\n",
       "<tr><th>ID</th><th>YARN Application ID</th><th>Kind</th><th>State</th><th>Spark UI</th><th>Driver log</th><th>User</th><th>Current session?</th></tr><tr><td>2728</td><td>application_1732639283265_2687</td><td>pyspark</td><td>idle</td><td><a target=\"_blank\" href=\"http://ip-192-168-1-36.eu-central-1.compute.internal:20888/proxy/application_1732639283265_2687/\">Link</a></td><td><a target=\"_blank\" href=\"http://ip-192-168-1-80.eu-central-1.compute.internal:8042/node/containerlogs/container_1732639283265_2687_01_000001/livy\">Link</a></td><td>None</td><td></td></tr><tr><td>2762</td><td>application_1732639283265_2721</td><td>pyspark</td><td>idle</td><td><a target=\"_blank\" href=\"http://ip-192-168-1-36.eu-central-1.compute.internal:20888/proxy/application_1732639283265_2721/\">Link</a></td><td><a target=\"_blank\" href=\"http://ip-192-168-1-117.eu-central-1.compute.internal:8042/node/containerlogs/container_1732639283265_2721_01_000001/livy\">Link</a></td><td>None</td><td></td></tr><tr><td>2767</td><td>application_1732639283265_2726</td><td>pyspark</td><td>idle</td><td><a target=\"_blank\" href=\"http://ip-192-168-1-36.eu-central-1.compute.internal:20888/proxy/application_1732639283265_2726/\">Link</a></td><td><a target=\"_blank\" href=\"http://ip-192-168-1-112.eu-central-1.compute.internal:8042/node/containerlogs/container_1732639283265_2726_01_000002/livy\">Link</a></td><td>None</td><td></td></tr><tr><td>2773</td><td>application_1732639283265_2732</td><td>pyspark</td><td>idle</td><td><a target=\"_blank\" href=\"http://ip-192-168-1-36.eu-central-1.compute.internal:20888/proxy/application_1732639283265_2732/\">Link</a></td><td><a target=\"_blank\" href=\"http://ip-192-168-1-166.eu-central-1.compute.internal:8042/node/containerlogs/container_1732639283265_2732_01_000001/livy\">Link</a></td><td>None</td><td></td></tr><tr><td>2776</td><td>application_1732639283265_2735</td><td>pyspark</td><td>idle</td><td><a target=\"_blank\" href=\"http://ip-192-168-1-36.eu-central-1.compute.internal:20888/proxy/application_1732639283265_2735/\">Link</a></td><td><a target=\"_blank\" href=\"http://ip-192-168-1-181.eu-central-1.compute.internal:8042/node/containerlogs/container_1732639283265_2735_01_000001/livy\">Link</a></td><td>None</td><td></td></tr><tr><td>2779</td><td>application_1732639283265_2738</td><td>pyspark</td><td>idle</td><td><a target=\"_blank\" href=\"http://ip-192-168-1-36.eu-central-1.compute.internal:20888/proxy/application_1732639283265_2738/\">Link</a></td><td><a target=\"_blank\" href=\"http://ip-192-168-1-91.eu-central-1.compute.internal:8042/node/containerlogs/container_1732639283265_2738_01_000001/livy\">Link</a></td><td>None</td><td></td></tr><tr><td>2780</td><td>application_1732639283265_2739</td><td>pyspark</td><td>idle</td><td><a target=\"_blank\" href=\"http://ip-192-168-1-36.eu-central-1.compute.internal:20888/proxy/application_1732639283265_2739/\">Link</a></td><td><a target=\"_blank\" href=\"http://ip-192-168-1-117.eu-central-1.compute.internal:8042/node/containerlogs/container_1732639283265_2739_01_000001/livy\">Link</a></td><td>None</td><td></td></tr><tr><td>2783</td><td>application_1732639283265_2742</td><td>pyspark</td><td>idle</td><td><a target=\"_blank\" href=\"http://ip-192-168-1-36.eu-central-1.compute.internal:20888/proxy/application_1732639283265_2742/\">Link</a></td><td><a target=\"_blank\" href=\"http://ip-192-168-1-181.eu-central-1.compute.internal:8042/node/containerlogs/container_1732639283265_2742_01_000001/livy\">Link</a></td><td>None</td><td></td></tr><tr><td>2784</td><td>application_1732639283265_2743</td><td>pyspark</td><td>idle</td><td><a target=\"_blank\" href=\"http://ip-192-168-1-36.eu-central-1.compute.internal:20888/proxy/application_1732639283265_2743/\">Link</a></td><td><a target=\"_blank\" href=\"http://ip-192-168-1-80.eu-central-1.compute.internal:8042/node/containerlogs/container_1732639283265_2743_01_000001/livy\">Link</a></td><td>None</td><td></td></tr><tr><td>2786</td><td>application_1732639283265_2745</td><td>pyspark</td><td>idle</td><td><a target=\"_blank\" href=\"http://ip-192-168-1-36.eu-central-1.compute.internal:20888/proxy/application_1732639283265_2745/\">Link</a></td><td><a target=\"_blank\" href=\"http://ip-192-168-1-193.eu-central-1.compute.internal:8042/node/containerlogs/container_1732639283265_2745_01_000001/livy\">Link</a></td><td>None</td><td></td></tr><tr><td>2787</td><td>application_1732639283265_2746</td><td>pyspark</td><td>idle</td><td><a target=\"_blank\" href=\"http://ip-192-168-1-36.eu-central-1.compute.internal:20888/proxy/application_1732639283265_2746/\">Link</a></td><td><a target=\"_blank\" href=\"http://ip-192-168-1-203.eu-central-1.compute.internal:8042/node/containerlogs/container_1732639283265_2746_01_000002/livy\">Link</a></td><td>None</td><td></td></tr><tr><td>2791</td><td>application_1732639283265_2750</td><td>pyspark</td><td>idle</td><td><a target=\"_blank\" href=\"http://ip-192-168-1-36.eu-central-1.compute.internal:20888/proxy/application_1732639283265_2750/\">Link</a></td><td><a target=\"_blank\" href=\"http://ip-192-168-1-94.eu-central-1.compute.internal:8042/node/containerlogs/container_1732639283265_2750_01_000001/livy\">Link</a></td><td>None</td><td></td></tr><tr><td>2793</td><td>application_1732639283265_2752</td><td>pyspark</td><td>idle</td><td><a target=\"_blank\" href=\"http://ip-192-168-1-36.eu-central-1.compute.internal:20888/proxy/application_1732639283265_2752/\">Link</a></td><td><a target=\"_blank\" href=\"http://ip-192-168-1-178.eu-central-1.compute.internal:8042/node/containerlogs/container_1732639283265_2752_01_000001/livy\">Link</a></td><td>None</td><td></td></tr><tr><td>2797</td><td>application_1732639283265_2756</td><td>pyspark</td><td>idle</td><td><a target=\"_blank\" href=\"http://ip-192-168-1-36.eu-central-1.compute.internal:20888/proxy/application_1732639283265_2756/\">Link</a></td><td><a target=\"_blank\" href=\"http://ip-192-168-1-247.eu-central-1.compute.internal:8042/node/containerlogs/container_1732639283265_2756_01_000002/livy\">Link</a></td><td>None</td><td></td></tr><tr><td>2798</td><td>application_1732639283265_2757</td><td>pyspark</td><td>idle</td><td><a target=\"_blank\" href=\"http://ip-192-168-1-36.eu-central-1.compute.internal:20888/proxy/application_1732639283265_2757/\">Link</a></td><td><a target=\"_blank\" href=\"http://ip-192-168-1-178.eu-central-1.compute.internal:8042/node/containerlogs/container_1732639283265_2757_01_000001/livy\">Link</a></td><td>None</td><td></td></tr><tr><td>2806</td><td>application_1732639283265_2765</td><td>pyspark</td><td>idle</td><td><a target=\"_blank\" href=\"http://ip-192-168-1-36.eu-central-1.compute.internal:20888/proxy/application_1732639283265_2765/\">Link</a></td><td><a target=\"_blank\" href=\"http://ip-192-168-1-247.eu-central-1.compute.internal:8042/node/containerlogs/container_1732639283265_2765_01_000001/livy\">Link</a></td><td>None</td><td></td></tr><tr><td>2808</td><td>application_1732639283265_2767</td><td>pyspark</td><td>idle</td><td><a target=\"_blank\" href=\"http://ip-192-168-1-36.eu-central-1.compute.internal:20888/proxy/application_1732639283265_2767/\">Link</a></td><td><a target=\"_blank\" href=\"http://ip-192-168-1-94.eu-central-1.compute.internal:8042/node/containerlogs/container_1732639283265_2767_01_000001/livy\">Link</a></td><td>None</td><td></td></tr><tr><td>2812</td><td>application_1732639283265_2771</td><td>pyspark</td><td>idle</td><td><a target=\"_blank\" href=\"http://ip-192-168-1-36.eu-central-1.compute.internal:20888/proxy/application_1732639283265_2771/\">Link</a></td><td><a target=\"_blank\" href=\"http://ip-192-168-1-94.eu-central-1.compute.internal:8042/node/containerlogs/container_1732639283265_2771_01_000001/livy\">Link</a></td><td>None</td><td></td></tr><tr><td>2816</td><td>application_1732639283265_2775</td><td>pyspark</td><td>idle</td><td><a target=\"_blank\" href=\"http://ip-192-168-1-36.eu-central-1.compute.internal:20888/proxy/application_1732639283265_2775/\">Link</a></td><td><a target=\"_blank\" href=\"http://ip-192-168-1-181.eu-central-1.compute.internal:8042/node/containerlogs/container_1732639283265_2775_01_000001/livy\">Link</a></td><td>None</td><td></td></tr><tr><td>2817</td><td>application_1732639283265_2776</td><td>pyspark</td><td>idle</td><td><a target=\"_blank\" href=\"http://ip-192-168-1-36.eu-central-1.compute.internal:20888/proxy/application_1732639283265_2776/\">Link</a></td><td><a target=\"_blank\" href=\"http://ip-192-168-1-112.eu-central-1.compute.internal:8042/node/containerlogs/container_1732639283265_2776_01_000002/livy\">Link</a></td><td>None</td><td></td></tr><tr><td>2824</td><td>application_1732639283265_2783</td><td>pyspark</td><td>idle</td><td><a target=\"_blank\" href=\"http://ip-192-168-1-36.eu-central-1.compute.internal:20888/proxy/application_1732639283265_2783/\">Link</a></td><td><a target=\"_blank\" href=\"http://ip-192-168-1-166.eu-central-1.compute.internal:8042/node/containerlogs/container_1732639283265_2783_01_000002/livy\">Link</a></td><td>None</td><td></td></tr><tr><td>2825</td><td>application_1732639283265_2784</td><td>pyspark</td><td>idle</td><td><a target=\"_blank\" href=\"http://ip-192-168-1-36.eu-central-1.compute.internal:20888/proxy/application_1732639283265_2784/\">Link</a></td><td><a target=\"_blank\" href=\"http://ip-192-168-1-91.eu-central-1.compute.internal:8042/node/containerlogs/container_1732639283265_2784_01_000001/livy\">Link</a></td><td>None</td><td></td></tr><tr><td>2827</td><td>application_1732639283265_2786</td><td>pyspark</td><td>idle</td><td><a target=\"_blank\" href=\"http://ip-192-168-1-36.eu-central-1.compute.internal:20888/proxy/application_1732639283265_2786/\">Link</a></td><td><a target=\"_blank\" href=\"http://ip-192-168-1-233.eu-central-1.compute.internal:8042/node/containerlogs/container_1732639283265_2786_01_000001/livy\">Link</a></td><td>None</td><td></td></tr><tr><td>2829</td><td>application_1732639283265_2788</td><td>pyspark</td><td>idle</td><td><a target=\"_blank\" href=\"http://ip-192-168-1-36.eu-central-1.compute.internal:20888/proxy/application_1732639283265_2788/\">Link</a></td><td><a target=\"_blank\" href=\"http://ip-192-168-1-112.eu-central-1.compute.internal:8042/node/containerlogs/container_1732639283265_2788_01_000001/livy\">Link</a></td><td>None</td><td></td></tr><tr><td>2830</td><td>application_1732639283265_2789</td><td>pyspark</td><td>idle</td><td><a target=\"_blank\" href=\"http://ip-192-168-1-36.eu-central-1.compute.internal:20888/proxy/application_1732639283265_2789/\">Link</a></td><td><a target=\"_blank\" href=\"http://ip-192-168-1-91.eu-central-1.compute.internal:8042/node/containerlogs/container_1732639283265_2789_01_000002/livy\">Link</a></td><td>None</td><td></td></tr><tr><td>2832</td><td>application_1732639283265_2791</td><td>pyspark</td><td>idle</td><td><a target=\"_blank\" href=\"http://ip-192-168-1-36.eu-central-1.compute.internal:20888/proxy/application_1732639283265_2791/\">Link</a></td><td><a target=\"_blank\" href=\"http://ip-192-168-1-193.eu-central-1.compute.internal:8042/node/containerlogs/container_1732639283265_2791_01_000002/livy\">Link</a></td><td>None</td><td></td></tr><tr><td>2838</td><td>application_1732639283265_2797</td><td>pyspark</td><td>idle</td><td><a target=\"_blank\" href=\"http://ip-192-168-1-36.eu-central-1.compute.internal:20888/proxy/application_1732639283265_2797/\">Link</a></td><td><a target=\"_blank\" href=\"http://ip-192-168-1-247.eu-central-1.compute.internal:8042/node/containerlogs/container_1732639283265_2797_01_000001/livy\">Link</a></td><td>None</td><td></td></tr><tr><td>2842</td><td>application_1732639283265_2801</td><td>pyspark</td><td>idle</td><td><a target=\"_blank\" href=\"http://ip-192-168-1-36.eu-central-1.compute.internal:20888/proxy/application_1732639283265_2801/\">Link</a></td><td><a target=\"_blank\" href=\"http://ip-192-168-1-227.eu-central-1.compute.internal:8042/node/containerlogs/container_1732639283265_2801_01_000002/livy\">Link</a></td><td>None</td><td></td></tr><tr><td>2851</td><td>application_1732639283265_2810</td><td>pyspark</td><td>idle</td><td><a target=\"_blank\" href=\"http://ip-192-168-1-36.eu-central-1.compute.internal:20888/proxy/application_1732639283265_2810/\">Link</a></td><td><a target=\"_blank\" href=\"http://ip-192-168-1-178.eu-central-1.compute.internal:8042/node/containerlogs/container_1732639283265_2810_01_000001/livy\">Link</a></td><td>None</td><td></td></tr><tr><td>2852</td><td>application_1732639283265_2811</td><td>pyspark</td><td>idle</td><td><a target=\"_blank\" href=\"http://ip-192-168-1-36.eu-central-1.compute.internal:20888/proxy/application_1732639283265_2811/\">Link</a></td><td><a target=\"_blank\" href=\"http://ip-192-168-1-178.eu-central-1.compute.internal:8042/node/containerlogs/container_1732639283265_2811_01_000001/livy\">Link</a></td><td>None</td><td></td></tr><tr><td>2884</td><td>application_1732639283265_2843</td><td>pyspark</td><td>idle</td><td><a target=\"_blank\" href=\"http://ip-192-168-1-36.eu-central-1.compute.internal:20888/proxy/application_1732639283265_2843/\">Link</a></td><td><a target=\"_blank\" href=\"http://ip-192-168-1-94.eu-central-1.compute.internal:8042/node/containerlogs/container_1732639283265_2843_01_000001/livy\">Link</a></td><td>None</td><td></td></tr><tr><td>2885</td><td>application_1732639283265_2844</td><td>pyspark</td><td>idle</td><td><a target=\"_blank\" href=\"http://ip-192-168-1-36.eu-central-1.compute.internal:20888/proxy/application_1732639283265_2844/\">Link</a></td><td><a target=\"_blank\" href=\"http://ip-192-168-1-91.eu-central-1.compute.internal:8042/node/containerlogs/container_1732639283265_2844_01_000001/livy\">Link</a></td><td>None</td><td></td></tr><tr><td>2887</td><td>application_1732639283265_2846</td><td>pyspark</td><td>idle</td><td><a target=\"_blank\" href=\"http://ip-192-168-1-36.eu-central-1.compute.internal:20888/proxy/application_1732639283265_2846/\">Link</a></td><td><a target=\"_blank\" href=\"http://ip-192-168-1-80.eu-central-1.compute.internal:8042/node/containerlogs/container_1732639283265_2846_01_000001/livy\">Link</a></td><td>None</td><td></td></tr><tr><td>2891</td><td>application_1732639283265_2850</td><td>pyspark</td><td>idle</td><td><a target=\"_blank\" href=\"http://ip-192-168-1-36.eu-central-1.compute.internal:20888/proxy/application_1732639283265_2850/\">Link</a></td><td><a target=\"_blank\" href=\"http://ip-192-168-1-203.eu-central-1.compute.internal:8042/node/containerlogs/container_1732639283265_2850_01_000001/livy\">Link</a></td><td>None</td><td></td></tr><tr><td>2894</td><td>application_1732639283265_2853</td><td>pyspark</td><td>idle</td><td><a target=\"_blank\" href=\"http://ip-192-168-1-36.eu-central-1.compute.internal:20888/proxy/application_1732639283265_2853/\">Link</a></td><td><a target=\"_blank\" href=\"http://ip-192-168-1-112.eu-central-1.compute.internal:8042/node/containerlogs/container_1732639283265_2853_01_000001/livy\">Link</a></td><td>None</td><td>✔</td></tr></table>"
      ],
      "text/plain": [
       "<IPython.core.display.HTML object>"
      ]
     },
     "metadata": {},
     "output_type": "display_data"
    }
   ],
   "source": [
    "%%configure -f\n",
    "{\n",
    "    \"conf\": {\n",
    "        \"spark.executor.instances\": \"8\",\n",
    "        \"spark.executor.memory\": \"2g\",\n",
    "        \"spark.executor.cores\": \"1\",\n",
    "        \"spark.driver.memory\": \"2g\"\n",
    "    }\n",
    "}"
   ]
  },
  {
   "cell_type": "code",
   "execution_count": 42,
   "id": "12ecfd1a-f7eb-4fca-8c61-a3dd45c8223b",
   "metadata": {
    "tags": []
   },
   "outputs": [
    {
     "data": {
      "application/vnd.jupyter.widget-view+json": {
       "model_id": "",
       "version_major": 2,
       "version_minor": 0
      },
      "text/plain": [
       "FloatProgress(value=0.0, bar_style='info', description='Progress:', layout=Layout(height='25px', width='50%'),…"
      ]
     },
     "metadata": {},
     "output_type": "display_data"
    }
   ],
   "source": [
    "from sedona.spark import *\n",
    "from pyspark.sql import SparkSession\n",
    "from pathlib import Path\n",
    "from pyspark.sql import DataFrame\n",
    "from pyspark.sql.window import Window\n",
    "from pyspark.sql.functions import to_date, to_timestamp, col, year, month, desc, rank, when, count, lower,row_number, sum, round, avg\n",
    "import time\n",
    "import numpy as np\n",
    "\n",
    "def query_5(show_res=True):\n",
    "    \n",
    "    spark = SparkSession.builder.appName(\"Query5_DataFrame\").getOrCreate()\n",
    "    sedona = SedonaContext.create(spark)\n",
    "\n",
    "    group_number = \"32\"\n",
    "    s3_path = \"s3://groups-bucket-dblab-905418150721/group\"+group_number+\"/assigment_parquet_files/\"\n",
    "\n",
    "\n",
    "    df_parquet_file = spark.read.parquet(s3_path+\"criminal_parquet.parquet\")\n",
    "    \n",
    "    df_Police_stations_parquet_file = spark.read.parquet(s3_path+\"LA_Police_Stations.parquet\")\n",
    "    df_filtered_crimes = df_parquet_file.filter(\n",
    "        (col('Weapon Used Cd') >= 100) &\n",
    "        (col('Weapon Used Cd') < 200) &\n",
    "        (col('LAT') != 0.0) &\n",
    "        (col('LON') != 0.0)\n",
    "    )\n",
    "\n",
    "    df_joined = df_parquet_file.join(\n",
    "        df_Police_stations_parquet_file,\n",
    "        df_parquet_file[\"AREA\"] == df_Police_stations_parquet_file[\"PREC\"],\n",
    "        \"inner\"\n",
    "    )\n",
    "\n",
    "    df_GeomPoints = df_joined.withColumn(\"pointPoliceStation\", ST_Point(\"Y\", \"X\")).withColumn(\"pointCrime\", ST_Point(\"LAT\", \"LON\"))\n",
    "    df_distance = df_GeomPoints.withColumn(\"distance\", ST_DistanceSphere(\"pointPoliceStation\", \"pointCrime\")/1000) # divide with 1000 to conver into km\n",
    "    df_distance = df_distance.select(\n",
    "        col(\"LAT\").alias(\"crime_LAT\"),\n",
    "        col(\"LON\").alias(\"crime_LON\"),\n",
    "        col(\"Y\").alias(\"station_LAT\"),\n",
    "        col(\"X\").alias(\"station_LON\"),\n",
    "        col(\"DIVISION\").alias(\"division\"),\n",
    "        col(\"distance\")\n",
    "    )\n",
    "\n",
    "    # Calculate average distance by division\n",
    "    average_distance_by_division = df_distance.groupBy(\"division\").agg(\n",
    "        avg(\"distance\").alias(\"average_distance\"),\n",
    "        count(\"*\").alias(\"number_of_incidents\")\n",
    "    ).orderBy(desc(\"number_of_incidents\"))\n",
    "\n",
    "    if show_res:\n",
    "        average_distance_by_division.show(50)"
   ]
  },
  {
   "cell_type": "code",
   "execution_count": 43,
   "id": "f258cc64-11b7-4133-b94a-8514ee07dcd5",
   "metadata": {
    "tags": []
   },
   "outputs": [
    {
     "data": {
      "application/vnd.jupyter.widget-view+json": {
       "model_id": "",
       "version_major": 2,
       "version_minor": 0
      },
      "text/plain": [
       "FloatProgress(value=0.0, bar_style='info', description='Progress:', layout=Layout(height='25px', width='50%'),…"
      ]
     },
     "metadata": {},
     "output_type": "display_data"
    },
    {
     "name": "stdout",
     "output_type": "stream",
     "text": [
      "[10.835430145263672, 5.542808532714844, 5.285247325897217, 6.0536949634552, 4.799799680709839, 5.154601097106934, 3.6206283569335938, 4.260501384735107, 3.1572768688201904, 3.575212240219116]\n",
      "Average execution time: 5.228520059585572\n",
      "+----------------+------------------+-------------------+\n",
      "|        division|  average_distance|number_of_incidents|\n",
      "+----------------+------------------+-------------------+\n",
      "|     77TH STREET|14.653158550211728|             206981|\n",
      "|       SOUTHWEST|12.004761104476955|             192367|\n",
      "|         PACIFIC|   22.692338743002|             171166|\n",
      "|         CENTRAL| 19.70834405698558|             166946|\n",
      "| NORTH HOLLYWOOD|15.639629476751335|             164710|\n",
      "|       SOUTHEAST|17.914168585079434|             161256|\n",
      "|       HOLLYWOOD| 34.06244353940196|             151053|\n",
      "|          NEWTON|12.480201162658124|             148886|\n",
      "|         OLYMPIC|16.454196994939856|             145135|\n",
      "|         MISSION|18.632410871185165|             143777|\n",
      "|       NORTHEAST|12.726693877994608|             142833|\n",
      "|        VAN NUYS|13.560290997563111|             142327|\n",
      "|         TOPANGA|  8.57440290444981|             138708|\n",
      "|      DEVONSHIRE|18.709941672369965|             138044|\n",
      "|        WILSHIRE| 18.22975313338925|             136374|\n",
      "|         RAMPART|15.761616075213329|             136104|\n",
      "|WEST LOS ANGELES|14.014595600976987|             134369|\n",
      "|          HARBOR|13.925649980347952|             133031|\n",
      "|     WEST VALLEY|11.429658796267868|             131585|\n",
      "|      HOLLENBECK|18.219742623793604|             114665|\n",
      "|        FOOTHILL|15.754750128119483|             113020|\n",
      "+----------------+------------------+-------------------+"
     ]
    }
   ],
   "source": [
    "times_lst = []\n",
    "for i in range(10):\n",
    "    start_time = time.time()\n",
    "    query_5(show_res=False)\n",
    "    times_lst.append(time.time() - start_time)\n",
    "print(times_lst)\n",
    "print(f'Average execution time: {np.mean(times_lst)}')\n",
    "query_5(show_res=True)"
   ]
  },
  {
   "cell_type": "markdown",
   "id": "693cc5cc-f772-4053-90fa-138be95ef911",
   "metadata": {},
   "source": [
    "## "
   ]
  }
 ],
 "metadata": {
  "kernelspec": {
   "display_name": "Sparkmagic (PySpark)",
   "language": "python",
   "name": "pysparkkernel"
  },
  "language_info": {
   "codemirror_mode": {
    "name": "python",
    "version": 3
   },
   "file_extension": ".py",
   "mimetype": "text/x-python",
   "name": "pyspark",
   "pygments_lexer": "python3"
  }
 },
 "nbformat": 4,
 "nbformat_minor": 5
}

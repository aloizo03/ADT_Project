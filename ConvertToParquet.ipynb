{
 "cells": [
  {
   "cell_type": "markdown",
   "id": "c40083ac-8e7a-4545-a890-31802d417cad",
   "metadata": {},
   "source": [
    "### Convert to parquet"
   ]
  },
  {
   "cell_type": "code",
   "execution_count": 1,
   "id": "db483f15-1dd6-4913-8429-da31539680d3",
   "metadata": {
    "tags": []
   },
   "outputs": [
    {
     "name": "stdout",
     "output_type": "stream",
     "text": [
      "Starting Spark application\n"
     ]
    },
    {
     "data": {
      "text/html": [
       "<table>\n",
       "<tr><th>ID</th><th>YARN Application ID</th><th>Kind</th><th>State</th><th>Spark UI</th><th>Driver log</th><th>User</th><th>Current session?</th></tr><tr><td>1906</td><td>application_1732639283265_1867</td><td>pyspark</td><td>idle</td><td><a target=\"_blank\" href=\"http://ip-192-168-1-36.eu-central-1.compute.internal:20888/proxy/application_1732639283265_1867/\">Link</a></td><td><a target=\"_blank\" href=\"http://ip-192-168-1-203.eu-central-1.compute.internal:8042/node/containerlogs/container_1732639283265_1867_01_000001/livy\">Link</a></td><td>None</td><td>✔</td></tr></table>"
      ],
      "text/plain": [
       "<IPython.core.display.HTML object>"
      ]
     },
     "metadata": {},
     "output_type": "display_data"
    },
    {
     "data": {
      "application/vnd.jupyter.widget-view+json": {
       "model_id": "",
       "version_major": 2,
       "version_minor": 0
      },
      "text/plain": [
       "FloatProgress(value=0.0, bar_style='info', description='Progress:', layout=Layout(height='25px', width='50%'),…"
      ]
     },
     "metadata": {},
     "output_type": "display_data"
    },
    {
     "name": "stdout",
     "output_type": "stream",
     "text": [
      "SparkSession available as 'spark'.\n"
     ]
    },
    {
     "data": {
      "application/vnd.jupyter.widget-view+json": {
       "model_id": "",
       "version_major": 2,
       "version_minor": 0
      },
      "text/plain": [
       "FloatProgress(value=0.0, bar_style='info', description='Progress:', layout=Layout(height='25px', width='50%'),…"
      ]
     },
     "metadata": {},
     "output_type": "display_data"
    }
   ],
   "source": [
    "from pyspark.sql import SparkSession\n",
    "# To log our application's execution time:\n",
    "from pyspark.sql.functions import to_date, to_timestamp, col, year, month, lower, to_timestamp, regexp_replace\n",
    "import time"
   ]
  },
  {
   "cell_type": "code",
   "execution_count": 10,
   "id": "4cbce426-7a39-43a6-8693-e6a944c7ee79",
   "metadata": {
    "tags": []
   },
   "outputs": [
    {
     "data": {
      "application/vnd.jupyter.widget-view+json": {
       "model_id": "",
       "version_major": 2,
       "version_minor": 0
      },
      "text/plain": [
       "FloatProgress(value=0.0, bar_style='info', description='Progress:', layout=Layout(height='25px', width='50%'),…"
      ]
     },
     "metadata": {},
     "output_type": "display_data"
    }
   ],
   "source": [
    "# Read data\n",
    "spark = SparkSession \\\n",
    "    .builder \\\n",
    "    .appName(\"Convert from csv to Parquet file format\") \\\n",
    "    .getOrCreate()\n",
    "\n",
    "df1 = spark.read.csv('s3://initial-notebook-data-bucket-dblab-905418150721/CrimeData/Crime_Data_from_2010_to_2019_20241101.csv', header=True)\n",
    "df2 = spark.read.csv('s3://initial-notebook-data-bucket-dblab-905418150721/CrimeData/Crime_Data_from_2020_to_Present_20241101.csv', header=True)\n",
    "\n",
    "# Union all the data\n",
    "df_merged_csv = df1.union(df2).dropDuplicates()\n",
    "\n",
    "df_merged_csv = df_merged_csv.withColumn('Date Rptd', to_timestamp(df_merged_csv['Date Rptd'], 'MM/dd/yyyy hh:mm:ss a'))\n",
    "df_merged_csv = df_merged_csv.withColumn('DATE OCC', to_timestamp(df_merged_csv['DATE OCC'], 'MM/dd/yyyy hh:mm:ss a'))\n",
    "df_merged_csv = df_merged_csv.withColumn(\"Vict Age\", col(\"Vict Age\").cast(\"int\"))\n",
    "df_merged_csv = df_merged_csv.withColumn(\"LAT\", col(\"LAT\").cast(\"double\"))\n",
    "df_merged_csv = df_merged_csv.withColumn(\"LON\", col(\"LON\").cast(\"double\"))\n",
    "df_merged_csv = df_merged_csv.withColumn(\"Crm Cd Desc\", lower(col(\"Crm Cd Desc\")))\n",
    "df_merged_csv = df_merged_csv.withColumn(\"Status Desc\", lower(col(\"Status Desc\")))\n",
    "df_merged_csv = df_merged_csv.withColumn('Weapon Used Cd', col(\"Weapon Used Cd\").cast('int'))\n",
    "df_merged_csv = df_merged_csv.withColumn('AREA', col(\"AREA \").cast('int'))\n",
    "\n",
    "df_merged_csv = df_merged_csv.withColumn('Year', year('DATE OCC')) \\\n",
    "        .withColumn(\"Month\", month(\"DATE OCC\"))\n",
    "\n"
   ]
  },
  {
   "cell_type": "code",
   "execution_count": 22,
   "id": "91e2aab9-df29-4f33-802d-28a724032985",
   "metadata": {
    "tags": []
   },
   "outputs": [
    {
     "data": {
      "application/vnd.jupyter.widget-view+json": {
       "model_id": "",
       "version_major": 2,
       "version_minor": 0
      },
      "text/plain": [
       "FloatProgress(value=0.0, bar_style='info', description='Progress:', layout=Layout(height='25px', width='50%'),…"
      ]
     },
     "metadata": {},
     "output_type": "display_data"
    },
    {
     "name": "stdout",
     "output_type": "stream",
     "text": [
      "+---------+-------------------+-------------------+--------+-----+-----------+-----------+--------+------+--------------------+--------------------+--------+--------+------------+---------+--------------------+--------------+--------------------+------+------------+--------+--------+--------+--------+--------------------+--------------------+-------+---------+----+----+-----+\n",
      "|    DR_NO|          Date Rptd|           DATE OCC|TIME OCC|AREA |  AREA NAME|Rpt Dist No|Part 1-2|Crm Cd|         Crm Cd Desc|             Mocodes|Vict Age|Vict Sex|Vict Descent|Premis Cd|         Premis Desc|Weapon Used Cd|         Weapon Desc|Status| Status Desc|Crm Cd 1|Crm Cd 2|Crm Cd 3|Crm Cd 4|            LOCATION|        Cross Street|    LAT|      LON|AREA|Year|Month|\n",
      "+---------+-------------------+-------------------+--------+-----+-----------+-----------+--------+------+--------------------+--------------------+--------+--------+------------+---------+--------------------+--------------+--------------------+------+------------+--------+--------+--------+--------+--------------------+--------------------+-------+---------+----+----+-----+\n",
      "|191912172|2019-06-20 00:00:00|2019-06-20 00:00:00|    1350|   19|    Mission|       1985|       1|   442|shoplifting - pet...|                0325|      21|       M|           W|      405|      CLOTHING STORE|          NULL|                NULL|    IC| invest cont|     442|    NULL|    NULL|    NULL|8400    VAN NUYS ...|                NULL|34.2232|-118.4488|  19|2019|    6|\n",
      "|191111450|2019-06-02 00:00:00|2019-06-02 00:00:00|    1730|   11|  Northeast|       1151|       2|   624|battery - simple ...|           1266 0401|      25|       M|           H|      701|            HOSPITAL|           400|STRONG-ARM (HANDS...|    AA|adult arrest|     624|    NULL|    NULL|    NULL|4800 W  SUNSET   ...|                NULL|34.0982| -118.294|  11|2019|    6|\n",
      "|190616163|2019-07-24 00:00:00|2019-07-18 00:00:00|    0200|   06|  Hollywood|       0669|       2|   740|vandalism - felon...|                0329|       0|       X|           X|      203|      OTHER BUSINESS|          NULL|                NULL|    IC| invest cont|     740|    NULL|    NULL|    NULL|5400    SANTA MON...|                NULL|34.0929|-118.3048|   6|2019|    7|\n",
      "|202105618|2020-02-05 00:00:00|2019-06-01 00:00:00|    0900|   21|    Topanga|       2169|       1|   341|theft-grand ($950...|                0344|      37|       M|           W|      501|SINGLE FAMILY DWE...|          NULL|                NULL|    AO| adult other|     341|    NULL|    NULL|    NULL|5900    PENFIELD ...|                NULL|34.1785|-118.5698|  21|2019|    6|\n",
      "|191905556|2019-02-02 00:00:00|2019-02-02 00:00:00|    0840|   19|    Mission|       1918|       2|   624|battery - simple ...|           2028 0416|      43|       M|           H|      402|              MARKET|           400|STRONG-ARM (HANDS...|    IC| invest cont|     624|    NULL|    NULL|    NULL|13700    FOOTHILL...|                NULL|34.3086|-118.4317|  19|2019|    2|\n",
      "|190608143|2019-03-14 00:00:00|2019-03-14 00:00:00|    1950|   06|  Hollywood|       0628|       1|   442|shoplifting - pet...|      0325 0601 2004|       0|       X|           X|      402|              MARKET|          NULL|                NULL|    IC| invest cont|     442|    NULL|    NULL|    NULL|5800    FRANKLIN ...|                NULL|34.1084|-118.3213|   6|2019|    3|\n",
      "|191819309|2019-09-09 00:00:00|2019-09-09 00:00:00|    1020|   18|  Southeast|       1802|       1|   210|             robbery|0429 1223 0342 04...|      40|       M|           H|      101|              STREET|           400|STRONG-ARM (HANDS...|    IC| invest cont|     210|    NULL|    NULL|    NULL|88TH             ...|            BROADWAY|33.9572|-118.2782|  18|2019|    9|\n",
      "|190605629|2019-01-31 00:00:00|2019-01-29 00:00:00|    1200|   06|  Hollywood|       0663|       1|   121|      rape, forcible|0400 0500 0522 14...|      13|       F|           B|      720|  JUNIOR HIGH SCHOOL|           400|STRONG-ARM (HANDS...|    IC| invest cont|     121|     998|    NULL|    NULL|900 N  LAS PALMAS...|                NULL|34.0871|-118.3363|   6|2019|    1|\n",
      "|192104395|2019-01-11 00:00:00|2019-01-10 00:00:00|    1830|   21|    Topanga|       2141|       1|   341|theft-grand ($950...|                0344|      41|       M|           O|      707|      GARAGE/CARPORT|          NULL|                NULL|    IC| invest cont|     341|    NULL|    NULL|    NULL|6600    VALLEY CI...|                NULL|34.1904|-118.6561|  21|2019|    1|\n",
      "|190506374|2019-02-23 00:00:00|2019-01-03 00:00:00|    2330|   05|     Harbor|       0517|       2|   745|vandalism - misde...|                0329|      42|       F|           H|      501|SINGLE FAMILY DWE...|          NULL|                NULL|    AO| adult other|     745|    NULL|    NULL|    NULL|1100    HYATT    ...|                NULL|33.7851|-118.2541|   5|2019|    1|\n",
      "|191011608|2019-06-27 00:00:00|2019-06-20 00:00:00|    0900|   10|West Valley|       1031|       1|   330|burglary from veh...|                0352|      55|       F|           B|      108|         PARKING LOT|          NULL|                NULL|    IC| invest cont|     330|    NULL|    NULL|    NULL|19400    GILMORE ...|                NULL|34.1876|-118.5573|  10|2019|    6|\n",
      "|191106614|2019-02-22 00:00:00|2019-02-17 00:00:00|    1200|   11|  Northeast|       1136|       1|   440|theft plain - pet...|                0344|      53|       M|           H|      119|  PORCH, RESIDENTIAL|          NULL|                NULL|    IC| invest cont|     440|    NULL|    NULL|    NULL|1000    EL PASO  ...|                NULL|34.1161|-118.2132|  11|2019|    2|\n",
      "|191404586|2019-01-10 00:00:00|2019-01-09 00:00:00|    1940|   14|    Pacific|       1488|       1|   440|theft plain - pet...|                0344|      55|       M|           A|      203|      OTHER BUSINESS|          NULL|                NULL|    IC| invest cont|     440|    NULL|    NULL|    NULL|5800 W  MANCHESTE...|                NULL|33.9599|-118.3832|  14|2019|    1|\n",
      "|190514704|2019-08-28 00:00:00|2019-08-14 00:00:00|    1535|   05|     Harbor|       0563|       2|   662|  bunco, grand theft|      0701 0344 0913|      48|       F|           H|      502|MULTI-UNIT DWELLI...|          NULL|                NULL|    IC| invest cont|     662|    NULL|    NULL|    NULL|500 W  14TH      ...|                NULL|33.7315|-118.2879|   5|2019|    8|\n",
      "|190124553|2019-10-07 00:00:00|2019-10-06 00:00:00|    1100|   01|    Central|       0165|       1|   330|burglary from veh...|           1307 0344|      33|       M|           H|      101|              STREET|          NULL|                NULL|    IC| invest cont|     330|    NULL|    NULL|    NULL|LOS ANGELES      ...|6TH              ...|34.0433|-118.2504|   1|2019|   10|\n",
      "|190315396|2019-06-21 00:00:00|2019-06-21 00:00:00|    1330|   03|  Southwest|       0398|       2|   624|battery - simple ...|1822 1309 0342 04...|      71|       F|           B|      101|              STREET|           500|UNKNOWN WEAPON/OT...|    IC| invest cont|     624|     647|    NULL|    NULL|              VERNON|           E  HOOVER|34.0037|-118.2871|   3|2019|    6|\n",
      "|191912780|2019-07-02 00:00:00|2019-07-01 00:00:00|    1830|   19|    Mission|       1959|       1|   330|burglary from veh...|           0344 1307|      38|       M|           H|      101|              STREET|          NULL|                NULL|    IC| invest cont|     330|    NULL|    NULL|    NULL|9800    ARLETA   ...|                NULL| 34.248|-118.4324|  19|2019|    7|\n",
      "|190709386|2019-04-18 00:00:00|2019-04-12 00:00:00|    1250|   07|   Wilshire|       0752|       2|   888|         trespassing|                1501|      39|       F|           W|      231|  DAY CARE/CHILDREN*|          NULL|                NULL|    IC| invest cont|     888|    NULL|    NULL|    NULL|1000 S  FAIRFAX  ...|                NULL|34.0558|-118.3706|   7|2019|    4|\n",
      "|190719964|2019-11-24 00:00:00|2019-11-24 00:00:00|    0045|   07|   Wilshire|       0749|       1|   210|             robbery|           0344 0416|      18|       M|           H|      102|            SIDEWALK|           400|STRONG-ARM (HANDS...|    IC| invest cont|     210|    NULL|    NULL|    NULL|CRENSHAW         ...|OLYMPIC          ...|34.0547| -118.323|   7|2019|   11|\n",
      "|190120679|2019-08-12 00:00:00|2019-08-12 00:00:00|    0400|   01|    Central|       0157|       2|   624|battery - simple ...| 0416 1218 2004 2060|      60|       M|           H|      102|            SIDEWALK|           400|STRONG-ARM (HANDS...|    IC| invest cont|     624|    NULL|    NULL|    NULL|                 5TH|           SAN PEDRO|34.0442|-118.2439|   1|2019|    8|\n",
      "+---------+-------------------+-------------------+--------+-----+-----------+-----------+--------+------+--------------------+--------------------+--------+--------+------------+---------+--------------------+--------------+--------------------+------+------------+--------+--------+--------+--------+--------------------+--------------------+-------+---------+----+----+-----+\n",
      "only showing top 20 rows"
     ]
    }
   ],
   "source": [
    "# df_merged_csv.show()"
   ]
  },
  {
   "cell_type": "code",
   "execution_count": 11,
   "id": "03a265a1-3831-4d48-836a-9ec58905b46d",
   "metadata": {
    "tags": []
   },
   "outputs": [
    {
     "data": {
      "application/vnd.jupyter.widget-view+json": {
       "model_id": "",
       "version_major": 2,
       "version_minor": 0
      },
      "text/plain": [
       "FloatProgress(value=0.0, bar_style='info', description='Progress:', layout=Layout(height='25px', width='50%'),…"
      ]
     },
     "metadata": {},
     "output_type": "display_data"
    }
   ],
   "source": [
    "group_number = \"32\"\n",
    "s3_path = \"s3://groups-bucket-dblab-905418150721/group\"+group_number+\"/assigment_parquet_files/\"\n",
    "df_merged_csv.write.mode(\"overwrite\").parquet(s3_path+\"criminal_parquet.parquet\")\n"
   ]
  },
  {
   "cell_type": "code",
   "execution_count": 12,
   "id": "0f0e759a-6036-4b16-a583-a5941790c590",
   "metadata": {
    "tags": []
   },
   "outputs": [
    {
     "data": {
      "application/vnd.jupyter.widget-view+json": {
       "model_id": "",
       "version_major": 2,
       "version_minor": 0
      },
      "text/plain": [
       "FloatProgress(value=0.0, bar_style='info', description='Progress:', layout=Layout(height='25px', width='50%'),…"
      ]
     },
     "metadata": {},
     "output_type": "display_data"
    }
   ],
   "source": [
    "spark = SparkSession \\\n",
    "    .builder \\\n",
    "    .appName(\"Convert from csv to Parquet file format\") \\\n",
    "    .getOrCreate()\n",
    "\n",
    "df = spark.read.csv('s3://initial-notebook-data-bucket-dblab-905418150721/LA_income_2015.csv', header=True)"
   ]
  },
  {
   "cell_type": "code",
   "execution_count": 5,
   "id": "55b1b8f1-2915-4b3b-8d52-f40051e29875",
   "metadata": {
    "tags": []
   },
   "outputs": [
    {
     "data": {
      "application/vnd.jupyter.widget-view+json": {
       "model_id": "",
       "version_major": 2,
       "version_minor": 0
      },
      "text/plain": [
       "FloatProgress(value=0.0, bar_style='info', description='Progress:', layout=Layout(height='25px', width='50%'),…"
      ]
     },
     "metadata": {},
     "output_type": "display_data"
    }
   ],
   "source": [
    "df = df.withColumn(\"Zip Code\", col(\"Zip Code\").cast(\"int\"))\n",
    "# df = df.withColumn(\"Community\", lower(col(\"Community\")))\n",
    "df_transformed = df.withColumn(\n",
    "    \"Estimated Median Income\",\n",
    "    regexp_replace(col(\"Estimated Median Income\"), \"[$,]\", \"\").cast(\"int\")\n",
    ")\n"
   ]
  },
  {
   "cell_type": "code",
   "execution_count": 6,
   "id": "4689d65d-1874-4353-a474-bdf2674b72a8",
   "metadata": {
    "tags": []
   },
   "outputs": [
    {
     "data": {
      "application/vnd.jupyter.widget-view+json": {
       "model_id": "",
       "version_major": 2,
       "version_minor": 0
      },
      "text/plain": [
       "FloatProgress(value=0.0, bar_style='info', description='Progress:', layout=Layout(height='25px', width='50%'),…"
      ]
     },
     "metadata": {},
     "output_type": "display_data"
    }
   ],
   "source": [
    "group_number = \"32\"\n",
    "s3_path = \"s3://groups-bucket-dblab-905418150721/group\"+group_number+\"/assigment_parquet_files/\"\n",
    "df_transformed.write.mode(\"overwrite\").parquet(s3_path+\"LA_Income.parquet\")\n"
   ]
  },
  {
   "cell_type": "code",
   "execution_count": 13,
   "id": "a5299685-9fd3-454d-9c59-7a9d39cc20a7",
   "metadata": {},
   "outputs": [
    {
     "data": {
      "application/vnd.jupyter.widget-view+json": {
       "model_id": "",
       "version_major": 2,
       "version_minor": 0
      },
      "text/plain": [
       "FloatProgress(value=0.0, bar_style='info', description='Progress:', layout=Layout(height='25px', width='50%'),…"
      ]
     },
     "metadata": {},
     "output_type": "display_data"
    }
   ],
   "source": [
    "spark = SparkSession \\\n",
    "    .builder \\\n",
    "    .appName(\"Convert from csv to Parquet file format\") \\\n",
    "    .getOrCreate()\n",
    "\n",
    "df = spark.read.csv('s3://initial-notebook-data-bucket-dblab-905418150721/LA_Police_Stations.csv', header=True)"
   ]
  },
  {
   "cell_type": "code",
   "execution_count": 14,
   "id": "ca44706a-b97b-420c-8bb9-1316a510c4fc",
   "metadata": {},
   "outputs": [
    {
     "data": {
      "application/vnd.jupyter.widget-view+json": {
       "model_id": "",
       "version_major": 2,
       "version_minor": 0
      },
      "text/plain": [
       "FloatProgress(value=0.0, bar_style='info', description='Progress:', layout=Layout(height='25px', width='50%'),…"
      ]
     },
     "metadata": {},
     "output_type": "display_data"
    }
   ],
   "source": [
    "df = df.withColumn('PREC', col('PREC').cast('int'))\n",
    "df = df.withColumn('X', col('X').cast('double'))\n",
    "df = df.withColumn('Y', col('Y').cast('double'))"
   ]
  },
  {
   "cell_type": "code",
   "execution_count": 15,
   "id": "a08fe14b-4999-4c0a-8783-2f99aec33a5f",
   "metadata": {},
   "outputs": [
    {
     "data": {
      "application/vnd.jupyter.widget-view+json": {
       "model_id": "",
       "version_major": 2,
       "version_minor": 0
      },
      "text/plain": [
       "FloatProgress(value=0.0, bar_style='info', description='Progress:', layout=Layout(height='25px', width='50%'),…"
      ]
     },
     "metadata": {},
     "output_type": "display_data"
    }
   ],
   "source": [
    "group_number = \"32\"\n",
    "s3_path = \"s3://groups-bucket-dblab-905418150721/group\"+group_number+\"/assigment_parquet_files/\"\n",
    "df.write.mode(\"overwrite\").parquet(s3_path+\"LA_Police_Stations.parquet\")\n"
   ]
  },
  {
   "cell_type": "code",
   "execution_count": 20,
   "id": "e21e64ac-7729-421b-8d36-a4a1844d87a7",
   "metadata": {
    "tags": []
   },
   "outputs": [
    {
     "data": {
      "application/vnd.jupyter.widget-view+json": {
       "model_id": "",
       "version_major": 2,
       "version_minor": 0
      },
      "text/plain": [
       "FloatProgress(value=0.0, bar_style='info', description='Progress:', layout=Layout(height='25px', width='50%'),…"
      ]
     },
     "metadata": {},
     "output_type": "display_data"
    }
   ],
   "source": [
    "spark = SparkSession \\\n",
    "    .builder \\\n",
    "    .appName(\"Convert from csv to Parquet file format\") \\\n",
    "    .getOrCreate()\n",
    "\n",
    "df = spark.read.csv('s3://initial-notebook-data-bucket-dblab-905418150721/RE_codes.csv', header=True)"
   ]
  },
  {
   "cell_type": "code",
   "execution_count": null,
   "id": "154efcf9-3ad8-4d3b-9219-b6acf83c9664",
   "metadata": {
    "tags": []
   },
   "outputs": [],
   "source": []
  },
  {
   "cell_type": "code",
   "execution_count": 21,
   "id": "3eb179f0-c1fc-4648-b49d-9fa09010bd72",
   "metadata": {
    "tags": []
   },
   "outputs": [
    {
     "data": {
      "application/vnd.jupyter.widget-view+json": {
       "model_id": "",
       "version_major": 2,
       "version_minor": 0
      },
      "text/plain": [
       "FloatProgress(value=0.0, bar_style='info', description='Progress:', layout=Layout(height='25px', width='50%'),…"
      ]
     },
     "metadata": {},
     "output_type": "display_data"
    }
   ],
   "source": [
    "group_number = \"32\"\n",
    "s3_path = \"s3://groups-bucket-dblab-905418150721/group\"+group_number+\"/assigment_parquet_files/\"\n",
    "df.write.mode(\"overwrite\").parquet(s3_path+\"RE_codes.parquet\")\n"
   ]
  },
  {
   "cell_type": "code",
   "execution_count": null,
   "id": "778e1aca-ab8d-4390-bd47-e1ffbd5f637e",
   "metadata": {},
   "outputs": [],
   "source": []
  }
 ],
 "metadata": {
  "kernelspec": {
   "display_name": "Sparkmagic (PySpark)",
   "language": "python",
   "name": "pysparkkernel"
  },
  "language_info": {
   "codemirror_mode": {
    "name": "python",
    "version": 3
   },
   "file_extension": ".py",
   "mimetype": "text/x-python",
   "name": "pyspark",
   "pygments_lexer": "python3"
  }
 },
 "nbformat": 4,
 "nbformat_minor": 5
}
